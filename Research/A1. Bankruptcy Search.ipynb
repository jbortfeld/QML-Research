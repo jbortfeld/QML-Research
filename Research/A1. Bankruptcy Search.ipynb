{
 "cells": [
  {
   "cell_type": "code",
   "execution_count": null,
   "metadata": {},
   "outputs": [],
   "source": [
    "%load_ext autoreload\n",
    "%autoreload 2\n",
    "\n",
    "import pandas as pd\n",
    "import numpy as np\n",
    "from Py_Files import bankruptcy_google_search as google_search\n",
    "from openai import OpenAI\n",
    "import ast\n",
    "import tqdm\n",
    "import time\n",
    "import duckduckgo_search\n"
   ]
  },
  {
   "cell_type": "markdown",
   "metadata": {},
   "source": [
    "# 0. Example Internet Search Using Google and DuckDuckGo\n"
   ]
  },
  {
   "cell_type": "code",
   "execution_count": null,
   "metadata": {},
   "outputs": [],
   "source": [
    "company_name = 'Tupperware'\n",
    "google_query = f'{company_name} declared bankruptcy chapter 11'\n",
    "results = google_search.google_bankruptcy_search(google_query, num_results=12)\n",
    "collection = []\n",
    "for r in results:\n",
    "    collection.append(' -- '.join([r.title, r.description, r.url]))\n",
    "collection"
   ]
  },
  {
   "cell_type": "code",
   "execution_count": null,
   "metadata": {},
   "outputs": [],
   "source": [
    "results = duckduckgo_search.DDGS().text(\"Tupperware declared chapter 11 bankruptcy\", max_results=10)\n",
    "for result in results:\n",
    "    print(result[\"title\"])\n",
    "    print(result[\"href\"])\n",
    "    print(result[\"body\"])\n",
    "    print()\n"
   ]
  },
  {
   "cell_type": "code",
   "execution_count": null,
   "metadata": {},
   "outputs": [],
   "source": [
    "results = duckduckgo_search.DDGS().text(\"python programming\", max_results=5)\n",
    "print(results)"
   ]
  }
 ],
 "metadata": {
  "kernelspec": {
   "display_name": "investment_analysis",
   "language": "python",
   "name": "python3"
  },
  "language_info": {
   "codemirror_mode": {
    "name": "ipython",
    "version": 3
   },
   "file_extension": ".py",
   "mimetype": "text/x-python",
   "name": "python",
   "nbconvert_exporter": "python",
   "pygments_lexer": "ipython3",
   "version": "3.12.8"
  }
 },
 "nbformat": 4,
 "nbformat_minor": 2
}
