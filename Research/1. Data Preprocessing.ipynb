{
 "cells": [
  {
   "cell_type": "code",
   "execution_count": null,
   "metadata": {},
   "outputs": [],
   "source": []
  },
  {
   "cell_type": "code",
   "execution_count": 1,
   "metadata": {},
   "outputs": [],
   "source": [
    "%load_ext autoreload\n",
    "%autoreload 2\n",
    "\n",
    "import requests\n",
    "import json\n",
    "import pandas as pd\n",
    "import numpy as np\n",
    "from requests.packages.urllib3.exceptions import InsecureRequestWarning\n",
    "requests.packages.urllib3.disable_warnings(InsecureRequestWarning)\n",
    "import time\n",
    "import datetime\n",
    "import re\n",
    "import tqdm\n",
    "import os\n",
    "import boto3\n",
    "from Py_Files import credentials\n",
    "from Py_Files import factset_api\n",
    "from Py_Files import factset_fields\n",
    "from Py_Files import qml_ratios\n",
    "\n",
    "data_dir = '/Users/joeybortfeld/Documents/QML Solutions Data/'\n",
    "s3_dir = 's3://qml-research-data/'"
   ]
  },
  {
   "cell_type": "markdown",
   "metadata": {},
   "source": [
    "# 0. Consolidate all data into a single dataframe "
   ]
  },
  {
   "cell_type": "code",
   "execution_count": 11,
   "metadata": {},
   "outputs": [],
   "source": [
    "build_from_source_files = False\n",
    "\n",
    "if build_from_source_files: \n",
    "\n",
    "    print('building from source files')\n",
    "\n",
    "    df_annual = qml_ratios.consolidate_local_data(data_dir + 'factset_data/factset_fundamentals/annual/')\n",
    "    df_annual = qml_ratios.preprocess_factset_fundamentals(df_annual, verbose=True) \n",
    "    df_annual.to_csv(data_dir + ' factset_data/factset_consolidated/annual_fundamentals_combined.csv', index=False)\n",
    "\n",
    "    df_quarterly = qml_ratios.consolidate_local_data(data_dir + 'factset_data/factset_fundamentals/quarterly/')\n",
    "    df_quarterly = qml_ratios.preprocess_factset_fundamentals(df_quarterly, verbose=True)\n",
    "    df_quarterly.to_csv(data_dir + 'factset_data/factset_consolidated/quarterly_fundamentals_combined.csv', index=False)\n",
    "\n",
    "    df_semi_annual = qml_ratios.consolidate_local_data(data_dir + 'factset_data/factset_fundamentals/semi_annual/')\n",
    "    df_semi_annual = qml_ratios.preprocess_factset_fundamentals(df_semi_annual, verbose=True)\n",
    "    df_semi_annual.to_csv(data_dir + 'factset_data/factset_consolidated/semi_annual_fundamentals_combined.csv', index=False)\n",
    "\n",
    "    # check for any columns that are not in the flow or stock variable lists\n",
    "    temp = [c for c in df_annual.columns if c not in factset_fields.flow_var_list + factset_fields.stock_var_list]    \n",
    "    print('data validation:')\n",
    "    print('unexpected columns:', temp)\n",
    "    print()\n",
    "\n",
    "    df_annual.to_csv(data_dir + 'factset_data/factset_consolidated/annual_fundamentals_combined.csv', index=False)\n",
    "    df_quarterly.to_csv(data_dir + 'factset_data/factset_consolidated/quarterly_fundamentals_combined.csv', index=False)\n",
    "    df_semi_annual.to_csv(data_dir + 'factset_data/factset_consolidated/semi_annual_fundamentals_combined.csv', index=False)\n",
    "\n",
    "else: \n",
    "\n",
    "    df_annual = pd.read_csv(data_dir + 'Factset Data/factset_consolidated/annual_fundamentals_combined.csv')\n",
    "    df_quarterly = pd.read_csv(data_dir + 'Factset Data/factset_consolidated/quarterly_fundamentals_combined.csv')\n",
    "    df_semi_annual = pd.read_csv(data_dir + 'Factset Data/factset_consolidated/semi_annual_fundamentals_combined.csv')\n"
   ]
  },
  {
   "cell_type": "code",
   "execution_count": null,
   "metadata": {},
   "outputs": [],
   "source": [
    "df_annual_formatted = qml_ratios.format_annual_data(df_annual, \n",
    "                                         flow_vars=factset_fields.flow_var_list, \n",
    "                                         stock_vars=factset_fields.stock_var_list, \n",
    "                                         verbose=True)\n",
    "\n",
    "df_quarterly_formatted = qml_ratios.format_quarterly_data(df_quarterly, \n",
    "                                              flow_vars=factset_fields.flow_var_list, \n",
    "                                              stock_vars=factset_fields.stock_var_list, \n",
    "                                              verbose=True) \n",
    "\n",
    "df_semi_annual_formatted = qml_ratios.format_semi_annual_data(df_semi_annual, \n",
    "                                              flow_vars=factset_fields.flow_var_list, \n",
    "                                              stock_vars=factset_fields.stock_var_list, \n",
    "                                              verbose=True) \n",
    "\n",
    "df_merged = qml_ratios.merge_quarterly_semi_and_annual(quarterly=df_quarterly_formatted, \n",
    "                                             semi_annual=df_semi_annual_formatted, \n",
    "                                             annual=df_annual_formatted, \n",
    "                                             flow_vars=factset_fields.flow_var_list, \n",
    "                                             stock_vars=factset_fields.stock_var_list, \n",
    "                                             cleanup=True)\n",
    "\n",
    "# construct ratios\n",
    "df = qml_ratios.build_qml_model_ratios(df_merged, verbose=True)\n",
    "\n",
    "earnings_volatility_qf = qml_ratios.calculate_earnings_volatility(df_quarterly_formatted, freq='qf')\n",
    "earnings_volatility_saf = qml_ratios.calculate_earnings_volatility(df_semi_annual_formatted, freq='saf')\n",
    "df = df.merge(earnings_volatility_qf, on=['fsym_id', 'fiscal_end_date'], how='left')\n",
    "df = df.merge(earnings_volatility_saf, on=['fsym_id', 'fiscal_end_date'], how='left')\n",
    "for var in ['net_income_vol', 'ebitda_vol', 'ebit_vol', 'sales_vol']:\n",
    "    df[var] = df[f'{var}_qf'].fillna(df[f'{var}_saf'])\n",
    "print('done')\n"
   ]
  },
  {
   "cell_type": "code",
   "execution_count": 23,
   "metadata": {},
   "outputs": [],
   "source": [
    "df.to_csv(data_dir + 'qml_modeling_data/fundamental_dataset_20250109.csv', index=False)"
   ]
  }
 ],
 "metadata": {
  "kernelspec": {
   "display_name": "investment_analysis",
   "language": "python",
   "name": "python3"
  },
  "language_info": {
   "codemirror_mode": {
    "name": "ipython",
    "version": 3
   },
   "file_extension": ".py",
   "mimetype": "text/x-python",
   "name": "python",
   "nbconvert_exporter": "python",
   "pygments_lexer": "ipython3",
   "version": "3.12.8"
  }
 },
 "nbformat": 4,
 "nbformat_minor": 2
}
