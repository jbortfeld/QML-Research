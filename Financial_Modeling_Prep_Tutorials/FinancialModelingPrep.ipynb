{
 "cells": [
  {
   "cell_type": "code",
   "execution_count": 1,
   "metadata": {},
   "outputs": [
    {
     "name": "stdout",
     "output_type": "stream",
     "text": [
      "2024-11-08 12:15:22.076623\n",
      "pandas: 2.2.1\n",
      "executable: /Users/joeybortfeld/opt/anaconda3/envs/investment_analysis/bin/python\n"
     ]
    }
   ],
   "source": [
    "%load_ext autoreload\n",
    "%autoreload 2\n",
    "\n",
    "import pandas as pd\n",
    "import numpy as np\n",
    "import time\n",
    "import datetime\n",
    "import requests\n",
    "import requests\n",
    "from bs4 import BeautifulSoup\n",
    "import tqdm\n",
    "import ast\n",
    "\n",
    "import os\n",
    "import sys\n",
    "\n",
    "import utilities as utils\n",
    "\n",
    "import matplotlib.pyplot as plt\n",
    "\n",
    "print(datetime.datetime.now())\n",
    "print('pandas:', pd.__version__)\n",
    "print('executable:', sys.executable)\n",
    "\n",
    "\n",
    "# LOCAL FILE DIRECTORY\n",
    "data_dir = '/Users/joeybortfeld/Documents/CreditGradients Data/'"
   ]
  },
  {
   "cell_type": "markdown",
   "metadata": {},
   "source": [
    "## Download Fundamental Data by Company using FinancialModelingPrep API"
   ]
  },
  {
   "cell_type": "code",
   "execution_count": 87,
   "metadata": {},
   "outputs": [
    {
     "name": "stdout",
     "output_type": "stream",
     "text": [
      "sp500 count: 503\n",
      "\n",
      "income statement columns:\n",
      "Index(['date', 'symbol', 'reportedCurrency', 'cik', 'fillingDate',\n",
      "       'acceptedDate', 'calendarYear', 'period', 'revenue', 'costOfRevenue',\n",
      "       'grossProfit', 'grossProfitRatio', 'researchAndDevelopmentExpenses',\n",
      "       'generalAndAdministrativeExpenses', 'sellingAndMarketingExpenses',\n",
      "       'sellingGeneralAndAdministrativeExpenses', 'otherExpenses',\n",
      "       'operatingExpenses', 'costAndExpenses', 'interestIncome',\n",
      "       'interestExpense', 'depreciationAndAmortization', 'ebitda',\n",
      "       'ebitdaratio', 'operatingIncome', 'operatingIncomeRatio',\n",
      "       'totalOtherIncomeExpensesNet', 'incomeBeforeTax',\n",
      "       'incomeBeforeTaxRatio', 'incomeTaxExpense', 'netIncome',\n",
      "       'netIncomeRatio', 'eps', 'epsdiluted', 'weightedAverageShsOut',\n",
      "       'weightedAverageShsOutDil', 'link', 'finalLink',\n",
      "       'data_download_timestamp'],\n",
      "      dtype='object')\n",
      "\n",
      "balance sheet columns:\n",
      "Index(['date', 'symbol', 'reportedCurrency', 'cik', 'fillingDate',\n",
      "       'acceptedDate', 'calendarYear', 'period', 'cashAndCashEquivalents',\n",
      "       'shortTermInvestments', 'cashAndShortTermInvestments', 'netReceivables',\n",
      "       'inventory', 'otherCurrentAssets', 'totalCurrentAssets',\n",
      "       'propertyPlantEquipmentNet', 'goodwill', 'intangibleAssets',\n",
      "       'goodwillAndIntangibleAssets', 'longTermInvestments', 'taxAssets',\n",
      "       'otherNonCurrentAssets', 'totalNonCurrentAssets', 'otherAssets',\n",
      "       'totalAssets', 'accountPayables', 'shortTermDebt', 'taxPayables',\n",
      "       'deferredRevenue', 'otherCurrentLiabilities', 'totalCurrentLiabilities',\n",
      "       'longTermDebt', 'deferredRevenueNonCurrent',\n",
      "       'deferredTaxLiabilitiesNonCurrent', 'otherNonCurrentLiabilities',\n",
      "       'totalNonCurrentLiabilities', 'otherLiabilities',\n",
      "       'capitalLeaseObligations', 'totalLiabilities', 'preferredStock',\n",
      "       'commonStock', 'retainedEarnings',\n",
      "       'accumulatedOtherComprehensiveIncomeLoss',\n",
      "       'othertotalStockholdersEquity', 'totalStockholdersEquity',\n",
      "       'totalEquity', 'totalLiabilitiesAndStockholdersEquity',\n",
      "       'minorityInterest', 'totalLiabilitiesAndTotalEquity',\n",
      "       'totalInvestments', 'totalDebt', 'netDebt', 'link', 'finalLink',\n",
      "       'data_download_timestamp'],\n",
      "      dtype='object')\n",
      "\n",
      "cash flow statement columns:\n",
      "Index(['date', 'symbol', 'reportedCurrency', 'cik', 'fillingDate',\n",
      "       'acceptedDate', 'calendarYear', 'period', 'netIncome',\n",
      "       'depreciationAndAmortization', 'deferredIncomeTax',\n",
      "       'stockBasedCompensation', 'changeInWorkingCapital',\n",
      "       'accountsReceivables', 'inventory', 'accountsPayables',\n",
      "       'otherWorkingCapital', 'otherNonCashItems',\n",
      "       'netCashProvidedByOperatingActivities',\n",
      "       'investmentsInPropertyPlantAndEquipment', 'acquisitionsNet',\n",
      "       'purchasesOfInvestments', 'salesMaturitiesOfInvestments',\n",
      "       'otherInvestingActivites', 'netCashUsedForInvestingActivites',\n",
      "       'debtRepayment', 'commonStockIssued', 'commonStockRepurchased',\n",
      "       'dividendsPaid', 'otherFinancingActivites',\n",
      "       'netCashUsedProvidedByFinancingActivities',\n",
      "       'effectOfForexChangesOnCash', 'netChangeInCash', 'cashAtEndOfPeriod',\n",
      "       'cashAtBeginningOfPeriod', 'operatingCashFlow', 'capitalExpenditure',\n",
      "       'freeCashFlow', 'link', 'finalLink', 'data_download_timestamp'],\n",
      "      dtype='object')\n",
      "\n",
      "done all\n"
     ]
    }
   ],
   "source": [
    "# collect sp500 constituents\n",
    "df_sp500 = utils.get_sp500_universe()\n",
    "tickers_sp500 = df_sp500['symbol'].tolist()\n",
    "\n",
    "print('sp500 count:', len(tickers_sp500))\n",
    "print()\n",
    "\n",
    "# download financial statement data for specified ticker\n",
    "this_ticker = 'A'\n",
    "df1 = utils.get_financial_statement(ticker=this_ticker, statement='income', period='annual')\n",
    "df2 = utils.get_financial_statement(ticker=this_ticker, statement='balance-sheet', period='annual')\n",
    "df3 = utils.get_financial_statement(ticker=this_ticker, statement='cash-flow', period='annual')\n",
    "\n",
    "print('income statement columns:')\n",
    "print(df1.columns)\n",
    "print()\n",
    "\n",
    "print('balance sheet columns:')\n",
    "print(df2.columns)\n",
    "print()\n",
    "\n",
    "print('cash flow statement columns:')\n",
    "print(df3.columns)\n",
    "print()\n",
    "\n",
    "print('done all')"
   ]
  },
  {
   "cell_type": "code",
   "execution_count": 4,
   "metadata": {},
   "outputs": [
    {
     "name": "stdout",
     "output_type": "stream",
     "text": [
      "duplicate count: 0\n"
     ]
    }
   ],
   "source": [
    "# build income statement, balance sheet, and cash flow statement for specified ticker\n",
    "df, column_dict = utils.build_company_financials(ticker='AAPL', period='quarter')\n",
    "print('duplicate count:', df.duplicated(subset='date', keep=False).sum())\n",
    "\n"
   ]
  },
  {
   "cell_type": "code",
   "execution_count": 27,
   "metadata": {},
   "outputs": [
    {
     "name": "stdout",
     "output_type": "stream",
     "text": [
      "done read quarterly in 0.51s\n",
      "start annual financial download at  2024-09-29 15:00:43.235224\n",
      "start bulk_build_company_financials for 503 tickers\n"
     ]
    },
    {
     "name": "stderr",
     "output_type": "stream",
     "text": [
      " 27%|██▋       | 135/503 [01:14<02:36,  2.36it/s]"
     ]
    },
    {
     "name": "stdout",
     "output_type": "stream",
     "text": [
      "error in build_company_financials with CTRA\n",
      "error in build_company_financials with CRWD\n"
     ]
    },
    {
     "name": "stderr",
     "output_type": "stream",
     "text": [
      " 27%|██▋       | 137/503 [01:14<01:42,  3.58it/s]"
     ]
    },
    {
     "name": "stdout",
     "output_type": "stream",
     "text": [
      "error in build_company_financials with CCI\n",
      "error in build_company_financials with CMI\n"
     ]
    },
    {
     "name": "stderr",
     "output_type": "stream",
     "text": [
      " 28%|██▊       | 139/503 [01:14<01:12,  5.00it/s]"
     ]
    },
    {
     "name": "stdout",
     "output_type": "stream",
     "text": [
      "error in build_company_financials with DHI\n",
      "error in build_company_financials with DTE\n"
     ]
    },
    {
     "name": "stderr",
     "output_type": "stream",
     "text": [
      " 28%|██▊       | 141/503 [01:15<01:00,  5.96it/s]"
     ]
    },
    {
     "name": "stdout",
     "output_type": "stream",
     "text": [
      "error in build_company_financials with DVA\n",
      "error in build_company_financials with DHR\n"
     ]
    },
    {
     "name": "stderr",
     "output_type": "stream",
     "text": [
      " 28%|██▊       | 143/503 [01:15<01:06,  5.43it/s]"
     ]
    },
    {
     "name": "stdout",
     "output_type": "stream",
     "text": [
      "error in build_company_financials with DRI\n",
      "error in build_company_financials with DAY\n"
     ]
    },
    {
     "name": "stderr",
     "output_type": "stream",
     "text": [
      " 29%|██▉       | 145/503 [01:15<00:56,  6.37it/s]"
     ]
    },
    {
     "name": "stdout",
     "output_type": "stream",
     "text": [
      "error in build_company_financials with DECK\n",
      "error in build_company_financials with DE\n"
     ]
    },
    {
     "name": "stderr",
     "output_type": "stream",
     "text": [
      " 29%|██▉       | 147/503 [01:16<00:53,  6.69it/s]"
     ]
    },
    {
     "name": "stdout",
     "output_type": "stream",
     "text": [
      "error in build_company_financials with DELL\n",
      "error in build_company_financials with DAL\n"
     ]
    },
    {
     "name": "stderr",
     "output_type": "stream",
     "text": [
      " 30%|██▉       | 149/503 [01:16<00:47,  7.49it/s]"
     ]
    },
    {
     "name": "stdout",
     "output_type": "stream",
     "text": [
      "error in build_company_financials with DVN\n",
      "error in build_company_financials with DXCM\n"
     ]
    },
    {
     "name": "stderr",
     "output_type": "stream",
     "text": [
      " 50%|████▉     | 251/503 [02:10<03:07,  1.34it/s]"
     ]
    },
    {
     "name": "stdout",
     "output_type": "stream",
     "text": [
      "error in build_company_financials with IR\n",
      "error in build_company_financials with PODD\n"
     ]
    },
    {
     "name": "stderr",
     "output_type": "stream",
     "text": [
      " 50%|█████     | 253/503 [02:11<01:49,  2.28it/s]"
     ]
    },
    {
     "name": "stdout",
     "output_type": "stream",
     "text": [
      "error in build_company_financials with INTC\n",
      "error in build_company_financials with ICE\n"
     ]
    },
    {
     "name": "stderr",
     "output_type": "stream",
     "text": [
      " 51%|█████     | 255/503 [02:11<01:10,  3.52it/s]"
     ]
    },
    {
     "name": "stdout",
     "output_type": "stream",
     "text": [
      "error in build_company_financials with IFF\n",
      "error in build_company_financials with IP\n"
     ]
    },
    {
     "name": "stderr",
     "output_type": "stream",
     "text": [
      " 51%|█████     | 257/503 [02:11<00:50,  4.84it/s]"
     ]
    },
    {
     "name": "stdout",
     "output_type": "stream",
     "text": [
      "error in build_company_financials with IPG\n",
      "error in build_company_financials with INTU\n"
     ]
    },
    {
     "name": "stderr",
     "output_type": "stream",
     "text": [
      " 51%|█████▏    | 259/503 [02:12<00:41,  5.87it/s]"
     ]
    },
    {
     "name": "stdout",
     "output_type": "stream",
     "text": [
      "error in build_company_financials with ISRG\n",
      "error in build_company_financials with IVZ\n"
     ]
    },
    {
     "name": "stderr",
     "output_type": "stream",
     "text": [
      " 52%|█████▏    | 261/503 [02:12<00:36,  6.62it/s]"
     ]
    },
    {
     "name": "stdout",
     "output_type": "stream",
     "text": [
      "error in build_company_financials with INVH\n",
      "error in build_company_financials with IRM\n"
     ]
    },
    {
     "name": "stderr",
     "output_type": "stream",
     "text": [
      " 52%|█████▏    | 263/503 [02:12<00:34,  7.00it/s]"
     ]
    },
    {
     "name": "stdout",
     "output_type": "stream",
     "text": [
      "error in build_company_financials with JBHT\n",
      "error in build_company_financials with SJM\n"
     ]
    },
    {
     "name": "stderr",
     "output_type": "stream",
     "text": [
      " 53%|█████▎    | 265/503 [02:12<00:33,  7.04it/s]"
     ]
    },
    {
     "name": "stdout",
     "output_type": "stream",
     "text": [
      "error in build_company_financials with JPM\n",
      "error in build_company_financials with JBL\n"
     ]
    },
    {
     "name": "stderr",
     "output_type": "stream",
     "text": [
      " 53%|█████▎    | 267/503 [02:13<00:34,  6.89it/s]"
     ]
    },
    {
     "name": "stdout",
     "output_type": "stream",
     "text": [
      "error in build_company_financials with JKHY\n",
      "error in build_company_financials with J\n"
     ]
    },
    {
     "name": "stderr",
     "output_type": "stream",
     "text": [
      " 53%|█████▎    | 269/503 [02:13<00:32,  7.28it/s]"
     ]
    },
    {
     "name": "stdout",
     "output_type": "stream",
     "text": [
      "error in build_company_financials with JNJ\n",
      "error in build_company_financials with JCI\n"
     ]
    },
    {
     "name": "stderr",
     "output_type": "stream",
     "text": [
      " 54%|█████▍    | 271/503 [02:13<00:31,  7.33it/s]"
     ]
    },
    {
     "name": "stdout",
     "output_type": "stream",
     "text": [
      "error in build_company_financials with JNPR\n",
      "error in build_company_financials with KKR\n"
     ]
    },
    {
     "name": "stderr",
     "output_type": "stream",
     "text": [
      " 54%|█████▍    | 273/503 [02:13<00:30,  7.47it/s]"
     ]
    },
    {
     "name": "stdout",
     "output_type": "stream",
     "text": [
      "error in build_company_financials with KLAC\n",
      "error in build_company_financials with K\n"
     ]
    },
    {
     "name": "stderr",
     "output_type": "stream",
     "text": [
      " 55%|█████▍    | 275/503 [02:14<00:33,  6.82it/s]"
     ]
    },
    {
     "name": "stdout",
     "output_type": "stream",
     "text": [
      "error in build_company_financials with KVUE\n",
      "error in build_company_financials with KDP\n"
     ]
    },
    {
     "name": "stderr",
     "output_type": "stream",
     "text": [
      " 55%|█████▌    | 277/503 [02:14<00:34,  6.58it/s]"
     ]
    },
    {
     "name": "stdout",
     "output_type": "stream",
     "text": [
      "error in build_company_financials with KEY\n",
      "error in build_company_financials with KEYS\n"
     ]
    },
    {
     "name": "stderr",
     "output_type": "stream",
     "text": [
      " 55%|█████▌    | 279/503 [02:14<00:30,  7.34it/s]"
     ]
    },
    {
     "name": "stdout",
     "output_type": "stream",
     "text": [
      "error in build_company_financials with KMB\n",
      "error in build_company_financials with KIM\n"
     ]
    },
    {
     "name": "stderr",
     "output_type": "stream",
     "text": [
      " 56%|█████▌    | 281/503 [02:15<00:29,  7.43it/s]"
     ]
    },
    {
     "name": "stdout",
     "output_type": "stream",
     "text": [
      "error in build_company_financials with KMI\n",
      "error in build_company_financials with KHC\n"
     ]
    },
    {
     "name": "stderr",
     "output_type": "stream",
     "text": [
      " 56%|█████▋    | 283/503 [02:15<00:29,  7.47it/s]"
     ]
    },
    {
     "name": "stdout",
     "output_type": "stream",
     "text": [
      "error in build_company_financials with KR\n",
      "error in build_company_financials with LHX\n"
     ]
    },
    {
     "name": "stderr",
     "output_type": "stream",
     "text": [
      " 57%|█████▋    | 285/503 [02:15<00:27,  7.89it/s]"
     ]
    },
    {
     "name": "stdout",
     "output_type": "stream",
     "text": [
      "error in build_company_financials with LKQ\n",
      "error in build_company_financials with LH\n"
     ]
    },
    {
     "name": "stderr",
     "output_type": "stream",
     "text": [
      " 57%|█████▋    | 287/503 [02:15<00:31,  6.85it/s]"
     ]
    },
    {
     "name": "stdout",
     "output_type": "stream",
     "text": [
      "error in build_company_financials with LRCX\n",
      "error in build_company_financials with LW\n"
     ]
    },
    {
     "name": "stderr",
     "output_type": "stream",
     "text": [
      " 57%|█████▋    | 289/503 [02:16<00:29,  7.19it/s]"
     ]
    },
    {
     "name": "stdout",
     "output_type": "stream",
     "text": [
      "error in build_company_financials with LVS\n",
      "error in build_company_financials with LDOS\n"
     ]
    },
    {
     "name": "stderr",
     "output_type": "stream",
     "text": [
      " 58%|█████▊    | 291/503 [02:16<00:27,  7.59it/s]"
     ]
    },
    {
     "name": "stdout",
     "output_type": "stream",
     "text": [
      "error in build_company_financials with LEN\n",
      "error in build_company_financials with LLY\n"
     ]
    },
    {
     "name": "stderr",
     "output_type": "stream",
     "text": [
      " 58%|█████▊    | 293/503 [02:16<00:26,  7.82it/s]"
     ]
    },
    {
     "name": "stdout",
     "output_type": "stream",
     "text": [
      "error in build_company_financials with LIN\n",
      "error in build_company_financials with LYV\n"
     ]
    },
    {
     "name": "stderr",
     "output_type": "stream",
     "text": [
      " 59%|█████▊    | 295/503 [02:16<00:26,  7.74it/s]"
     ]
    },
    {
     "name": "stdout",
     "output_type": "stream",
     "text": [
      "error in build_company_financials with LMT\n",
      "error in build_company_financials with L\n"
     ]
    },
    {
     "name": "stderr",
     "output_type": "stream",
     "text": [
      " 59%|█████▉    | 297/503 [02:17<00:27,  7.63it/s]"
     ]
    },
    {
     "name": "stdout",
     "output_type": "stream",
     "text": [
      "error in build_company_financials with LOW\n",
      "error in build_company_financials with LULU\n"
     ]
    },
    {
     "name": "stderr",
     "output_type": "stream",
     "text": [
      " 59%|█████▉    | 298/503 [02:17<00:26,  7.69it/s]"
     ]
    },
    {
     "name": "stdout",
     "output_type": "stream",
     "text": [
      "error in build_company_financials with LYB\n"
     ]
    },
    {
     "name": "stderr",
     "output_type": "stream",
     "text": [
      " 79%|███████▉  | 399/503 [03:11<01:04,  1.62it/s]"
     ]
    },
    {
     "name": "stdout",
     "output_type": "stream",
     "text": [
      "error in build_company_financials with REGN\n"
     ]
    },
    {
     "name": "stderr",
     "output_type": "stream",
     "text": [
      " 80%|███████▉  | 401/503 [03:13<01:20,  1.26it/s]"
     ]
    },
    {
     "name": "stdout",
     "output_type": "stream",
     "text": [
      "error in build_company_financials with RF\n",
      "error in build_company_financials with RSG\n"
     ]
    },
    {
     "name": "stderr",
     "output_type": "stream",
     "text": [
      " 80%|████████  | 403/503 [03:13<00:45,  2.21it/s]"
     ]
    },
    {
     "name": "stdout",
     "output_type": "stream",
     "text": [
      "error in build_company_financials with RMD\n",
      "error in build_company_financials with RVTY\n"
     ]
    },
    {
     "name": "stderr",
     "output_type": "stream",
     "text": [
      " 81%|████████  | 405/503 [03:14<00:27,  3.57it/s]"
     ]
    },
    {
     "name": "stdout",
     "output_type": "stream",
     "text": [
      "error in build_company_financials with ROK\n",
      "error in build_company_financials with ROL\n"
     ]
    },
    {
     "name": "stderr",
     "output_type": "stream",
     "text": [
      " 81%|████████  | 407/503 [03:14<00:19,  5.03it/s]"
     ]
    },
    {
     "name": "stdout",
     "output_type": "stream",
     "text": [
      "error in build_company_financials with ROP\n",
      "error in build_company_financials with ROST\n"
     ]
    },
    {
     "name": "stderr",
     "output_type": "stream",
     "text": [
      " 81%|████████▏ | 409/503 [03:15<00:23,  3.94it/s]"
     ]
    },
    {
     "name": "stdout",
     "output_type": "stream",
     "text": [
      "error in build_company_financials with RCL\n",
      "error in build_company_financials with SPGI\n"
     ]
    },
    {
     "name": "stderr",
     "output_type": "stream",
     "text": [
      " 82%|████████▏ | 411/503 [03:15<00:17,  5.20it/s]"
     ]
    },
    {
     "name": "stdout",
     "output_type": "stream",
     "text": [
      "error in build_company_financials with SBAC\n",
      "error in build_company_financials with CRM\n"
     ]
    },
    {
     "name": "stderr",
     "output_type": "stream",
     "text": [
      " 82%|████████▏ | 413/503 [03:15<00:14,  6.41it/s]"
     ]
    },
    {
     "name": "stdout",
     "output_type": "stream",
     "text": [
      "error in build_company_financials with SLB\n",
      "error in build_company_financials with STX\n"
     ]
    },
    {
     "name": "stderr",
     "output_type": "stream",
     "text": [
      " 83%|████████▎ | 415/503 [03:15<00:13,  6.60it/s]"
     ]
    },
    {
     "name": "stdout",
     "output_type": "stream",
     "text": [
      "error in build_company_financials with SRE\n",
      "error in build_company_financials with NOW\n"
     ]
    },
    {
     "name": "stderr",
     "output_type": "stream",
     "text": [
      " 83%|████████▎ | 416/503 [03:15<00:12,  6.93it/s]"
     ]
    },
    {
     "name": "stdout",
     "output_type": "stream",
     "text": [
      "error in build_company_financials with SHW\n"
     ]
    },
    {
     "name": "stderr",
     "output_type": "stream",
     "text": [
      " 83%|████████▎ | 418/503 [03:16<00:12,  6.88it/s]"
     ]
    },
    {
     "name": "stdout",
     "output_type": "stream",
     "text": [
      "error in build_company_financials with SPG\n",
      "error in build_company_financials with SWKS\n"
     ]
    },
    {
     "name": "stderr",
     "output_type": "stream",
     "text": [
      " 83%|████████▎ | 420/503 [03:16<00:10,  7.57it/s]"
     ]
    },
    {
     "name": "stdout",
     "output_type": "stream",
     "text": [
      "error in build_company_financials with SW\n",
      "error in build_company_financials with SNA\n"
     ]
    },
    {
     "name": "stderr",
     "output_type": "stream",
     "text": [
      " 84%|████████▍ | 422/503 [03:16<00:10,  7.49it/s]"
     ]
    },
    {
     "name": "stdout",
     "output_type": "stream",
     "text": [
      "error in build_company_financials with SOLV\n",
      "error in build_company_financials with SO\n"
     ]
    },
    {
     "name": "stderr",
     "output_type": "stream",
     "text": [
      " 84%|████████▍ | 424/503 [03:17<00:10,  7.64it/s]"
     ]
    },
    {
     "name": "stdout",
     "output_type": "stream",
     "text": [
      "error in build_company_financials with LUV\n",
      "error in build_company_financials with SWK\n"
     ]
    },
    {
     "name": "stderr",
     "output_type": "stream",
     "text": [
      " 85%|████████▍ | 426/503 [03:17<00:09,  7.91it/s]"
     ]
    },
    {
     "name": "stdout",
     "output_type": "stream",
     "text": [
      "error in build_company_financials with SBUX\n",
      "error in build_company_financials with STT\n"
     ]
    },
    {
     "name": "stderr",
     "output_type": "stream",
     "text": [
      "100%|██████████| 503/503 [04:00<00:00,  2.09it/s]\n"
     ]
    },
    {
     "name": "stdout",
     "output_type": "stream",
     "text": [
      "--done all in 241.03s\n",
      "-1st round of retries\n",
      "start bulk_build_company_financials for 93 tickers\n"
     ]
    },
    {
     "name": "stderr",
     "output_type": "stream",
     "text": [
      " 27%|██▋       | 25/93 [00:12<00:25,  2.68it/s]"
     ]
    },
    {
     "name": "stdout",
     "output_type": "stream",
     "text": [
      "error in build_company_financials with INTU\n",
      "error in build_company_financials with ISRG\n"
     ]
    },
    {
     "name": "stderr",
     "output_type": "stream",
     "text": [
      " 29%|██▉       | 27/93 [00:12<00:16,  4.05it/s]"
     ]
    },
    {
     "name": "stdout",
     "output_type": "stream",
     "text": [
      "error in build_company_financials with IVZ\n",
      "error in build_company_financials with INVH\n"
     ]
    },
    {
     "name": "stderr",
     "output_type": "stream",
     "text": [
      " 31%|███       | 29/93 [00:12<00:11,  5.59it/s]"
     ]
    },
    {
     "name": "stdout",
     "output_type": "stream",
     "text": [
      "error in build_company_financials with IRM\n",
      "error in build_company_financials with JBHT\n"
     ]
    },
    {
     "name": "stderr",
     "output_type": "stream",
     "text": [
      " 33%|███▎      | 31/93 [00:13<00:09,  6.61it/s]"
     ]
    },
    {
     "name": "stdout",
     "output_type": "stream",
     "text": [
      "error in build_company_financials with SJM\n",
      "error in build_company_financials with JPM\n"
     ]
    },
    {
     "name": "stderr",
     "output_type": "stream",
     "text": [
      " 35%|███▌      | 33/93 [00:13<00:08,  7.39it/s]"
     ]
    },
    {
     "name": "stdout",
     "output_type": "stream",
     "text": [
      "error in build_company_financials with JBL\n",
      "error in build_company_financials with JKHY\n"
     ]
    },
    {
     "name": "stderr",
     "output_type": "stream",
     "text": [
      " 38%|███▊      | 35/93 [00:13<00:07,  7.91it/s]"
     ]
    },
    {
     "name": "stdout",
     "output_type": "stream",
     "text": [
      "error in build_company_financials with J\n",
      "error in build_company_financials with JNJ\n"
     ]
    },
    {
     "name": "stderr",
     "output_type": "stream",
     "text": [
      " 40%|███▉      | 37/93 [00:13<00:07,  7.42it/s]"
     ]
    },
    {
     "name": "stdout",
     "output_type": "stream",
     "text": [
      "error in build_company_financials with JCI\n",
      "error in build_company_financials with JNPR\n"
     ]
    },
    {
     "name": "stderr",
     "output_type": "stream",
     "text": [
      " 42%|████▏     | 39/93 [00:14<00:06,  7.77it/s]"
     ]
    },
    {
     "name": "stdout",
     "output_type": "stream",
     "text": [
      "error in build_company_financials with KKR\n",
      "error in build_company_financials with KLAC\n"
     ]
    },
    {
     "name": "stderr",
     "output_type": "stream",
     "text": [
      " 44%|████▍     | 41/93 [00:14<00:06,  7.93it/s]"
     ]
    },
    {
     "name": "stdout",
     "output_type": "stream",
     "text": [
      "error in build_company_financials with K\n",
      "error in build_company_financials with KVUE\n"
     ]
    },
    {
     "name": "stderr",
     "output_type": "stream",
     "text": [
      " 46%|████▌     | 43/93 [00:14<00:06,  7.59it/s]"
     ]
    },
    {
     "name": "stdout",
     "output_type": "stream",
     "text": [
      "error in build_company_financials with KDP\n",
      "error in build_company_financials with KEY\n"
     ]
    },
    {
     "name": "stderr",
     "output_type": "stream",
     "text": [
      " 48%|████▊     | 45/93 [00:14<00:06,  7.66it/s]"
     ]
    },
    {
     "name": "stdout",
     "output_type": "stream",
     "text": [
      "error in build_company_financials with KEYS\n",
      "error in build_company_financials with KMB\n"
     ]
    },
    {
     "name": "stderr",
     "output_type": "stream",
     "text": [
      " 51%|█████     | 47/93 [00:15<00:05,  8.24it/s]"
     ]
    },
    {
     "name": "stdout",
     "output_type": "stream",
     "text": [
      "error in build_company_financials with KIM\n",
      "error in build_company_financials with KMI\n"
     ]
    },
    {
     "name": "stderr",
     "output_type": "stream",
     "text": [
      " 53%|█████▎    | 49/93 [00:15<00:05,  7.76it/s]"
     ]
    },
    {
     "name": "stdout",
     "output_type": "stream",
     "text": [
      "error in build_company_financials with KHC\n",
      "error in build_company_financials with KR\n"
     ]
    },
    {
     "name": "stderr",
     "output_type": "stream",
     "text": [
      "100%|██████████| 93/93 [00:39<00:00,  2.34it/s]\n"
     ]
    },
    {
     "name": "stdout",
     "output_type": "stream",
     "text": [
      "--done all in 39.82s\n",
      "-2nd round of retries\n",
      "start bulk_build_company_financials for 26 tickers\n"
     ]
    },
    {
     "name": "stderr",
     "output_type": "stream",
     "text": [
      "100%|██████████| 26/26 [00:12<00:00,  2.10it/s]\n"
     ]
    },
    {
     "name": "stdout",
     "output_type": "stream",
     "text": [
      "--done all in 12.41s\n",
      "\n",
      "-failed annual ticker count: 0\n",
      "--done annual financial download at  2024-09-29 15:05:36.521301\n",
      "--done annual financial write at  2024-09-29 15:05:37.181546\n",
      "done all\n"
     ]
    }
   ],
   "source": [
    "build_quarterly_financials_pipeline = False\n",
    "build_annual_financials_pipeline = False\n",
    "\n",
    "if build_quarterly_financials_pipeline:\n",
    "    # build income statement, balance sheet, and cash flow statement for a set of tickers\n",
    "    # - download both annual and quarterly data\n",
    "    # - in the event of a failure to download, retry all failed tickers once at the end\n",
    "    # - failures are due to the API sometimes not returning data\n",
    "\n",
    "    print('start quarterly financial download at ', datetime.datetime.now())\n",
    "    df_quarterly, fail_quarterly = utils.bulk_build_company_financials(tickers=tickers_sp500, period='quarter', verbose=True)\n",
    "    if len(fail_quarterly) > 0:\n",
    "        temp, fail_quarterly = utils.bulk_build_company_financials(tickers=fail_quarterly, period='quarter', verbose=True)\n",
    "        if temp.shape[0] > 0:\n",
    "            df_quarterly = pd.concat([df_quarterly, temp], axis=0)\n",
    "\n",
    "    print('-failed quarterly ticker count:', len(fail_quarterly))\n",
    "    print('--done quarterly financial download at ', datetime.datetime.now())\n",
    "    df_quarterly.to_csv(data_dir + 'sp500_subset_sample_financials_quarterly.csv', index=False)\n",
    "    print('--done quarterly financial write at ', datetime.datetime.now())\n",
    "    time.sleep(10)\n",
    "    print()\n",
    "else:\n",
    "    start = time.time()\n",
    "    df_quarterly = pd.read_csv(data_dir + 'sp500_subset_sample_financials_quarterly.csv')\n",
    "    print('done read quarterly in {:.2f}s'.format(time.time() - start))\n",
    "\n",
    "if build_annual_financials_pipeline:\n",
    "    print('start annual financial download at ', datetime.datetime.now())\n",
    "\n",
    "    df_annual, fail_annual = utils.bulk_build_company_financials(tickers=tickers_sp500, period='annual', verbose=True)\n",
    "    \n",
    "    # 1st round of retries\n",
    "    print('-1st round of retries')\n",
    "    if len(fail_annual) > 0:\n",
    "        time.sleep(10)\n",
    "        temp, fail_annual = utils.bulk_build_company_financials(tickers=fail_annual, period='annual', verbose=True)\n",
    "        if temp.shape[0] > 0:\n",
    "            df_annual = pd.concat([df_annual, temp], axis=0)\n",
    "        \n",
    "    # 2nd round of retries\n",
    "    print('-2nd round of retries')\n",
    "    if len(fail_annual) > 0:\n",
    "        time.sleep(10)\n",
    "        temp, fail_annual = utils.bulk_build_company_financials(tickers=fail_annual, period='annual', verbose=True)\n",
    "        if temp.shape[0] > 0:\n",
    "            df_annual = pd.concat([df_annual, temp], axis=0)\n",
    "        \n",
    "    print()\n",
    "    print('-failed annual ticker count:', len(fail_annual))\n",
    "    print('--done annual financial download at ', datetime.datetime.now())\n",
    "    df_annual.to_csv(data_dir + 'sp500_subset_sample_financials_annual.csv', index=False)\n",
    "    print('--done annual financial write at ', datetime.datetime.now())\n",
    "    print('done all')\n",
    "\n",
    "else:\n",
    "    start = time.time()\n",
    "    df_annual = pd.read_csv(data_dir + 'sp500_subset_sample_financials_annual.csv')\n",
    "    print('done read annual in {:.2f}s'.format(time.time() - start))\n",
    "\n"
   ]
  },
  {
   "cell_type": "code",
   "execution_count": null,
   "metadata": {},
   "outputs": [],
   "source": []
  },
  {
   "cell_type": "code",
   "execution_count": 2,
   "metadata": {},
   "outputs": [
    {
     "name": "stdout",
     "output_type": "stream",
     "text": [
      "done read merged in 0.51s\n",
      "done\n"
     ]
    }
   ],
   "source": [
    "build_merged_financials_pipeline = False\n",
    "\n",
    "if build_merged_financials_pipeline:\n",
    "    # get fundamental variable classifications - stock vs flow variables\n",
    "    temp = pd.read_csv(data_dir + 'fmp_fundamental_var_classifications.csv')\n",
    "    fmp_var_dict = {}\n",
    "\n",
    "    fmp_var_dict['ltm_flow'] = temp[temp['ltm'] == 'x'].item.tolist()\n",
    "    fmp_var_dict['stock'] = temp[temp['stock'] == 'x'].item.tolist()\n",
    "\n",
    "    # merge annual and quarterly data into single dataframe\n",
    "    temp1 = utils.format_quarterly_data(df_quarterly, ltm_vars=fmp_var_dict['ltm_flow'])\n",
    "    temp2 = utils.format_annual_data(df_annual)\n",
    "    temp3 = utils.merge_quarterly_annual(temp1, temp2,\n",
    "                                ltm_vars=fmp_var_dict['ltm_flow'], \n",
    "                                stock_vars=fmp_var_dict['stock'],\n",
    "                                cleanup=True)\n",
    "    temp3.to_csv(data_dir + 'sp500_subset_sample_financials_annual_and_quarterly_merged.csv', index=False)\n",
    "\n",
    "else:\n",
    "    start = time.time()\n",
    "\n",
    "    # get fundamental variable classifications - stock vs flow variables\n",
    "    temp = pd.read_csv(data_dir + 'fmp_fundamental_var_classifications.csv')\n",
    "    fmp_var_dict = {}\n",
    "\n",
    "    fmp_var_dict['ltm_flow'] = temp[temp['ltm'] == 'x'].item.tolist()\n",
    "    fmp_var_dict['stock'] = temp[temp['stock'] == 'x'].item.tolist()\n",
    "\n",
    "    df_merged = pd.read_csv(data_dir + 'sp500_subset_sample_financials_annual_and_quarterly_merged.csv')\n",
    "    print('done read merged in {:.2f}s'.format(time.time() - start))\n",
    "\n",
    "print('done')"
   ]
  },
  {
   "cell_type": "markdown",
   "metadata": {},
   "source": [
    "df2"
   ]
  },
  {
   "cell_type": "code",
   "execution_count": 27,
   "metadata": {},
   "outputs": [
    {
     "name": "stdout",
     "output_type": "stream",
     "text": [
      "symbol count: 503\n",
      "column count: 140\n",
      "\n",
      "done\n"
     ]
    }
   ],
   "source": [
    "print('symbol count:',df_merged['symbol'].nunique())\n",
    "print('column count:',df_merged.shape[1])\n",
    "print()\n",
    "\n",
    "\n",
    "temp = utils.build_lseg_ratios(data=df_merged)\n",
    "\n",
    "\n",
    "print('done')\n"
   ]
  },
  {
   "cell_type": "code",
   "execution_count": 69,
   "metadata": {},
   "outputs": [
    {
     "name": "stdout",
     "output_type": "stream",
     "text": [
      "66486\n"
     ]
    },
    {
     "data": {
      "text/html": [
       "<div>\n",
       "<style scoped>\n",
       "    .dataframe tbody tr th:only-of-type {\n",
       "        vertical-align: middle;\n",
       "    }\n",
       "\n",
       "    .dataframe tbody tr th {\n",
       "        vertical-align: top;\n",
       "    }\n",
       "\n",
       "    .dataframe thead th {\n",
       "        text-align: right;\n",
       "    }\n",
       "</style>\n",
       "<table border=\"1\" class=\"dataframe\">\n",
       "  <thead>\n",
       "    <tr style=\"text-align: right;\">\n",
       "      <th></th>\n",
       "      <th>symbol</th>\n",
       "    </tr>\n",
       "  </thead>\n",
       "  <tbody>\n",
       "    <tr>\n",
       "      <th>0</th>\n",
       "      <td>000001.SZ</td>\n",
       "    </tr>\n",
       "    <tr>\n",
       "      <th>1</th>\n",
       "      <td>000002.SZ</td>\n",
       "    </tr>\n",
       "    <tr>\n",
       "      <th>2</th>\n",
       "      <td>000004.SZ</td>\n",
       "    </tr>\n",
       "    <tr>\n",
       "      <th>3</th>\n",
       "      <td>000005.SZ</td>\n",
       "    </tr>\n",
       "    <tr>\n",
       "      <th>4</th>\n",
       "      <td>000006.SZ</td>\n",
       "    </tr>\n",
       "    <tr>\n",
       "      <th>...</th>\n",
       "      <td>...</td>\n",
       "    </tr>\n",
       "    <tr>\n",
       "      <th>66481</th>\n",
       "      <td>ZZHGF</td>\n",
       "    </tr>\n",
       "    <tr>\n",
       "      <th>66482</th>\n",
       "      <td>ZZHGY</td>\n",
       "    </tr>\n",
       "    <tr>\n",
       "      <th>66483</th>\n",
       "      <td>ZZLL</td>\n",
       "    </tr>\n",
       "    <tr>\n",
       "      <th>66484</th>\n",
       "      <td>ZZZ.TO</td>\n",
       "    </tr>\n",
       "    <tr>\n",
       "      <th>66485</th>\n",
       "      <td>ZZZOF</td>\n",
       "    </tr>\n",
       "  </tbody>\n",
       "</table>\n",
       "<p>66486 rows × 1 columns</p>\n",
       "</div>"
      ],
      "text/plain": [
       "          symbol\n",
       "0      000001.SZ\n",
       "1      000002.SZ\n",
       "2      000004.SZ\n",
       "3      000005.SZ\n",
       "4      000006.SZ\n",
       "...          ...\n",
       "66481      ZZHGF\n",
       "66482      ZZHGY\n",
       "66483       ZZLL\n",
       "66484     ZZZ.TO\n",
       "66485      ZZZOF\n",
       "\n",
       "[66486 rows x 1 columns]"
      ]
     },
     "execution_count": 69,
     "metadata": {},
     "output_type": "execute_result"
    }
   ],
   "source": [
    "import requests\n",
    "import credentials\n",
    "\n",
    "API_KEY = credentials.fmp_api_key\n",
    "BASE_URL = 'https://financialmodelingprep.com/api/v3'\n",
    "THRESHOLD = 10_000_000_000  # $10 billion\n",
    "\n",
    "def all_symbols():\n",
    "\n",
    "    # Get the list of symbols\n",
    "    symbols_url = f'https://financialmodelingprep.com/api/v3/financial-statement-symbol-lists'\n",
    "    params = {\n",
    "        \"apikey\": API_KEY\n",
    "    }\n",
    "    response = requests.get(symbols_url, params=params)\n",
    "    symbols = response.json()  # List of all symbols\n",
    "    return symbols\n",
    "\n",
    "def get_symbols_with_high_assets(symbols_list:list):\n",
    "\n",
    "    params = {\n",
    "        \"apikey\": API_KEY\n",
    "    }\n",
    "\n",
    "    collection = []\n",
    "    for this_symbol in tqdm.tqdm(symbols_list):\n",
    "\n",
    "        # Get balance sheet data for this symbol\n",
    "        balance_sheet_url = f\"{BASE_URL}/balance-sheet-statement/{this_symbol}\"\n",
    "        response = requests.get(balance_sheet_url, params=params)\n",
    "\n",
    "        if response.ok:\n",
    "\n",
    "            data = response.json()\n",
    "            if len(data) > 0:\n",
    "                df = pd.DataFrame(data)\n",
    "                df = df.sort_values(by='date')\n",
    "                df = df[df['totalAssets'].notnull()]\n",
    "                if df.shape[0] > 0:\n",
    "                    df = df.tail(1)[['symbol', 'date', 'reportedCurrency', 'totalAssets']]\n",
    "                    collection.append(df)\n",
    "\n",
    "    df_large_assets = pd.concat(collection, axis=0)\n",
    "\n",
    "    return df_large_assets\n",
    "\n",
    "# Example usage\n",
    "start = time.time()\n",
    "all_symbols_list = all_symbols()\n",
    "print(len(all_symbols_list))\n",
    "df_all_symbols = pd.DataFrame(all_symbols_list, columns=['symbol'])\n",
    "df_all_symbols = df_all_symbols.sort_values(by='symbol')\n",
    "df_all_symbols = df_all_symbols.reset_index(drop=True)\n",
    "df_all_symbols.to_csv(data_dir + 'fmp_all_symbols_w_statements.csv', index=False)\n",
    "\n",
    "df_all_symbols\n"
   ]
  },
  {
   "cell_type": "code",
   "execution_count": 78,
   "metadata": {},
   "outputs": [
    {
     "name": "stdout",
     "output_type": "stream",
     "text": [
      "symbol count: 25812\n",
      "chunk 26 of 25 at 2024-10-10 16:26:20.395880\n"
     ]
    },
    {
     "name": "stderr",
     "output_type": "stream",
     "text": [
      "0it [00:00, ?it/s]"
     ]
    },
    {
     "name": "stdout",
     "output_type": "stream",
     "text": [
      "error on chunk 26\n",
      "done in 6738.96s\n"
     ]
    },
    {
     "name": "stderr",
     "output_type": "stream",
     "text": [
      "\n"
     ]
    }
   ],
   "source": [
    "df_all_symbols = pd.read_csv(data_dir + 'fmp_all_symbols_w_statements.csv')\n",
    "\n",
    "# filter out symbols that start with a number and unlikely to be target companies\n",
    "mask = df_all_symbols['symbol'].map(lambda x: str(x)[0] in ['0','1','2','3','4','5','6','7','8','9'] )\n",
    "df_all_symbols = df_all_symbols[-mask]\n",
    "\n",
    "mask = df_all_symbols['symbol'].map(lambda x: '.' in str(x) )\n",
    "df_all_symbols = df_all_symbols[-mask]\n",
    "\n",
    "df_all_symbols = df_all_symbols.sort_values(by='symbol')\n",
    "df_all_symbols = df_all_symbols.reset_index(drop=True)\n",
    "symbol_count = df_all_symbols.shape[0]\n",
    "print('symbol count:', symbol_count)\n",
    "\n",
    "\n",
    "# divide the symbol list into chunks of 1_000 companies each\n",
    "chunk_size=1_000\n",
    "chunk_count = symbol_count // chunk_size\n",
    "\n",
    "for i in [26]:\n",
    "\n",
    "    try:\n",
    "        print(f'chunk {i} of {chunk_count} at {datetime.datetime.now()}')\n",
    "        this_chunk = df_all_symbols[i*chunk_size:(i+1)*chunk_size]\n",
    "        df = get_symbols_with_high_assets(this_chunk['symbol'].tolist())\n",
    "        df['totalAssets'] /= 1_000_000_000\n",
    "        df.to_csv(data_dir + f'fmp_large_assets_{i}.csv', index=False)\n",
    "        time.sleep(3)\n",
    "    except:\n",
    "        print(f'error on chunk {i}')\n",
    "\n",
    "\n",
    "print('done in {:.2f}s'.format(time.time() - start))\n",
    "\n"
   ]
  },
  {
   "cell_type": "code",
   "execution_count": 85,
   "metadata": {},
   "outputs": [
    {
     "name": "stderr",
     "output_type": "stream",
     "text": [
      "100%|██████████| 25/25 [00:00<00:00, 993.81it/s]\n"
     ]
    },
    {
     "data": {
      "text/plain": [
       "date\n",
       "2023-12-31    10121\n",
       "2022-12-31     1855\n",
       "2024-03-31      948\n",
       "2024-06-30      525\n",
       "2023-09-30      518\n",
       "              ...  \n",
       "2023-12-26        1\n",
       "2023-09-02        1\n",
       "2024-01-27        1\n",
       "2024-02-23        1\n",
       "2024-02-28        1\n",
       "Name: count, Length: 78, dtype: int64"
      ]
     },
     "execution_count": 85,
     "metadata": {},
     "output_type": "execute_result"
    }
   ],
   "source": [
    "collection = []\n",
    "\n",
    "for i in tqdm.tqdm(range(25)):\n",
    "    df = pd.read_csv(data_dir + f'fmp_large_assets_{i}.csv')\n",
    "    collection.append(df)\n",
    "\n",
    "df = pd.concat(collection, axis=0)\n",
    "# df = df[df['reportedCurrency'] == 'USD']\n",
    "df = df.sort_values(by='totalAssets', ascending=False)\n",
    "df = df.reset_index(drop=True)\n",
    "# df = df[df['totalAssets'] > 10]\n",
    "df = df[df['date'] >= '2022-12-31']\n",
    "df['date'].value_counts()\n",
    "\n",
    "\n",
    "\n",
    "\n",
    "\n",
    "\n"
   ]
  },
  {
   "cell_type": "code",
   "execution_count": 113,
   "metadata": {},
   "outputs": [
    {
     "name": "stderr",
     "output_type": "stream",
     "text": [
      "100%|██████████| 503/503 [01:16<00:00,  6.59it/s]\n",
      "100%|██████████| 100/100 [00:16<00:00,  6.14it/s]\n"
     ]
    }
   ],
   "source": [
    "results = []\n",
    "error_list = []\n",
    "for this_ticker in tqdm.tqdm(tickers_sp500):\n",
    "\n",
    "    this_result = utils.get_company_profile(ticker=this_ticker)\n",
    "\n",
    "    try:\n",
    "        this_symbol = this_result['symbol']\n",
    "        this_profile = this_result['profile']\n",
    "        this_name = this_profile['companyName']\n",
    "        this_description = this_profile['description']\n",
    "        this_industry = this_profile['industry']\n",
    "        this_sector = this_profile['sector']\n",
    "        this_country = this_profile['country']\n",
    "\n",
    "        results.append([this_symbol, this_name, this_description, this_industry, this_sector, this_country])\n",
    "    except:\n",
    "        error_list.append(this_ticker)\n",
    "\n",
    "for this_ticker in tqdm.tqdm(error_list):\n",
    "\n",
    "    this_result = utils.get_company_profile(ticker=this_ticker)\n",
    "\n",
    "    try:\n",
    "        this_symbol = this_result['symbol']\n",
    "        this_profile = this_result['profile']\n",
    "        this_name = this_profile['companyName']\n",
    "        this_description = this_profile['description']\n",
    "        this_industry = this_profile['industry']\n",
    "        this_sector = this_profile['sector']\n",
    "        this_country = this_profile['country']\n",
    "\n",
    "        results.append([this_symbol, this_name, this_description, this_industry, this_sector, this_country])\n",
    "    except:\n",
    "        print(f'error on {this_ticker}')\n",
    "\n",
    "\n",
    "df_company_profiles = pd.DataFrame(results, columns=['symbol', 'name', 'description', 'industry', 'sector', 'country'])\n",
    "df_company_profiles.to_csv(data_dir + 'fmp_company_profiles.csv', index=False)\n",
    "\n",
    "\n"
   ]
  },
  {
   "cell_type": "code",
   "execution_count": 154,
   "metadata": {},
   "outputs": [
    {
     "name": "stdout",
     "output_type": "stream",
     "text": [
      "1.51.2\n",
      "industry class count: 114\n",
      "sector class count: 11\n",
      "\n"
     ]
    }
   ],
   "source": [
    "import openai\n",
    "print(openai.__version__)\n",
    "\n",
    "\n",
    "openai_api_key = credentials.openai_api_key\n",
    "df_company_profiles = pd.read_csv(data_dir + 'fmp_company_profiles.csv')\n",
    "\n",
    "# get unique industry and sector classes\n",
    "industry_classes = df_company_profiles['industry'].unique().tolist()\n",
    "sector_classes = df_company_profiles['sector'].unique().tolist()\n",
    "print('industry class count:', len(industry_classes))\n",
    "print('sector class count:', len(sector_classes))\n",
    "print()\n",
    "\n",
    "this_des = df_company_profiles['description'].tolist()[5]\n",
    "this_name = df_company_profiles['name'].tolist()[5]\n",
    "this_industry = df_company_profiles['industry'].tolist()[5]\n",
    "\n",
    "# censor the company name from the description to prevent leakage \n",
    "this_des = this_des.replace(this_name, 'XXX')\n"
   ]
  },
  {
   "cell_type": "code",
   "execution_count": 155,
   "metadata": {},
   "outputs": [
    {
     "ename": "RateLimitError",
     "evalue": "Error code: 429 - {'error': {'message': 'You exceeded your current quota, please check your plan and billing details. For more information on this error, read the docs: https://platform.openai.com/docs/guides/error-codes/api-errors.', 'type': 'insufficient_quota', 'param': None, 'code': 'insufficient_quota'}}",
     "output_type": "error",
     "traceback": [
      "\u001b[0;31m---------------------------------------------------------------------------\u001b[0m",
      "\u001b[0;31mRateLimitError\u001b[0m                            Traceback (most recent call last)",
      "Cell \u001b[0;32mIn[155], line 23\u001b[0m\n\u001b[1;32m     20\u001b[0m     \u001b[38;5;28;01mreturn\u001b[39;00m classification\n\u001b[1;32m     22\u001b[0m \u001b[38;5;66;03m# Get classification for a sample company\u001b[39;00m\n\u001b[0;32m---> 23\u001b[0m this_classification \u001b[38;5;241m=\u001b[39m \u001b[43mclassify_company\u001b[49m\u001b[43m(\u001b[49m\u001b[43mthis_des\u001b[49m\u001b[43m,\u001b[49m\u001b[43m \u001b[49m\u001b[43mindustry_classes\u001b[49m\u001b[43m)\u001b[49m\n\u001b[1;32m     24\u001b[0m \u001b[38;5;28mprint\u001b[39m(\u001b[38;5;124mf\u001b[39m\u001b[38;5;124m\"\u001b[39m\u001b[38;5;124mClassified Sector: \u001b[39m\u001b[38;5;132;01m{\u001b[39;00mthis_classification\u001b[38;5;132;01m}\u001b[39;00m\u001b[38;5;124m\"\u001b[39m)\n\u001b[1;32m     25\u001b[0m \u001b[38;5;28mprint\u001b[39m(\u001b[38;5;124m'\u001b[39m\u001b[38;5;124m--actual class:\u001b[39m\u001b[38;5;124m'\u001b[39m, this_industry)\n",
      "Cell \u001b[0;32mIn[155], line 9\u001b[0m, in \u001b[0;36mclassify_company\u001b[0;34m(description, sectors)\u001b[0m\n\u001b[1;32m      5\u001b[0m \u001b[38;5;28;01mdef\u001b[39;00m \u001b[38;5;21mclassify_company\u001b[39m(description, sectors):\n\u001b[1;32m      7\u001b[0m     prompt \u001b[38;5;241m=\u001b[39m \u001b[38;5;124mf\u001b[39m\u001b[38;5;124m\"\u001b[39m\u001b[38;5;124mGiven the following company description, classify the company into one of these sectors: \u001b[39m\u001b[38;5;132;01m{\u001b[39;00m\u001b[38;5;124m'\u001b[39m\u001b[38;5;124m, \u001b[39m\u001b[38;5;124m'\u001b[39m\u001b[38;5;241m.\u001b[39mjoin(sectors)\u001b[38;5;132;01m}\u001b[39;00m\u001b[38;5;124m.\u001b[39m\u001b[38;5;130;01m\\n\u001b[39;00m\u001b[38;5;130;01m\\n\u001b[39;00m\u001b[38;5;124mDescription: \u001b[39m\u001b[38;5;132;01m{\u001b[39;00mdescription\u001b[38;5;132;01m}\u001b[39;00m\u001b[38;5;130;01m\\n\u001b[39;00m\u001b[38;5;130;01m\\n\u001b[39;00m\u001b[38;5;124mSector:\u001b[39m\u001b[38;5;130;01m\\n\u001b[39;00m\u001b[38;5;130;01m\\n\u001b[39;00m\u001b[38;5;124mLimit your response to one of the sectors provided without any additional text.\u001b[39m\u001b[38;5;124m\"\u001b[39m\n\u001b[0;32m----> 9\u001b[0m     response \u001b[38;5;241m=\u001b[39m \u001b[43mclient\u001b[49m\u001b[38;5;241;43m.\u001b[39;49m\u001b[43mchat\u001b[49m\u001b[38;5;241;43m.\u001b[39;49m\u001b[43mcompletions\u001b[49m\u001b[38;5;241;43m.\u001b[39;49m\u001b[43mcreate\u001b[49m\u001b[43m(\u001b[49m\n\u001b[1;32m     10\u001b[0m \u001b[43m        \u001b[49m\u001b[43mmodel\u001b[49m\u001b[38;5;241;43m=\u001b[39;49m\u001b[38;5;124;43m\"\u001b[39;49m\u001b[38;5;124;43mgpt-3.5-turbo\u001b[39;49m\u001b[38;5;124;43m\"\u001b[39;49m\u001b[43m,\u001b[49m\u001b[43m  \u001b[49m\u001b[38;5;66;43;03m# Use the model of your choice, gpt-4 or gpt-3.5-turbo\u001b[39;49;00m\n\u001b[1;32m     11\u001b[0m \u001b[43m        \u001b[49m\u001b[43mmessages\u001b[49m\u001b[38;5;241;43m=\u001b[39;49m\u001b[43m[\u001b[49m\n\u001b[1;32m     12\u001b[0m \u001b[43m            \u001b[49m\u001b[43m{\u001b[49m\u001b[38;5;124;43m\"\u001b[39;49m\u001b[38;5;124;43mrole\u001b[39;49m\u001b[38;5;124;43m\"\u001b[39;49m\u001b[43m:\u001b[49m\u001b[43m \u001b[49m\u001b[38;5;124;43m\"\u001b[39;49m\u001b[38;5;124;43msystem\u001b[39;49m\u001b[38;5;124;43m\"\u001b[39;49m\u001b[43m,\u001b[49m\u001b[43m \u001b[49m\u001b[38;5;124;43m\"\u001b[39;49m\u001b[38;5;124;43mcontent\u001b[39;49m\u001b[38;5;124;43m\"\u001b[39;49m\u001b[43m:\u001b[49m\u001b[43m \u001b[49m\u001b[38;5;124;43m\"\u001b[39;49m\u001b[38;5;124;43mYou are a helpful assistant.\u001b[39;49m\u001b[38;5;124;43m\"\u001b[39;49m\u001b[43m}\u001b[49m\u001b[43m,\u001b[49m\n\u001b[1;32m     13\u001b[0m \u001b[43m            \u001b[49m\u001b[43m{\u001b[49m\u001b[38;5;124;43m\"\u001b[39;49m\u001b[38;5;124;43mrole\u001b[39;49m\u001b[38;5;124;43m\"\u001b[39;49m\u001b[43m:\u001b[49m\u001b[43m \u001b[49m\u001b[38;5;124;43m\"\u001b[39;49m\u001b[38;5;124;43muser\u001b[39;49m\u001b[38;5;124;43m\"\u001b[39;49m\u001b[43m,\u001b[49m\u001b[43m \u001b[49m\u001b[38;5;124;43m\"\u001b[39;49m\u001b[38;5;124;43mcontent\u001b[39;49m\u001b[38;5;124;43m\"\u001b[39;49m\u001b[43m:\u001b[49m\u001b[43m \u001b[49m\u001b[43mprompt\u001b[49m\u001b[43m}\u001b[49m\n\u001b[1;32m     14\u001b[0m \u001b[43m        \u001b[49m\u001b[43m]\u001b[49m\u001b[43m,\u001b[49m\n\u001b[1;32m     15\u001b[0m \u001b[43m        \u001b[49m\u001b[43mmax_tokens\u001b[49m\u001b[38;5;241;43m=\u001b[39;49m\u001b[38;5;241;43m50\u001b[39;49m\u001b[43m,\u001b[49m\n\u001b[1;32m     16\u001b[0m \u001b[43m        \u001b[49m\u001b[43mtemperature\u001b[49m\u001b[38;5;241;43m=\u001b[39;49m\u001b[38;5;241;43m0\u001b[39;49m\n\u001b[1;32m     17\u001b[0m \u001b[43m    \u001b[49m\u001b[43m)\u001b[49m\n\u001b[1;32m     19\u001b[0m     classification \u001b[38;5;241m=\u001b[39m response[\u001b[38;5;124m'\u001b[39m\u001b[38;5;124mchoices\u001b[39m\u001b[38;5;124m'\u001b[39m][\u001b[38;5;241m0\u001b[39m][\u001b[38;5;124m'\u001b[39m\u001b[38;5;124mmessage\u001b[39m\u001b[38;5;124m'\u001b[39m][\u001b[38;5;124m'\u001b[39m\u001b[38;5;124mcontent\u001b[39m\u001b[38;5;124m'\u001b[39m]\u001b[38;5;241m.\u001b[39mstrip()\n\u001b[1;32m     20\u001b[0m     \u001b[38;5;28;01mreturn\u001b[39;00m classification\n",
      "File \u001b[0;32m~/opt/anaconda3/envs/investment_analysis/lib/python3.12/site-packages/openai/_utils/_utils.py:274\u001b[0m, in \u001b[0;36mrequired_args.<locals>.inner.<locals>.wrapper\u001b[0;34m(*args, **kwargs)\u001b[0m\n\u001b[1;32m    272\u001b[0m             msg \u001b[38;5;241m=\u001b[39m \u001b[38;5;124mf\u001b[39m\u001b[38;5;124m\"\u001b[39m\u001b[38;5;124mMissing required argument: \u001b[39m\u001b[38;5;132;01m{\u001b[39;00mquote(missing[\u001b[38;5;241m0\u001b[39m])\u001b[38;5;132;01m}\u001b[39;00m\u001b[38;5;124m\"\u001b[39m\n\u001b[1;32m    273\u001b[0m     \u001b[38;5;28;01mraise\u001b[39;00m \u001b[38;5;167;01mTypeError\u001b[39;00m(msg)\n\u001b[0;32m--> 274\u001b[0m \u001b[38;5;28;01mreturn\u001b[39;00m \u001b[43mfunc\u001b[49m\u001b[43m(\u001b[49m\u001b[38;5;241;43m*\u001b[39;49m\u001b[43margs\u001b[49m\u001b[43m,\u001b[49m\u001b[43m \u001b[49m\u001b[38;5;241;43m*\u001b[39;49m\u001b[38;5;241;43m*\u001b[39;49m\u001b[43mkwargs\u001b[49m\u001b[43m)\u001b[49m\n",
      "File \u001b[0;32m~/opt/anaconda3/envs/investment_analysis/lib/python3.12/site-packages/openai/resources/chat/completions.py:742\u001b[0m, in \u001b[0;36mCompletions.create\u001b[0;34m(self, messages, model, frequency_penalty, function_call, functions, logit_bias, logprobs, max_completion_tokens, max_tokens, metadata, n, parallel_tool_calls, presence_penalty, response_format, seed, service_tier, stop, store, stream, stream_options, temperature, tool_choice, tools, top_logprobs, top_p, user, extra_headers, extra_query, extra_body, timeout)\u001b[0m\n\u001b[1;32m    704\u001b[0m \u001b[38;5;129m@required_args\u001b[39m([\u001b[38;5;124m\"\u001b[39m\u001b[38;5;124mmessages\u001b[39m\u001b[38;5;124m\"\u001b[39m, \u001b[38;5;124m\"\u001b[39m\u001b[38;5;124mmodel\u001b[39m\u001b[38;5;124m\"\u001b[39m], [\u001b[38;5;124m\"\u001b[39m\u001b[38;5;124mmessages\u001b[39m\u001b[38;5;124m\"\u001b[39m, \u001b[38;5;124m\"\u001b[39m\u001b[38;5;124mmodel\u001b[39m\u001b[38;5;124m\"\u001b[39m, \u001b[38;5;124m\"\u001b[39m\u001b[38;5;124mstream\u001b[39m\u001b[38;5;124m\"\u001b[39m])\n\u001b[1;32m    705\u001b[0m \u001b[38;5;28;01mdef\u001b[39;00m \u001b[38;5;21mcreate\u001b[39m(\n\u001b[1;32m    706\u001b[0m     \u001b[38;5;28mself\u001b[39m,\n\u001b[0;32m   (...)\u001b[0m\n\u001b[1;32m    739\u001b[0m     timeout: \u001b[38;5;28mfloat\u001b[39m \u001b[38;5;241m|\u001b[39m httpx\u001b[38;5;241m.\u001b[39mTimeout \u001b[38;5;241m|\u001b[39m \u001b[38;5;28;01mNone\u001b[39;00m \u001b[38;5;241m|\u001b[39m NotGiven \u001b[38;5;241m=\u001b[39m NOT_GIVEN,\n\u001b[1;32m    740\u001b[0m ) \u001b[38;5;241m-\u001b[39m\u001b[38;5;241m>\u001b[39m ChatCompletion \u001b[38;5;241m|\u001b[39m Stream[ChatCompletionChunk]:\n\u001b[1;32m    741\u001b[0m     validate_response_format(response_format)\n\u001b[0;32m--> 742\u001b[0m     \u001b[38;5;28;01mreturn\u001b[39;00m \u001b[38;5;28;43mself\u001b[39;49m\u001b[38;5;241;43m.\u001b[39;49m\u001b[43m_post\u001b[49m\u001b[43m(\u001b[49m\n\u001b[1;32m    743\u001b[0m \u001b[43m        \u001b[49m\u001b[38;5;124;43m\"\u001b[39;49m\u001b[38;5;124;43m/chat/completions\u001b[39;49m\u001b[38;5;124;43m\"\u001b[39;49m\u001b[43m,\u001b[49m\n\u001b[1;32m    744\u001b[0m \u001b[43m        \u001b[49m\u001b[43mbody\u001b[49m\u001b[38;5;241;43m=\u001b[39;49m\u001b[43mmaybe_transform\u001b[49m\u001b[43m(\u001b[49m\n\u001b[1;32m    745\u001b[0m \u001b[43m            \u001b[49m\u001b[43m{\u001b[49m\n\u001b[1;32m    746\u001b[0m \u001b[43m                \u001b[49m\u001b[38;5;124;43m\"\u001b[39;49m\u001b[38;5;124;43mmessages\u001b[39;49m\u001b[38;5;124;43m\"\u001b[39;49m\u001b[43m:\u001b[49m\u001b[43m \u001b[49m\u001b[43mmessages\u001b[49m\u001b[43m,\u001b[49m\n\u001b[1;32m    747\u001b[0m \u001b[43m                \u001b[49m\u001b[38;5;124;43m\"\u001b[39;49m\u001b[38;5;124;43mmodel\u001b[39;49m\u001b[38;5;124;43m\"\u001b[39;49m\u001b[43m:\u001b[49m\u001b[43m \u001b[49m\u001b[43mmodel\u001b[49m\u001b[43m,\u001b[49m\n\u001b[1;32m    748\u001b[0m \u001b[43m                \u001b[49m\u001b[38;5;124;43m\"\u001b[39;49m\u001b[38;5;124;43mfrequency_penalty\u001b[39;49m\u001b[38;5;124;43m\"\u001b[39;49m\u001b[43m:\u001b[49m\u001b[43m \u001b[49m\u001b[43mfrequency_penalty\u001b[49m\u001b[43m,\u001b[49m\n\u001b[1;32m    749\u001b[0m \u001b[43m                \u001b[49m\u001b[38;5;124;43m\"\u001b[39;49m\u001b[38;5;124;43mfunction_call\u001b[39;49m\u001b[38;5;124;43m\"\u001b[39;49m\u001b[43m:\u001b[49m\u001b[43m \u001b[49m\u001b[43mfunction_call\u001b[49m\u001b[43m,\u001b[49m\n\u001b[1;32m    750\u001b[0m \u001b[43m                \u001b[49m\u001b[38;5;124;43m\"\u001b[39;49m\u001b[38;5;124;43mfunctions\u001b[39;49m\u001b[38;5;124;43m\"\u001b[39;49m\u001b[43m:\u001b[49m\u001b[43m \u001b[49m\u001b[43mfunctions\u001b[49m\u001b[43m,\u001b[49m\n\u001b[1;32m    751\u001b[0m \u001b[43m                \u001b[49m\u001b[38;5;124;43m\"\u001b[39;49m\u001b[38;5;124;43mlogit_bias\u001b[39;49m\u001b[38;5;124;43m\"\u001b[39;49m\u001b[43m:\u001b[49m\u001b[43m \u001b[49m\u001b[43mlogit_bias\u001b[49m\u001b[43m,\u001b[49m\n\u001b[1;32m    752\u001b[0m \u001b[43m                \u001b[49m\u001b[38;5;124;43m\"\u001b[39;49m\u001b[38;5;124;43mlogprobs\u001b[39;49m\u001b[38;5;124;43m\"\u001b[39;49m\u001b[43m:\u001b[49m\u001b[43m \u001b[49m\u001b[43mlogprobs\u001b[49m\u001b[43m,\u001b[49m\n\u001b[1;32m    753\u001b[0m \u001b[43m                \u001b[49m\u001b[38;5;124;43m\"\u001b[39;49m\u001b[38;5;124;43mmax_completion_tokens\u001b[39;49m\u001b[38;5;124;43m\"\u001b[39;49m\u001b[43m:\u001b[49m\u001b[43m \u001b[49m\u001b[43mmax_completion_tokens\u001b[49m\u001b[43m,\u001b[49m\n\u001b[1;32m    754\u001b[0m \u001b[43m                \u001b[49m\u001b[38;5;124;43m\"\u001b[39;49m\u001b[38;5;124;43mmax_tokens\u001b[39;49m\u001b[38;5;124;43m\"\u001b[39;49m\u001b[43m:\u001b[49m\u001b[43m \u001b[49m\u001b[43mmax_tokens\u001b[49m\u001b[43m,\u001b[49m\n\u001b[1;32m    755\u001b[0m \u001b[43m                \u001b[49m\u001b[38;5;124;43m\"\u001b[39;49m\u001b[38;5;124;43mmetadata\u001b[39;49m\u001b[38;5;124;43m\"\u001b[39;49m\u001b[43m:\u001b[49m\u001b[43m \u001b[49m\u001b[43mmetadata\u001b[49m\u001b[43m,\u001b[49m\n\u001b[1;32m    756\u001b[0m \u001b[43m                \u001b[49m\u001b[38;5;124;43m\"\u001b[39;49m\u001b[38;5;124;43mn\u001b[39;49m\u001b[38;5;124;43m\"\u001b[39;49m\u001b[43m:\u001b[49m\u001b[43m \u001b[49m\u001b[43mn\u001b[49m\u001b[43m,\u001b[49m\n\u001b[1;32m    757\u001b[0m \u001b[43m                \u001b[49m\u001b[38;5;124;43m\"\u001b[39;49m\u001b[38;5;124;43mparallel_tool_calls\u001b[39;49m\u001b[38;5;124;43m\"\u001b[39;49m\u001b[43m:\u001b[49m\u001b[43m \u001b[49m\u001b[43mparallel_tool_calls\u001b[49m\u001b[43m,\u001b[49m\n\u001b[1;32m    758\u001b[0m \u001b[43m                \u001b[49m\u001b[38;5;124;43m\"\u001b[39;49m\u001b[38;5;124;43mpresence_penalty\u001b[39;49m\u001b[38;5;124;43m\"\u001b[39;49m\u001b[43m:\u001b[49m\u001b[43m \u001b[49m\u001b[43mpresence_penalty\u001b[49m\u001b[43m,\u001b[49m\n\u001b[1;32m    759\u001b[0m \u001b[43m                \u001b[49m\u001b[38;5;124;43m\"\u001b[39;49m\u001b[38;5;124;43mresponse_format\u001b[39;49m\u001b[38;5;124;43m\"\u001b[39;49m\u001b[43m:\u001b[49m\u001b[43m \u001b[49m\u001b[43mresponse_format\u001b[49m\u001b[43m,\u001b[49m\n\u001b[1;32m    760\u001b[0m \u001b[43m                \u001b[49m\u001b[38;5;124;43m\"\u001b[39;49m\u001b[38;5;124;43mseed\u001b[39;49m\u001b[38;5;124;43m\"\u001b[39;49m\u001b[43m:\u001b[49m\u001b[43m \u001b[49m\u001b[43mseed\u001b[49m\u001b[43m,\u001b[49m\n\u001b[1;32m    761\u001b[0m \u001b[43m                \u001b[49m\u001b[38;5;124;43m\"\u001b[39;49m\u001b[38;5;124;43mservice_tier\u001b[39;49m\u001b[38;5;124;43m\"\u001b[39;49m\u001b[43m:\u001b[49m\u001b[43m \u001b[49m\u001b[43mservice_tier\u001b[49m\u001b[43m,\u001b[49m\n\u001b[1;32m    762\u001b[0m \u001b[43m                \u001b[49m\u001b[38;5;124;43m\"\u001b[39;49m\u001b[38;5;124;43mstop\u001b[39;49m\u001b[38;5;124;43m\"\u001b[39;49m\u001b[43m:\u001b[49m\u001b[43m \u001b[49m\u001b[43mstop\u001b[49m\u001b[43m,\u001b[49m\n\u001b[1;32m    763\u001b[0m \u001b[43m                \u001b[49m\u001b[38;5;124;43m\"\u001b[39;49m\u001b[38;5;124;43mstore\u001b[39;49m\u001b[38;5;124;43m\"\u001b[39;49m\u001b[43m:\u001b[49m\u001b[43m \u001b[49m\u001b[43mstore\u001b[49m\u001b[43m,\u001b[49m\n\u001b[1;32m    764\u001b[0m \u001b[43m                \u001b[49m\u001b[38;5;124;43m\"\u001b[39;49m\u001b[38;5;124;43mstream\u001b[39;49m\u001b[38;5;124;43m\"\u001b[39;49m\u001b[43m:\u001b[49m\u001b[43m \u001b[49m\u001b[43mstream\u001b[49m\u001b[43m,\u001b[49m\n\u001b[1;32m    765\u001b[0m \u001b[43m                \u001b[49m\u001b[38;5;124;43m\"\u001b[39;49m\u001b[38;5;124;43mstream_options\u001b[39;49m\u001b[38;5;124;43m\"\u001b[39;49m\u001b[43m:\u001b[49m\u001b[43m \u001b[49m\u001b[43mstream_options\u001b[49m\u001b[43m,\u001b[49m\n\u001b[1;32m    766\u001b[0m \u001b[43m                \u001b[49m\u001b[38;5;124;43m\"\u001b[39;49m\u001b[38;5;124;43mtemperature\u001b[39;49m\u001b[38;5;124;43m\"\u001b[39;49m\u001b[43m:\u001b[49m\u001b[43m \u001b[49m\u001b[43mtemperature\u001b[49m\u001b[43m,\u001b[49m\n\u001b[1;32m    767\u001b[0m \u001b[43m                \u001b[49m\u001b[38;5;124;43m\"\u001b[39;49m\u001b[38;5;124;43mtool_choice\u001b[39;49m\u001b[38;5;124;43m\"\u001b[39;49m\u001b[43m:\u001b[49m\u001b[43m \u001b[49m\u001b[43mtool_choice\u001b[49m\u001b[43m,\u001b[49m\n\u001b[1;32m    768\u001b[0m \u001b[43m                \u001b[49m\u001b[38;5;124;43m\"\u001b[39;49m\u001b[38;5;124;43mtools\u001b[39;49m\u001b[38;5;124;43m\"\u001b[39;49m\u001b[43m:\u001b[49m\u001b[43m \u001b[49m\u001b[43mtools\u001b[49m\u001b[43m,\u001b[49m\n\u001b[1;32m    769\u001b[0m \u001b[43m                \u001b[49m\u001b[38;5;124;43m\"\u001b[39;49m\u001b[38;5;124;43mtop_logprobs\u001b[39;49m\u001b[38;5;124;43m\"\u001b[39;49m\u001b[43m:\u001b[49m\u001b[43m \u001b[49m\u001b[43mtop_logprobs\u001b[49m\u001b[43m,\u001b[49m\n\u001b[1;32m    770\u001b[0m \u001b[43m                \u001b[49m\u001b[38;5;124;43m\"\u001b[39;49m\u001b[38;5;124;43mtop_p\u001b[39;49m\u001b[38;5;124;43m\"\u001b[39;49m\u001b[43m:\u001b[49m\u001b[43m \u001b[49m\u001b[43mtop_p\u001b[49m\u001b[43m,\u001b[49m\n\u001b[1;32m    771\u001b[0m \u001b[43m                \u001b[49m\u001b[38;5;124;43m\"\u001b[39;49m\u001b[38;5;124;43muser\u001b[39;49m\u001b[38;5;124;43m\"\u001b[39;49m\u001b[43m:\u001b[49m\u001b[43m \u001b[49m\u001b[43muser\u001b[49m\u001b[43m,\u001b[49m\n\u001b[1;32m    772\u001b[0m \u001b[43m            \u001b[49m\u001b[43m}\u001b[49m\u001b[43m,\u001b[49m\n\u001b[1;32m    773\u001b[0m \u001b[43m            \u001b[49m\u001b[43mcompletion_create_params\u001b[49m\u001b[38;5;241;43m.\u001b[39;49m\u001b[43mCompletionCreateParams\u001b[49m\u001b[43m,\u001b[49m\n\u001b[1;32m    774\u001b[0m \u001b[43m        \u001b[49m\u001b[43m)\u001b[49m\u001b[43m,\u001b[49m\n\u001b[1;32m    775\u001b[0m \u001b[43m        \u001b[49m\u001b[43moptions\u001b[49m\u001b[38;5;241;43m=\u001b[39;49m\u001b[43mmake_request_options\u001b[49m\u001b[43m(\u001b[49m\n\u001b[1;32m    776\u001b[0m \u001b[43m            \u001b[49m\u001b[43mextra_headers\u001b[49m\u001b[38;5;241;43m=\u001b[39;49m\u001b[43mextra_headers\u001b[49m\u001b[43m,\u001b[49m\u001b[43m \u001b[49m\u001b[43mextra_query\u001b[49m\u001b[38;5;241;43m=\u001b[39;49m\u001b[43mextra_query\u001b[49m\u001b[43m,\u001b[49m\u001b[43m \u001b[49m\u001b[43mextra_body\u001b[49m\u001b[38;5;241;43m=\u001b[39;49m\u001b[43mextra_body\u001b[49m\u001b[43m,\u001b[49m\u001b[43m \u001b[49m\u001b[43mtimeout\u001b[49m\u001b[38;5;241;43m=\u001b[39;49m\u001b[43mtimeout\u001b[49m\n\u001b[1;32m    777\u001b[0m \u001b[43m        \u001b[49m\u001b[43m)\u001b[49m\u001b[43m,\u001b[49m\n\u001b[1;32m    778\u001b[0m \u001b[43m        \u001b[49m\u001b[43mcast_to\u001b[49m\u001b[38;5;241;43m=\u001b[39;49m\u001b[43mChatCompletion\u001b[49m\u001b[43m,\u001b[49m\n\u001b[1;32m    779\u001b[0m \u001b[43m        \u001b[49m\u001b[43mstream\u001b[49m\u001b[38;5;241;43m=\u001b[39;49m\u001b[43mstream\u001b[49m\u001b[43m \u001b[49m\u001b[38;5;129;43;01mor\u001b[39;49;00m\u001b[43m \u001b[49m\u001b[38;5;28;43;01mFalse\u001b[39;49;00m\u001b[43m,\u001b[49m\n\u001b[1;32m    780\u001b[0m \u001b[43m        \u001b[49m\u001b[43mstream_cls\u001b[49m\u001b[38;5;241;43m=\u001b[39;49m\u001b[43mStream\u001b[49m\u001b[43m[\u001b[49m\u001b[43mChatCompletionChunk\u001b[49m\u001b[43m]\u001b[49m\u001b[43m,\u001b[49m\n\u001b[1;32m    781\u001b[0m \u001b[43m    \u001b[49m\u001b[43m)\u001b[49m\n",
      "File \u001b[0;32m~/opt/anaconda3/envs/investment_analysis/lib/python3.12/site-packages/openai/_base_client.py:1277\u001b[0m, in \u001b[0;36mSyncAPIClient.post\u001b[0;34m(self, path, cast_to, body, options, files, stream, stream_cls)\u001b[0m\n\u001b[1;32m   1263\u001b[0m \u001b[38;5;28;01mdef\u001b[39;00m \u001b[38;5;21mpost\u001b[39m(\n\u001b[1;32m   1264\u001b[0m     \u001b[38;5;28mself\u001b[39m,\n\u001b[1;32m   1265\u001b[0m     path: \u001b[38;5;28mstr\u001b[39m,\n\u001b[0;32m   (...)\u001b[0m\n\u001b[1;32m   1272\u001b[0m     stream_cls: \u001b[38;5;28mtype\u001b[39m[_StreamT] \u001b[38;5;241m|\u001b[39m \u001b[38;5;28;01mNone\u001b[39;00m \u001b[38;5;241m=\u001b[39m \u001b[38;5;28;01mNone\u001b[39;00m,\n\u001b[1;32m   1273\u001b[0m ) \u001b[38;5;241m-\u001b[39m\u001b[38;5;241m>\u001b[39m ResponseT \u001b[38;5;241m|\u001b[39m _StreamT:\n\u001b[1;32m   1274\u001b[0m     opts \u001b[38;5;241m=\u001b[39m FinalRequestOptions\u001b[38;5;241m.\u001b[39mconstruct(\n\u001b[1;32m   1275\u001b[0m         method\u001b[38;5;241m=\u001b[39m\u001b[38;5;124m\"\u001b[39m\u001b[38;5;124mpost\u001b[39m\u001b[38;5;124m\"\u001b[39m, url\u001b[38;5;241m=\u001b[39mpath, json_data\u001b[38;5;241m=\u001b[39mbody, files\u001b[38;5;241m=\u001b[39mto_httpx_files(files), \u001b[38;5;241m*\u001b[39m\u001b[38;5;241m*\u001b[39moptions\n\u001b[1;32m   1276\u001b[0m     )\n\u001b[0;32m-> 1277\u001b[0m     \u001b[38;5;28;01mreturn\u001b[39;00m cast(ResponseT, \u001b[38;5;28;43mself\u001b[39;49m\u001b[38;5;241;43m.\u001b[39;49m\u001b[43mrequest\u001b[49m\u001b[43m(\u001b[49m\u001b[43mcast_to\u001b[49m\u001b[43m,\u001b[49m\u001b[43m \u001b[49m\u001b[43mopts\u001b[49m\u001b[43m,\u001b[49m\u001b[43m \u001b[49m\u001b[43mstream\u001b[49m\u001b[38;5;241;43m=\u001b[39;49m\u001b[43mstream\u001b[49m\u001b[43m,\u001b[49m\u001b[43m \u001b[49m\u001b[43mstream_cls\u001b[49m\u001b[38;5;241;43m=\u001b[39;49m\u001b[43mstream_cls\u001b[49m\u001b[43m)\u001b[49m)\n",
      "File \u001b[0;32m~/opt/anaconda3/envs/investment_analysis/lib/python3.12/site-packages/openai/_base_client.py:954\u001b[0m, in \u001b[0;36mSyncAPIClient.request\u001b[0;34m(self, cast_to, options, remaining_retries, stream, stream_cls)\u001b[0m\n\u001b[1;32m    951\u001b[0m \u001b[38;5;28;01melse\u001b[39;00m:\n\u001b[1;32m    952\u001b[0m     retries_taken \u001b[38;5;241m=\u001b[39m \u001b[38;5;241m0\u001b[39m\n\u001b[0;32m--> 954\u001b[0m \u001b[38;5;28;01mreturn\u001b[39;00m \u001b[38;5;28;43mself\u001b[39;49m\u001b[38;5;241;43m.\u001b[39;49m\u001b[43m_request\u001b[49m\u001b[43m(\u001b[49m\n\u001b[1;32m    955\u001b[0m \u001b[43m    \u001b[49m\u001b[43mcast_to\u001b[49m\u001b[38;5;241;43m=\u001b[39;49m\u001b[43mcast_to\u001b[49m\u001b[43m,\u001b[49m\n\u001b[1;32m    956\u001b[0m \u001b[43m    \u001b[49m\u001b[43moptions\u001b[49m\u001b[38;5;241;43m=\u001b[39;49m\u001b[43moptions\u001b[49m\u001b[43m,\u001b[49m\n\u001b[1;32m    957\u001b[0m \u001b[43m    \u001b[49m\u001b[43mstream\u001b[49m\u001b[38;5;241;43m=\u001b[39;49m\u001b[43mstream\u001b[49m\u001b[43m,\u001b[49m\n\u001b[1;32m    958\u001b[0m \u001b[43m    \u001b[49m\u001b[43mstream_cls\u001b[49m\u001b[38;5;241;43m=\u001b[39;49m\u001b[43mstream_cls\u001b[49m\u001b[43m,\u001b[49m\n\u001b[1;32m    959\u001b[0m \u001b[43m    \u001b[49m\u001b[43mretries_taken\u001b[49m\u001b[38;5;241;43m=\u001b[39;49m\u001b[43mretries_taken\u001b[49m\u001b[43m,\u001b[49m\n\u001b[1;32m    960\u001b[0m \u001b[43m\u001b[49m\u001b[43m)\u001b[49m\n",
      "File \u001b[0;32m~/opt/anaconda3/envs/investment_analysis/lib/python3.12/site-packages/openai/_base_client.py:1043\u001b[0m, in \u001b[0;36mSyncAPIClient._request\u001b[0;34m(self, cast_to, options, retries_taken, stream, stream_cls)\u001b[0m\n\u001b[1;32m   1041\u001b[0m \u001b[38;5;28;01mif\u001b[39;00m remaining_retries \u001b[38;5;241m>\u001b[39m \u001b[38;5;241m0\u001b[39m \u001b[38;5;129;01mand\u001b[39;00m \u001b[38;5;28mself\u001b[39m\u001b[38;5;241m.\u001b[39m_should_retry(err\u001b[38;5;241m.\u001b[39mresponse):\n\u001b[1;32m   1042\u001b[0m     err\u001b[38;5;241m.\u001b[39mresponse\u001b[38;5;241m.\u001b[39mclose()\n\u001b[0;32m-> 1043\u001b[0m     \u001b[38;5;28;01mreturn\u001b[39;00m \u001b[38;5;28;43mself\u001b[39;49m\u001b[38;5;241;43m.\u001b[39;49m\u001b[43m_retry_request\u001b[49m\u001b[43m(\u001b[49m\n\u001b[1;32m   1044\u001b[0m \u001b[43m        \u001b[49m\u001b[43minput_options\u001b[49m\u001b[43m,\u001b[49m\n\u001b[1;32m   1045\u001b[0m \u001b[43m        \u001b[49m\u001b[43mcast_to\u001b[49m\u001b[43m,\u001b[49m\n\u001b[1;32m   1046\u001b[0m \u001b[43m        \u001b[49m\u001b[43mretries_taken\u001b[49m\u001b[38;5;241;43m=\u001b[39;49m\u001b[43mretries_taken\u001b[49m\u001b[43m,\u001b[49m\n\u001b[1;32m   1047\u001b[0m \u001b[43m        \u001b[49m\u001b[43mresponse_headers\u001b[49m\u001b[38;5;241;43m=\u001b[39;49m\u001b[43merr\u001b[49m\u001b[38;5;241;43m.\u001b[39;49m\u001b[43mresponse\u001b[49m\u001b[38;5;241;43m.\u001b[39;49m\u001b[43mheaders\u001b[49m\u001b[43m,\u001b[49m\n\u001b[1;32m   1048\u001b[0m \u001b[43m        \u001b[49m\u001b[43mstream\u001b[49m\u001b[38;5;241;43m=\u001b[39;49m\u001b[43mstream\u001b[49m\u001b[43m,\u001b[49m\n\u001b[1;32m   1049\u001b[0m \u001b[43m        \u001b[49m\u001b[43mstream_cls\u001b[49m\u001b[38;5;241;43m=\u001b[39;49m\u001b[43mstream_cls\u001b[49m\u001b[43m,\u001b[49m\n\u001b[1;32m   1050\u001b[0m \u001b[43m    \u001b[49m\u001b[43m)\u001b[49m\n\u001b[1;32m   1052\u001b[0m \u001b[38;5;66;03m# If the response is streamed then we need to explicitly read the response\u001b[39;00m\n\u001b[1;32m   1053\u001b[0m \u001b[38;5;66;03m# to completion before attempting to access the response text.\u001b[39;00m\n\u001b[1;32m   1054\u001b[0m \u001b[38;5;28;01mif\u001b[39;00m \u001b[38;5;129;01mnot\u001b[39;00m err\u001b[38;5;241m.\u001b[39mresponse\u001b[38;5;241m.\u001b[39mis_closed:\n",
      "File \u001b[0;32m~/opt/anaconda3/envs/investment_analysis/lib/python3.12/site-packages/openai/_base_client.py:1092\u001b[0m, in \u001b[0;36mSyncAPIClient._retry_request\u001b[0;34m(self, options, cast_to, retries_taken, response_headers, stream, stream_cls)\u001b[0m\n\u001b[1;32m   1088\u001b[0m \u001b[38;5;66;03m# In a synchronous context we are blocking the entire thread. Up to the library user to run the client in a\u001b[39;00m\n\u001b[1;32m   1089\u001b[0m \u001b[38;5;66;03m# different thread if necessary.\u001b[39;00m\n\u001b[1;32m   1090\u001b[0m time\u001b[38;5;241m.\u001b[39msleep(timeout)\n\u001b[0;32m-> 1092\u001b[0m \u001b[38;5;28;01mreturn\u001b[39;00m \u001b[38;5;28;43mself\u001b[39;49m\u001b[38;5;241;43m.\u001b[39;49m\u001b[43m_request\u001b[49m\u001b[43m(\u001b[49m\n\u001b[1;32m   1093\u001b[0m \u001b[43m    \u001b[49m\u001b[43moptions\u001b[49m\u001b[38;5;241;43m=\u001b[39;49m\u001b[43moptions\u001b[49m\u001b[43m,\u001b[49m\n\u001b[1;32m   1094\u001b[0m \u001b[43m    \u001b[49m\u001b[43mcast_to\u001b[49m\u001b[38;5;241;43m=\u001b[39;49m\u001b[43mcast_to\u001b[49m\u001b[43m,\u001b[49m\n\u001b[1;32m   1095\u001b[0m \u001b[43m    \u001b[49m\u001b[43mretries_taken\u001b[49m\u001b[38;5;241;43m=\u001b[39;49m\u001b[43mretries_taken\u001b[49m\u001b[43m \u001b[49m\u001b[38;5;241;43m+\u001b[39;49m\u001b[43m \u001b[49m\u001b[38;5;241;43m1\u001b[39;49m\u001b[43m,\u001b[49m\n\u001b[1;32m   1096\u001b[0m \u001b[43m    \u001b[49m\u001b[43mstream\u001b[49m\u001b[38;5;241;43m=\u001b[39;49m\u001b[43mstream\u001b[49m\u001b[43m,\u001b[49m\n\u001b[1;32m   1097\u001b[0m \u001b[43m    \u001b[49m\u001b[43mstream_cls\u001b[49m\u001b[38;5;241;43m=\u001b[39;49m\u001b[43mstream_cls\u001b[49m\u001b[43m,\u001b[49m\n\u001b[1;32m   1098\u001b[0m \u001b[43m\u001b[49m\u001b[43m)\u001b[49m\n",
      "File \u001b[0;32m~/opt/anaconda3/envs/investment_analysis/lib/python3.12/site-packages/openai/_base_client.py:1043\u001b[0m, in \u001b[0;36mSyncAPIClient._request\u001b[0;34m(self, cast_to, options, retries_taken, stream, stream_cls)\u001b[0m\n\u001b[1;32m   1041\u001b[0m \u001b[38;5;28;01mif\u001b[39;00m remaining_retries \u001b[38;5;241m>\u001b[39m \u001b[38;5;241m0\u001b[39m \u001b[38;5;129;01mand\u001b[39;00m \u001b[38;5;28mself\u001b[39m\u001b[38;5;241m.\u001b[39m_should_retry(err\u001b[38;5;241m.\u001b[39mresponse):\n\u001b[1;32m   1042\u001b[0m     err\u001b[38;5;241m.\u001b[39mresponse\u001b[38;5;241m.\u001b[39mclose()\n\u001b[0;32m-> 1043\u001b[0m     \u001b[38;5;28;01mreturn\u001b[39;00m \u001b[38;5;28;43mself\u001b[39;49m\u001b[38;5;241;43m.\u001b[39;49m\u001b[43m_retry_request\u001b[49m\u001b[43m(\u001b[49m\n\u001b[1;32m   1044\u001b[0m \u001b[43m        \u001b[49m\u001b[43minput_options\u001b[49m\u001b[43m,\u001b[49m\n\u001b[1;32m   1045\u001b[0m \u001b[43m        \u001b[49m\u001b[43mcast_to\u001b[49m\u001b[43m,\u001b[49m\n\u001b[1;32m   1046\u001b[0m \u001b[43m        \u001b[49m\u001b[43mretries_taken\u001b[49m\u001b[38;5;241;43m=\u001b[39;49m\u001b[43mretries_taken\u001b[49m\u001b[43m,\u001b[49m\n\u001b[1;32m   1047\u001b[0m \u001b[43m        \u001b[49m\u001b[43mresponse_headers\u001b[49m\u001b[38;5;241;43m=\u001b[39;49m\u001b[43merr\u001b[49m\u001b[38;5;241;43m.\u001b[39;49m\u001b[43mresponse\u001b[49m\u001b[38;5;241;43m.\u001b[39;49m\u001b[43mheaders\u001b[49m\u001b[43m,\u001b[49m\n\u001b[1;32m   1048\u001b[0m \u001b[43m        \u001b[49m\u001b[43mstream\u001b[49m\u001b[38;5;241;43m=\u001b[39;49m\u001b[43mstream\u001b[49m\u001b[43m,\u001b[49m\n\u001b[1;32m   1049\u001b[0m \u001b[43m        \u001b[49m\u001b[43mstream_cls\u001b[49m\u001b[38;5;241;43m=\u001b[39;49m\u001b[43mstream_cls\u001b[49m\u001b[43m,\u001b[49m\n\u001b[1;32m   1050\u001b[0m \u001b[43m    \u001b[49m\u001b[43m)\u001b[49m\n\u001b[1;32m   1052\u001b[0m \u001b[38;5;66;03m# If the response is streamed then we need to explicitly read the response\u001b[39;00m\n\u001b[1;32m   1053\u001b[0m \u001b[38;5;66;03m# to completion before attempting to access the response text.\u001b[39;00m\n\u001b[1;32m   1054\u001b[0m \u001b[38;5;28;01mif\u001b[39;00m \u001b[38;5;129;01mnot\u001b[39;00m err\u001b[38;5;241m.\u001b[39mresponse\u001b[38;5;241m.\u001b[39mis_closed:\n",
      "File \u001b[0;32m~/opt/anaconda3/envs/investment_analysis/lib/python3.12/site-packages/openai/_base_client.py:1092\u001b[0m, in \u001b[0;36mSyncAPIClient._retry_request\u001b[0;34m(self, options, cast_to, retries_taken, response_headers, stream, stream_cls)\u001b[0m\n\u001b[1;32m   1088\u001b[0m \u001b[38;5;66;03m# In a synchronous context we are blocking the entire thread. Up to the library user to run the client in a\u001b[39;00m\n\u001b[1;32m   1089\u001b[0m \u001b[38;5;66;03m# different thread if necessary.\u001b[39;00m\n\u001b[1;32m   1090\u001b[0m time\u001b[38;5;241m.\u001b[39msleep(timeout)\n\u001b[0;32m-> 1092\u001b[0m \u001b[38;5;28;01mreturn\u001b[39;00m \u001b[38;5;28;43mself\u001b[39;49m\u001b[38;5;241;43m.\u001b[39;49m\u001b[43m_request\u001b[49m\u001b[43m(\u001b[49m\n\u001b[1;32m   1093\u001b[0m \u001b[43m    \u001b[49m\u001b[43moptions\u001b[49m\u001b[38;5;241;43m=\u001b[39;49m\u001b[43moptions\u001b[49m\u001b[43m,\u001b[49m\n\u001b[1;32m   1094\u001b[0m \u001b[43m    \u001b[49m\u001b[43mcast_to\u001b[49m\u001b[38;5;241;43m=\u001b[39;49m\u001b[43mcast_to\u001b[49m\u001b[43m,\u001b[49m\n\u001b[1;32m   1095\u001b[0m \u001b[43m    \u001b[49m\u001b[43mretries_taken\u001b[49m\u001b[38;5;241;43m=\u001b[39;49m\u001b[43mretries_taken\u001b[49m\u001b[43m \u001b[49m\u001b[38;5;241;43m+\u001b[39;49m\u001b[43m \u001b[49m\u001b[38;5;241;43m1\u001b[39;49m\u001b[43m,\u001b[49m\n\u001b[1;32m   1096\u001b[0m \u001b[43m    \u001b[49m\u001b[43mstream\u001b[49m\u001b[38;5;241;43m=\u001b[39;49m\u001b[43mstream\u001b[49m\u001b[43m,\u001b[49m\n\u001b[1;32m   1097\u001b[0m \u001b[43m    \u001b[49m\u001b[43mstream_cls\u001b[49m\u001b[38;5;241;43m=\u001b[39;49m\u001b[43mstream_cls\u001b[49m\u001b[43m,\u001b[49m\n\u001b[1;32m   1098\u001b[0m \u001b[43m\u001b[49m\u001b[43m)\u001b[49m\n",
      "File \u001b[0;32m~/opt/anaconda3/envs/investment_analysis/lib/python3.12/site-packages/openai/_base_client.py:1058\u001b[0m, in \u001b[0;36mSyncAPIClient._request\u001b[0;34m(self, cast_to, options, retries_taken, stream, stream_cls)\u001b[0m\n\u001b[1;32m   1055\u001b[0m         err\u001b[38;5;241m.\u001b[39mresponse\u001b[38;5;241m.\u001b[39mread()\n\u001b[1;32m   1057\u001b[0m     log\u001b[38;5;241m.\u001b[39mdebug(\u001b[38;5;124m\"\u001b[39m\u001b[38;5;124mRe-raising status error\u001b[39m\u001b[38;5;124m\"\u001b[39m)\n\u001b[0;32m-> 1058\u001b[0m     \u001b[38;5;28;01mraise\u001b[39;00m \u001b[38;5;28mself\u001b[39m\u001b[38;5;241m.\u001b[39m_make_status_error_from_response(err\u001b[38;5;241m.\u001b[39mresponse) \u001b[38;5;28;01mfrom\u001b[39;00m \u001b[38;5;28;01mNone\u001b[39;00m\n\u001b[1;32m   1060\u001b[0m \u001b[38;5;28;01mreturn\u001b[39;00m \u001b[38;5;28mself\u001b[39m\u001b[38;5;241m.\u001b[39m_process_response(\n\u001b[1;32m   1061\u001b[0m     cast_to\u001b[38;5;241m=\u001b[39mcast_to,\n\u001b[1;32m   1062\u001b[0m     options\u001b[38;5;241m=\u001b[39moptions,\n\u001b[0;32m   (...)\u001b[0m\n\u001b[1;32m   1066\u001b[0m     retries_taken\u001b[38;5;241m=\u001b[39mretries_taken,\n\u001b[1;32m   1067\u001b[0m )\n",
      "\u001b[0;31mRateLimitError\u001b[0m: Error code: 429 - {'error': {'message': 'You exceeded your current quota, please check your plan and billing details. For more information on this error, read the docs: https://platform.openai.com/docs/guides/error-codes/api-errors.', 'type': 'insufficient_quota', 'param': None, 'code': 'insufficient_quota'}}"
     ]
    }
   ],
   "source": [
    "openai_api_key = credentials.openai_api_key\n",
    "client=openai.OpenAI(api_key=openai_api_key)\n",
    "\n",
    "# Function to classify company into sectors\n",
    "def classify_company(description, sectors):\n",
    "    \n",
    "    prompt = f\"Given the following company description, classify the company into one of these sectors: {', '.join(sectors)}.\\n\\nDescription: {description}\\n\\nSector:\\n\\nLimit your response to one of the sectors provided without any additional text.\"\n",
    "\n",
    "    response = client.chat.completions.create(\n",
    "        model=\"gpt-3.5-turbo\",  # Use the model of your choice, gpt-4 or gpt-3.5-turbo\n",
    "        messages=[\n",
    "            {\"role\": \"system\", \"content\": \"You are a helpful assistant.\"},\n",
    "            {\"role\": \"user\", \"content\": prompt}\n",
    "        ],\n",
    "        max_tokens=50,\n",
    "        temperature=0\n",
    "    )\n",
    "\n",
    "    classification = response['choices'][0]['message']['content'].strip()\n",
    "    return classification\n",
    "\n",
    "# Get classification for a sample company\n",
    "this_classification = classify_company(this_des, industry_classes)\n",
    "print(f\"Classified Sector: {this_classification}\")\n",
    "print('--actual class:', this_industry)\n",
    "\n",
    "\n",
    "this_classification = classify_company(this_des, industry_classes)\n",
    "print(f\"Classified Sector: {this_classification}\")\n",
    "print('--actual class:', this_industry)\n"
   ]
  },
  {
   "cell_type": "code",
   "execution_count": 196,
   "metadata": {},
   "outputs": [
    {
     "name": "stdout",
     "output_type": "stream",
     "text": [
      "-- 0\n",
      "-- 50\n",
      "error on BRO\n",
      "-- 100\n",
      "error on CNC\n",
      "error on CI\n",
      "error on DHI\n",
      "-- 150\n",
      "error on DG\n",
      "error on FIS\n",
      "-- 200\n",
      "-- 250\n",
      "error on IP\n",
      "error on KKR\n",
      "-- 300\n",
      "-- 350\n",
      "error on UHS\n",
      "error on WEC\n",
      "-- 400\n",
      "error on MS\n",
      "-- 450\n",
      "error on PHM\n",
      "error on QCOM\n",
      "-- 500\n",
      "0.8190854870775348\n"
     ]
    }
   ],
   "source": [
    "\n",
    "\n",
    "\n",
    "from anthropic import Anthropic\n",
    "\n",
    "def classify_sector_from_description_anthropic(description, classes):\n",
    "\n",
    "    client = Anthropic(api_key=my_api_key)\n",
    "\n",
    "    response = client.messages.create(\n",
    "    model=\"claude-3-haiku-20240307\",\n",
    "    max_tokens=1000,\n",
    "    messages=[\n",
    "        {\"role\": \"user\", \n",
    "         \"content\": f'''Given the following company description, classify the company into one of these \n",
    "         sectors: {', '.join(sector_classes)}.\\n\\nDescription: {this_des}\\n\\nSector:\\n\\n\n",
    "         Provide your response as a tuple where the first element is one of the sectors provided,\n",
    "         the second element is a measure of confidence in the classification from 0 to 100 and the third\n",
    "         element is your next best classification. Your response should just be the tuple and no other text'''}\n",
    "        ]\n",
    "    )\n",
    "\n",
    "    text_response = response.content[0].text\n",
    "    return ast.literal_eval(text_response)\n",
    "\n",
    "results = []\n",
    "for this_row in df_company_profiles.iterrows():\n",
    "\n",
    "    if this_row[0] % 50 == 0:\n",
    "        print('--', this_row[0])\n",
    "\n",
    "    this_des = this_row[1]['description']\n",
    "    this_symbol = this_row[1]['symbol']\n",
    "    this_name = this_row[1]['name']\n",
    "    this_industry = this_row[1]['industry']\n",
    "    this_sector = this_row[1]['sector']\n",
    "\n",
    "\n",
    "    # censor the company name from the description to prevent leakage \n",
    "    this_des = this_des.replace(this_name, 'XXX')\n",
    "    try:\n",
    "        llm_result = classify_sector_from_description_anthropic(this_des, sector_classes)\n",
    "        this_classification = llm_result[0]\n",
    "        this_confidence = llm_result[1]\n",
    "        this_next_best = llm_result[2]\n",
    "\n",
    "        this_classification = [this_symbol, this_classification, this_confidence, this_next_best]\n",
    "        results.append(this_classification)\n",
    "    except:\n",
    "        print(f'error on {this_symbol}')\n",
    "\n",
    "results = pd.DataFrame(results, columns=['symbol', 'classification', 'confidence', 'next_best'])\n",
    "results = df_company_profiles.merge(results, how='outer', on='symbol')\n",
    "print((results['sector'] == results['classification']).mean())"
   ]
  },
  {
   "cell_type": "code",
   "execution_count": 198,
   "metadata": {},
   "outputs": [],
   "source": [
    "results.to_csv(data_dir + 'fmp_company_profiles_with_llm_classifications.csv', index=False)"
   ]
  },
  {
   "cell_type": "code",
   "execution_count": 124,
   "metadata": {},
   "outputs": [
    {
     "data": {
      "text/html": [
       "<div>\n",
       "<style scoped>\n",
       "    .dataframe tbody tr th:only-of-type {\n",
       "        vertical-align: middle;\n",
       "    }\n",
       "\n",
       "    .dataframe tbody tr th {\n",
       "        vertical-align: top;\n",
       "    }\n",
       "\n",
       "    .dataframe thead th {\n",
       "        text-align: right;\n",
       "    }\n",
       "</style>\n",
       "<table border=\"1\" class=\"dataframe\">\n",
       "  <thead>\n",
       "    <tr style=\"text-align: right;\">\n",
       "      <th></th>\n",
       "      <th>symbol</th>\n",
       "      <th>date</th>\n",
       "      <th>totalAssets</th>\n",
       "    </tr>\n",
       "  </thead>\n",
       "  <tbody>\n",
       "    <tr>\n",
       "      <th>0</th>\n",
       "      <td>GOOGL</td>\n",
       "      <td>2023-12-31</td>\n",
       "      <td>402392000000</td>\n",
       "    </tr>\n",
       "  </tbody>\n",
       "</table>\n",
       "</div>"
      ],
      "text/plain": [
       "  symbol        date   totalAssets\n",
       "0  GOOGL  2023-12-31  402392000000"
      ]
     },
     "execution_count": 124,
     "metadata": {},
     "output_type": "execute_result"
    }
   ],
   "source": [
    "\n",
    "this_symbol = 'GOOGL'\n",
    "params = {\n",
    "        \"apikey\": API_KEY\n",
    "    }\n",
    "\n",
    "balance_sheet_url = f\"{BASE_URL}/balance-sheet-statement/{this_symbol}\"\n",
    "response = requests.get(balance_sheet_url, params=params)\n",
    "data = response.json()\n",
    "df = pd.DataFrame(data)\n",
    "df = df.sort_values(by='date')\n",
    "df.tail(1)[['symbol', 'date', 'totalAssets']]"
   ]
  },
  {
   "cell_type": "code",
   "execution_count": 42,
   "metadata": {},
   "outputs": [
    {
     "data": {
      "text/plain": [
       "True"
      ]
     },
     "execution_count": 42,
     "metadata": {},
     "output_type": "execute_result"
    }
   ],
   "source": [
    "response.ok"
   ]
  },
  {
   "cell_type": "code",
   "execution_count": 45,
   "metadata": {},
   "outputs": [
    {
     "name": "stdout",
     "output_type": "stream",
     "text": [
      "0.2280867099761963\n"
     ]
    }
   ],
   "source": [
    "import credentials\n",
    "ticker = 'GOOGL'\n",
    "\n",
    "\n",
    "def download_market_cap(ticker='GOOGL', start_date='2020-01-01'):\n",
    "        \n",
    "    url = f'https://financialmodelingprep.com/api/v3/historical-market-capitalization/{ticker}?from=2000-01-01'\n",
    "    params = {\n",
    "        \"apikey\": credentials.fmp_api_key,\n",
    "        \"from\": start_date  # Set the start date to 1990-01-01\n",
    "    }\n",
    "\n",
    "    # Send GET request to the API\n",
    "    response = requests.get(url, params=params)\n",
    "    data = response.json()\n",
    "\n",
    "    df = pd.DataFrame(data)\n",
    "    df['date'] = pd.to_datetime(df['date'])\n",
    "    df = df.sort_values(by='date')\n",
    "\n",
    "    return df\n",
    "\n",
    "start = time.time()\n",
    "df = download_market_cap(ticker='MSFT', start_date='1990-01-01')\n",
    "print(time.time() - start)\n",
    "\n",
    "\n"
   ]
  },
  {
   "cell_type": "code",
   "execution_count": 46,
   "metadata": {},
   "outputs": [
    {
     "data": {
      "text/plain": [
       "<Axes: xlabel='date'>"
      ]
     },
     "execution_count": 46,
     "metadata": {},
     "output_type": "execute_result"
    },
    {
     "data": {
      "image/png": "[encoded data removed]",
      "text/plain": [
       "<Figure size 640x480 with 1 Axes>"
      ]
     },
     "metadata": {},
     "output_type": "display_data"
    }
   ],
   "source": [
    "df.set_index('date')['marketCap'].plot()"
   ]
  },
  {
   "cell_type": "code",
   "execution_count": 37,
   "metadata": {},
   "outputs": [
    {
     "data": {
      "text/plain": [
       "[{'symbol': 'AAPL', 'date': '2024-09-23', 'marketCap': 3488612292200},\n",
       " {'symbol': 'AAPL', 'date': '2024-09-20', 'marketCap': 3488612292200},\n",
       " {'symbol': 'AAPL', 'date': '2024-09-19', 'marketCap': 3498854931270},\n",
       " {'symbol': 'AAPL', 'date': '2024-09-18', 'marketCap': 3373803009490},\n",
       " {'symbol': 'AAPL', 'date': '2024-09-17', 'marketCap': 3314181677590},\n",
       " {'symbol': 'AAPL', 'date': '2024-09-16', 'marketCap': 3306996542720},\n",
       " {'symbol': 'AAPL', 'date': '2024-09-13', 'marketCap': 3401473422500},\n",
       " {'symbol': 'AAPL', 'date': '2024-09-12', 'marketCap': 3405601053170},\n",
       " {'symbol': 'AAPL', 'date': '2024-09-11', 'marketCap': 3403919425860},\n",
       " {'symbol': 'AAPL', 'date': '2024-09-10', 'marketCap': 3364936247310},\n",
       " {'symbol': 'AAPL', 'date': '2024-09-09', 'marketCap': 3377166264110},\n",
       " {'symbol': 'AAPL', 'date': '2024-09-06', 'marketCap': 3375790387220},\n",
       " {'symbol': 'AAPL', 'date': '2024-09-05', 'marketCap': 3399638919980},\n",
       " {'symbol': 'AAPL', 'date': '2024-09-04', 'marketCap': 3376249012850},\n",
       " {'symbol': 'AAPL', 'date': '2024-09-03', 'marketCap': 3405601053170},\n",
       " {'symbol': 'AAPL', 'date': '2024-08-30', 'marketCap': 3500842309000},\n",
       " {'symbol': 'AAPL', 'date': '2024-08-29', 'marketCap': 3512919450590},\n",
       " {'symbol': 'AAPL', 'date': '2024-08-28', 'marketCap': 3462470631290},\n",
       " {'symbol': 'AAPL', 'date': '2024-08-27', 'marketCap': 3486013413630},\n",
       " {'symbol': 'AAPL', 'date': '2024-08-26', 'marketCap': 3473019020780},\n",
       " {'symbol': 'AAPL', 'date': '2024-08-23', 'marketCap': 3467821263640},\n",
       " {'symbol': 'AAPL', 'date': '2024-08-22', 'marketCap': 3432507090130},\n",
       " {'symbol': 'AAPL', 'date': '2024-08-21', 'marketCap': 3461094754400},\n",
       " {'symbol': 'AAPL', 'date': '2024-08-20', 'marketCap': 3462776381710},\n",
       " {'symbol': 'AAPL', 'date': '2024-08-19', 'marketCap': 3453298118690},\n",
       " {'symbol': 'AAPL', 'date': '2024-08-16', 'marketCap': 3455744122050},\n",
       " {'symbol': 'AAPL', 'date': '2024-08-15', 'marketCap': 3435411719120},\n",
       " {'symbol': 'AAPL', 'date': '2024-08-14', 'marketCap': 3389549156120},\n",
       " {'symbol': 'AAPL', 'date': '2024-08-13', 'marketCap': 3382669771670},\n",
       " {'symbol': 'AAPL', 'date': '2024-08-12', 'marketCap': 3325494443130},\n",
       " {'symbol': 'AAPL', 'date': '2024-08-09', 'marketCap': 3305773541040},\n",
       " {'symbol': 'AAPL', 'date': '2024-08-08', 'marketCap': 3260981104510},\n",
       " {'symbol': 'AAPL', 'date': '2024-08-07', 'marketCap': 3207627656220},\n",
       " {'symbol': 'AAPL', 'date': '2024-08-06', 'marketCap': 3168032976830},\n",
       " {'symbol': 'AAPL', 'date': '2024-08-05', 'marketCap': 3199219519670},\n",
       " {'symbol': 'AAPL', 'date': '2024-08-02', 'marketCap': 3361114367060},\n",
       " {'symbol': 'AAPL', 'date': '2024-08-01', 'marketCap': 3338183085560},\n",
       " {'symbol': 'AAPL', 'date': '2024-07-31', 'marketCap': 3395052663680},\n",
       " {'symbol': 'AAPL', 'date': '2024-07-30', 'marketCap': 3344909594800},\n",
       " {'symbol': 'AAPL', 'date': '2024-07-29', 'marketCap': 3336348583040},\n",
       " {'symbol': 'AAPL', 'date': '2024-07-26', 'marketCap': 3332068077160},\n",
       " {'symbol': 'AAPL', 'date': '2024-07-25', 'marketCap': 3324882942290},\n",
       " {'symbol': 'AAPL', 'date': '2024-07-24', 'marketCap': 3340934839340},\n",
       " {'symbol': 'AAPL', 'date': '2024-07-23', 'marketCap': 3439845100210},\n",
       " {'symbol': 'AAPL', 'date': '2024-07-22', 'marketCap': 3423793203160},\n",
       " {'symbol': 'AAPL', 'date': '2024-07-19', 'marketCap': 3429143835510},\n",
       " {'symbol': 'AAPL', 'date': '2024-07-18', 'marketCap': 3427156457780},\n",
       " {'symbol': 'AAPL', 'date': '2024-07-17', 'marketCap': 3499007806480},\n",
       " {'symbol': 'AAPL', 'date': '2024-07-16', 'marketCap': 3589815681220},\n",
       " {'symbol': 'AAPL', 'date': '2024-07-15', 'marketCap': 3583394922400},\n",
       " {'symbol': 'AAPL', 'date': '2024-07-12', 'marketCap': 3524385091340},\n",
       " {'symbol': 'AAPL', 'date': '2024-07-11', 'marketCap': 3478981153970},\n",
       " {'symbol': 'AAPL', 'date': '2024-07-10', 'marketCap': 3561686642580},\n",
       " {'symbol': 'AAPL', 'date': '2024-07-09', 'marketCap': 3495950302280},\n",
       " {'symbol': 'AAPL', 'date': '2024-07-08', 'marketCap': 3482803034220},\n",
       " {'symbol': 'AAPL', 'date': '2024-07-05', 'marketCap': 3460177503140},\n",
       " {'symbol': 'AAPL', 'date': '2024-07-03', 'marketCap': 3386950277550},\n",
       " {'symbol': 'AAPL', 'date': '2024-07-02', 'marketCap': 3367382250670},\n",
       " {'symbol': 'AAPL', 'date': '2024-07-01', 'marketCap': 3313570176750},\n",
       " {'symbol': 'AAPL', 'date': '2024-06-28', 'marketCap': 3219857673020},\n",
       " {'symbol': 'AAPL', 'date': '2024-06-27', 'marketCap': 3273058246100},\n",
       " {'symbol': 'AAPL', 'date': '2024-06-26', 'marketCap': 3260063853250},\n",
       " {'symbol': 'AAPL', 'date': '2024-06-25', 'marketCap': 3196162015470},\n",
       " {'symbol': 'AAPL', 'date': '2024-06-24', 'marketCap': 3181944620940},\n",
       " {'symbol': 'AAPL', 'date': '2024-06-21', 'marketCap': 3172007732290},\n",
       " {'symbol': 'AAPL', 'date': '2024-06-20', 'marketCap': 3205487403280},\n",
       " {'symbol': 'AAPL', 'date': '2024-06-18', 'marketCap': 3275962875090},\n",
       " {'symbol': 'AAPL', 'date': '2024-06-17', 'marketCap': 3312347175070},\n",
       " {'symbol': 'AAPL', 'date': '2024-06-14', 'marketCap': 3248445337290},\n",
       " {'symbol': 'AAPL', 'date': '2024-06-13', 'marketCap': 3275198499040},\n",
       " {'symbol': 'AAPL', 'date': '2024-06-12', 'marketCap': 3257312099470},\n",
       " {'symbol': 'AAPL', 'date': '2024-06-11', 'marketCap': 3166809975150},\n",
       " {'symbol': 'AAPL', 'date': '2024-06-10', 'marketCap': 2952326055520},\n",
       " {'symbol': 'AAPL', 'date': '2024-06-07', 'marketCap': 3009960009690},\n",
       " {'symbol': 'AAPL', 'date': '2024-06-06', 'marketCap': 2973117084080},\n",
       " {'symbol': 'AAPL', 'date': '2024-06-05', 'marketCap': 2994366738270},\n",
       " {'symbol': 'AAPL', 'date': '2024-06-04', 'marketCap': 2971129706350},\n",
       " {'symbol': 'AAPL', 'date': '2024-06-03', 'marketCap': 2966237699630},\n",
       " {'symbol': 'AAPL', 'date': '2024-05-31', 'marketCap': 2939025912250},\n",
       " {'symbol': 'AAPL', 'date': '2024-05-30', 'marketCap': 2924349892090},\n",
       " {'symbol': 'AAPL', 'date': '2024-05-29', 'marketCap': 2909062371090},\n",
       " {'symbol': 'AAPL', 'date': '2024-05-28', 'marketCap': 2904476114790},\n",
       " {'symbol': 'AAPL', 'date': '2024-05-24', 'marketCap': 2904323239580},\n",
       " {'symbol': 'AAPL', 'date': '2024-05-23', 'marketCap': 2856931924480},\n",
       " {'symbol': 'AAPL', 'date': '2024-05-22', 'marketCap': 2918387758900},\n",
       " {'symbol': 'AAPL', 'date': '2024-05-21', 'marketCap': 2940554664350},\n",
       " {'symbol': 'AAPL', 'date': '2024-05-20', 'marketCap': 2920528011840},\n",
       " {'symbol': 'AAPL', 'date': '2024-05-17', 'marketCap': 2902641612270},\n",
       " {'symbol': 'AAPL', 'date': '2024-05-16', 'marketCap': 2902182986640},\n",
       " {'symbol': 'AAPL', 'date': '2024-05-15', 'marketCap': 2900348484120},\n",
       " {'symbol': 'AAPL', 'date': '2024-05-14', 'marketCap': 2865340061030},\n",
       " {'symbol': 'AAPL', 'date': '2024-05-13', 'marketCap': 2847759411880},\n",
       " {'symbol': 'AAPL', 'date': '2024-05-10', 'marketCap': 2798380719050},\n",
       " {'symbol': 'AAPL', 'date': '2024-05-09', 'marketCap': 2821617750970},\n",
       " {'symbol': 'AAPL', 'date': '2024-05-08', 'marketCap': 2793641587540},\n",
       " {'symbol': 'AAPL', 'date': '2024-05-07', 'marketCap': 2788443830400},\n",
       " {'symbol': 'AAPL', 'date': '2024-05-06', 'marketCap': 2777895440910},\n",
       " {'symbol': 'AAPL', 'date': '2024-05-03', 'marketCap': 2803425600980},\n",
       " {'symbol': 'AAPL', 'date': '2024-05-02', 'marketCap': 2645199758630},\n",
       " {'symbol': 'AAPL', 'date': '2024-05-01', 'marketCap': 2588177305300},\n",
       " {'symbol': 'AAPL', 'date': '2024-04-30', 'marketCap': 2603923451930},\n",
       " {'symbol': 'AAPL', 'date': '2024-04-29', 'marketCap': 2652384893500},\n",
       " {'symbol': 'AAPL', 'date': '2024-04-26', 'marketCap': 2588177305300},\n",
       " {'symbol': 'AAPL', 'date': '2024-04-25', 'marketCap': 2597196942690},\n",
       " {'symbol': 'AAPL', 'date': '2024-04-24', 'marketCap': 2583896799420},\n",
       " {'symbol': 'AAPL', 'date': '2024-04-23', 'marketCap': 2551487254900},\n",
       " {'symbol': 'AAPL', 'date': '2024-04-22', 'marketCap': 2535282482640},\n",
       " {'symbol': 'AAPL', 'date': '2024-04-19', 'marketCap': 2522440965000},\n",
       " {'symbol': 'AAPL', 'date': '2024-04-18', 'marketCap': 2553627507840},\n",
       " {'symbol': 'AAPL', 'date': '2024-04-17', 'marketCap': 2568303528000},\n",
       " {'symbol': 'AAPL', 'date': '2024-04-16', 'marketCap': 2589400306980},\n",
       " {'symbol': 'AAPL', 'date': '2024-04-15', 'marketCap': 2640002001490},\n",
       " {'symbol': 'AAPL', 'date': '2024-04-12', 'marketCap': 2699011832550},\n",
       " {'symbol': 'AAPL', 'date': '2024-04-11', 'marketCap': 2675927675840},\n",
       " {'symbol': 'AAPL', 'date': '2024-04-10', 'marketCap': 2564940273380},\n",
       " {'symbol': 'AAPL', 'date': '2024-04-09', 'marketCap': 2593833688070},\n",
       " {'symbol': 'AAPL', 'date': '2024-04-08', 'marketCap': 2575182912450},\n",
       " {'symbol': 'AAPL', 'date': '2024-04-05', 'marketCap': 2592457811180},\n",
       " {'symbol': 'AAPL', 'date': '2024-04-04', 'marketCap': 2580839295220},\n",
       " {'symbol': 'AAPL', 'date': '2024-04-03', 'marketCap': 2593527937650},\n",
       " {'symbol': 'AAPL', 'date': '2024-04-02', 'marketCap': 2581145045640},\n",
       " {'symbol': 'AAPL', 'date': '2024-04-01', 'marketCap': 2599337195630},\n",
       " {'symbol': 'AAPL', 'date': '2024-03-28', 'marketCap': 2641796186880},\n",
       " {'symbol': 'AAPL', 'date': '2024-03-27', 'marketCap': 2669988903360},\n",
       " {'symbol': 'AAPL', 'date': '2024-03-26', 'marketCap': 2614527821760},\n",
       " {'symbol': 'AAPL', 'date': '2024-03-25', 'marketCap': 2632090497600},\n",
       " {'symbol': 'AAPL', 'date': '2024-03-22', 'marketCap': 2654120871680},\n",
       " {'symbol': 'AAPL', 'date': '2024-03-21', 'marketCap': 2640101542720},\n",
       " {'symbol': 'AAPL', 'date': '2024-03-20', 'marketCap': 2752564291520},\n",
       " {'symbol': 'AAPL', 'date': '2024-03-19', 'marketCap': 2712663124480},\n",
       " {'symbol': 'AAPL', 'date': '2024-03-18', 'marketCap': 2676305304320},\n",
       " {'symbol': 'AAPL', 'date': '2024-03-15', 'marketCap': 2659358862720},\n",
       " {'symbol': 'AAPL', 'date': '2024-03-14', 'marketCap': 2665213088000},\n",
       " {'symbol': 'AAPL', 'date': '2024-03-13', 'marketCap': 2636404137280},\n",
       " {'symbol': 'AAPL', 'date': '2024-03-12', 'marketCap': 2668756434880},\n",
       " {'symbol': 'AAPL', 'date': '2024-03-11', 'marketCap': 2661361624000},\n",
       " {'symbol': 'AAPL', 'date': '2024-03-08', 'marketCap': 2630241794880},\n",
       " {'symbol': 'AAPL', 'date': '2024-03-07', 'marketCap': 2603589664000},\n",
       " {'symbol': 'AAPL', 'date': '2024-03-06', 'marketCap': 2605438366720},\n",
       " {'symbol': 'AAPL', 'date': '2024-03-05', 'marketCap': 2620844222720},\n",
       " {'symbol': 'AAPL', 'date': '2024-03-04', 'marketCap': 2697565385600},\n",
       " {'symbol': 'AAPL', 'date': '2024-03-01', 'marketCap': 2767816088960},\n",
       " {'symbol': 'AAPL', 'date': '2024-02-29', 'marketCap': 2784608472000},\n",
       " {'symbol': 'AAPL', 'date': '2024-02-28', 'marketCap': 2794930395520},\n",
       " {'symbol': 'AAPL', 'date': '2024-02-27', 'marketCap': 2813571481280},\n",
       " {'symbol': 'AAPL', 'date': '2024-02-26', 'marketCap': 2790924872960},\n",
       " {'symbol': 'AAPL', 'date': '2024-02-23', 'marketCap': 2811876837120},\n",
       " {'symbol': 'AAPL', 'date': '2024-02-22', 'marketCap': 2840377670720},\n",
       " {'symbol': 'AAPL', 'date': '2024-02-21', 'marketCap': 2808795665920},\n",
       " {'symbol': 'AAPL', 'date': '2024-02-20', 'marketCap': 2797087215360},\n",
       " {'symbol': 'AAPL', 'date': '2024-02-16', 'marketCap': 2808641607360},\n",
       " {'symbol': 'AAPL', 'date': '2024-02-15', 'marketCap': 2832520684160},\n",
       " {'symbol': 'AAPL', 'date': '2024-02-14', 'marketCap': 2836988382400},\n",
       " {'symbol': 'AAPL', 'date': '2024-02-13', 'marketCap': 2850699594240},\n",
       " {'symbol': 'AAPL', 'date': '2024-02-12', 'marketCap': 2883205950400},\n",
       " {'symbol': 'AAPL', 'date': '2024-02-09', 'marketCap': 2909395905600},\n",
       " {'symbol': 'AAPL', 'date': '2024-02-08', 'marketCap': 2901230801920},\n",
       " {'symbol': 'AAPL', 'date': '2024-02-07', 'marketCap': 2918023184960},\n",
       " {'symbol': 'AAPL', 'date': '2024-02-06', 'marketCap': 2916328540800},\n",
       " {'symbol': 'AAPL', 'date': '2024-02-05', 'marketCap': 2891371054080},\n",
       " {'symbol': 'AAPL', 'date': '2024-02-02', 'marketCap': 2863178337600},\n",
       " {'symbol': 'AAPL', 'date': '2024-02-01', 'marketCap': 2878738252160},\n",
       " {'symbol': 'AAPL', 'date': '2024-01-31', 'marketCap': 2840839846400},\n",
       " {'symbol': 'AAPL', 'date': '2024-01-30', 'marketCap': 2896917162240},\n",
       " {'symbol': 'AAPL', 'date': '2024-01-29', 'marketCap': 2953764770880},\n",
       " {'symbol': 'AAPL', 'date': '2024-01-26', 'marketCap': 2964394811520},\n",
       " {'symbol': 'AAPL', 'date': '2024-01-25', 'marketCap': 2991355059520},\n",
       " {'symbol': 'AAPL', 'date': '2024-01-24', 'marketCap': 2996438992000},\n",
       " {'symbol': 'AAPL', 'date': '2024-01-23', 'marketCap': 3006914974080},\n",
       " {'symbol': 'AAPL', 'date': '2024-01-22', 'marketCap': 2987041419840},\n",
       " {'symbol': 'AAPL', 'date': '2024-01-19', 'marketCap': 2951145775360},\n",
       " {'symbol': 'AAPL', 'date': '2024-01-18', 'marketCap': 2906006617280},\n",
       " {'symbol': 'AAPL', 'date': '2024-01-17', 'marketCap': 2814341774080},\n",
       " {'symbol': 'AAPL', 'date': '2024-01-16', 'marketCap': 2828977337280},\n",
       " {'symbol': 'AAPL', 'date': '2024-01-12', 'marketCap': 2864256747520},\n",
       " {'symbol': 'AAPL', 'date': '2024-01-11', 'marketCap': 2859172815040},\n",
       " {'symbol': 'AAPL', 'date': '2024-01-10', 'marketCap': 2868416328640},\n",
       " {'symbol': 'AAPL', 'date': '2024-01-09', 'marketCap': 2852240179840},\n",
       " {'symbol': 'AAPL', 'date': '2024-01-08', 'marketCap': 2858710639360},\n",
       " {'symbol': 'AAPL', 'date': '2024-01-05', 'marketCap': 2791232990080},\n",
       " {'symbol': 'AAPL', 'date': '2024-01-04', 'marketCap': 2802479264960},\n",
       " {'symbol': 'AAPL', 'date': '2024-01-03', 'marketCap': 2838528968000},\n",
       " {'symbol': 'AAPL', 'date': '2024-01-02', 'marketCap': 2859943107840},\n",
       " {'symbol': 'AAPL', 'date': '2023-12-29', 'marketCap': 2986094670390},\n",
       " {'symbol': 'AAPL', 'date': '2023-12-28', 'marketCap': 3002379921540},\n",
       " {'symbol': 'AAPL', 'date': '2023-12-27', 'marketCap': 2995710723450},\n",
       " {'symbol': 'AAPL', 'date': '2023-12-26', 'marketCap': 2994159747150},\n",
       " {'symbol': 'AAPL', 'date': '2023-12-22', 'marketCap': 3002690116800},\n",
       " {'symbol': 'AAPL', 'date': '2023-12-21', 'marketCap': 3019440660840},\n",
       " {'symbol': 'AAPL', 'date': '2023-12-20', 'marketCap': 3021767125290},\n",
       " {'symbol': 'AAPL', 'date': '2023-12-19', 'marketCap': 3054492725220},\n",
       " {'symbol': 'AAPL', 'date': '2023-12-18', 'marketCap': 3038207474070},\n",
       " {'symbol': 'AAPL', 'date': '2023-12-15', 'marketCap': 3064263875910},\n",
       " {'symbol': 'AAPL', 'date': '2023-12-14', 'marketCap': 3072639147930},\n",
       " {'symbol': 'AAPL', 'date': '2023-12-13', 'marketCap': 3070312683480},\n",
       " {'symbol': 'AAPL', 'date': '2023-12-12', 'marketCap': 3019905953730},\n",
       " {'symbol': 'AAPL', 'date': '2023-12-11', 'marketCap': 2996176016340},\n",
       " {'symbol': 'AAPL', 'date': '2023-12-08', 'marketCap': 3035415716730},\n",
       " {'symbol': 'AAPL', 'date': '2023-12-07', 'marketCap': 3013081658010},\n",
       " {'symbol': 'AAPL', 'date': '2023-12-06', 'marketCap': 2982837620160},\n",
       " {'symbol': 'AAPL', 'date': '2023-12-05', 'marketCap': 2999898359460},\n",
       " {'symbol': 'AAPL', 'date': '2023-12-04', 'marketCap': 2938014405090},\n",
       " {'symbol': 'AAPL', 'date': '2023-12-01', 'marketCap': 2966087076120},\n",
       " {'symbol': 'AAPL', 'date': '2023-11-30', 'marketCap': 2946079481850},\n",
       " {'symbol': 'AAPL', 'date': '2023-11-29', 'marketCap': 2937083819310},\n",
       " {'symbol': 'AAPL', 'date': '2023-11-28', 'marketCap': 2953058875200},\n",
       " {'symbol': 'AAPL', 'date': '2023-11-27', 'marketCap': 2943597919770},\n",
       " {'symbol': 'AAPL', 'date': '2023-11-24', 'marketCap': 2946389677110},\n",
       " {'symbol': 'AAPL', 'date': '2023-11-22', 'marketCap': 2967172759530},\n",
       " {'symbol': 'AAPL', 'date': '2023-11-21', 'marketCap': 2956781218320},\n",
       " {'symbol': 'AAPL', 'date': '2023-11-20', 'marketCap': 2969344126350},\n",
       " {'symbol': 'AAPL', 'date': '2023-11-17', 'marketCap': 2942046943470},\n",
       " {'symbol': 'AAPL', 'date': '2023-11-16', 'marketCap': 2942357138730},\n",
       " {'symbol': 'AAPL', 'date': '2023-11-15', 'marketCap': 2915990541630},\n",
       " {'symbol': 'AAPL', 'date': '2023-11-14', 'marketCap': 2907149976720},\n",
       " {'symbol': 'AAPL', 'date': '2023-11-13', 'marketCap': 2866204202400},\n",
       " {'symbol': 'AAPL', 'date': '2023-11-10', 'marketCap': 2891019823200},\n",
       " {'symbol': 'AAPL', 'date': '2023-11-09', 'marketCap': 2829135868830},\n",
       " {'symbol': 'AAPL', 'date': '2023-11-08', 'marketCap': 2836580555070},\n",
       " {'symbol': 'AAPL', 'date': '2023-11-07', 'marketCap': 2819985108660},\n",
       " {'symbol': 'AAPL', 'date': '2023-11-06', 'marketCap': 2779814822490},\n",
       " {'symbol': 'AAPL', 'date': '2023-11-03', 'marketCap': 2739799633950},\n",
       " {'symbol': 'AAPL', 'date': '2023-11-02', 'marketCap': 2754068615910},\n",
       " {'symbol': 'AAPL', 'date': '2023-11-01', 'marketCap': 2698233469110},\n",
       " {'symbol': 'AAPL', 'date': '2023-10-31', 'marketCap': 2648602227510},\n",
       " {'symbol': 'AAPL', 'date': '2023-10-30', 'marketCap': 2641157541270},\n",
       " {'symbol': 'AAPL', 'date': '2023-10-27', 'marketCap': 2609052331860},\n",
       " {'symbol': 'AAPL', 'date': '2023-10-26', 'marketCap': 2588424347070},\n",
       " {'symbol': 'AAPL', 'date': '2023-10-25', 'marketCap': 2653720449300},\n",
       " {'symbol': 'AAPL', 'date': '2023-10-24', 'marketCap': 2690013294720},\n",
       " {'symbol': 'AAPL', 'date': '2023-10-23', 'marketCap': 2683188999000},\n",
       " {'symbol': 'AAPL', 'date': '2023-10-20', 'marketCap': 2681327827440},\n",
       " {'symbol': 'AAPL', 'date': '2023-10-19', 'marketCap': 2721343015980},\n",
       " {'symbol': 'AAPL', 'date': '2023-10-18', 'marketCap': 2727236725920},\n",
       " {'symbol': 'AAPL', 'date': '2023-10-17', 'marketCap': 2747554515450},\n",
       " {'symbol': 'AAPL', 'date': '2023-10-16', 'marketCap': 2771904843360},\n",
       " {'symbol': 'AAPL', 'date': '2023-10-13', 'marketCap': 2773921112550},\n",
       " {'symbol': 'AAPL', 'date': '2023-10-12', 'marketCap': 2802769271730},\n",
       " {'symbol': 'AAPL', 'date': '2023-10-11', 'marketCap': 2788655387400},\n",
       " {'symbol': 'AAPL', 'date': '2023-10-10', 'marketCap': 2766786621570},\n",
       " {'symbol': 'AAPL', 'date': '2023-10-09', 'marketCap': 2776092479370},\n",
       " {'symbol': 'AAPL', 'date': '2023-10-06', 'marketCap': 2752827834870},\n",
       " {'symbol': 'AAPL', 'date': '2023-10-05', 'marketCap': 2712812646330},\n",
       " {'symbol': 'AAPL', 'date': '2023-10-04', 'marketCap': 2693425442580},\n",
       " {'symbol': 'AAPL', 'date': '2023-10-03', 'marketCap': 2673883141200},\n",
       " {'symbol': 'AAPL', 'date': '2023-10-02', 'marketCap': 2694821321250},\n",
       " {'symbol': 'AAPL', 'date': '2023-09-29', 'marketCap': 2670779095140},\n",
       " {'symbol': 'AAPL', 'date': '2023-09-28', 'marketCap': 2662667389460},\n",
       " {'symbol': 'AAPL', 'date': '2023-09-27', 'marketCap': 2658611536620},\n",
       " {'symbol': 'AAPL', 'date': '2023-09-26', 'marketCap': 2682478670640},\n",
       " {'symbol': 'AAPL', 'date': '2023-09-25', 'marketCap': 2746748338720},\n",
       " {'symbol': 'AAPL', 'date': '2023-09-22', 'marketCap': 2726625068860},\n",
       " {'symbol': 'AAPL', 'date': '2023-09-21', 'marketCap': 2713209555620},\n",
       " {'symbol': 'AAPL', 'date': '2023-09-20', 'marketCap': 2737544672660},\n",
       " {'symbol': 'AAPL', 'date': '2023-09-19', 'marketCap': 2793390646380},\n",
       " {'symbol': 'AAPL', 'date': '2023-09-18', 'marketCap': 2776231268980},\n",
       " {'symbol': 'AAPL', 'date': '2023-09-15', 'marketCap': 2730056944340},\n",
       " {'symbol': 'AAPL', 'date': '2023-09-14', 'marketCap': 2741444531160},\n",
       " {'symbol': 'AAPL', 'date': '2023-09-13', 'marketCap': 2717577397140},\n",
       " {'symbol': 'AAPL', 'date': '2023-09-12', 'marketCap': 2750180214200},\n",
       " {'symbol': 'AAPL', 'date': '2023-09-11', 'marketCap': 2797914482240},\n",
       " {'symbol': 'AAPL', 'date': '2023-09-08', 'marketCap': 2779507150120},\n",
       " {'symbol': 'AAPL', 'date': '2023-09-07', 'marketCap': 2769835501040},\n",
       " {'symbol': 'AAPL', 'date': '2023-09-06', 'marketCap': 2853292472940},\n",
       " {'symbol': 'AAPL', 'date': '2023-09-05', 'marketCap': 2959212629800},\n",
       " {'symbol': 'AAPL', 'date': '2023-09-01', 'marketCap': 2955468765640},\n",
       " {'symbol': 'AAPL', 'date': '2023-08-31', 'marketCap': 2930665665580},\n",
       " {'symbol': 'AAPL', 'date': '2023-08-30', 'marketCap': 2927233790100},\n",
       " {'symbol': 'AAPL', 'date': '2023-08-29', 'marketCap': 2872167788080},\n",
       " {'symbol': 'AAPL', 'date': '2023-08-28', 'marketCap': 2810862012460},\n",
       " {'symbol': 'AAPL', 'date': '2023-08-25', 'marketCap': 2786214906740},\n",
       " {'symbol': 'AAPL', 'date': '2023-08-24', 'marketCap': 2751428168920},\n",
       " {'symbol': 'AAPL', 'date': '2023-08-23', 'marketCap': 2825369486080},\n",
       " {'symbol': 'AAPL', 'date': '2023-08-22', 'marketCap': 2764687687820},\n",
       " {'symbol': 'AAPL', 'date': '2023-08-21', 'marketCap': 2743004474560},\n",
       " {'symbol': 'AAPL', 'date': '2023-08-18', 'marketCap': 2721945238660},\n",
       " {'symbol': 'AAPL', 'date': '2023-08-17', 'marketCap': 2714301516000},\n",
       " {'symbol': 'AAPL', 'date': '2023-08-16', 'marketCap': 2754392061380},\n",
       " {'symbol': 'AAPL', 'date': '2023-08-15', 'marketCap': 2768119563300},\n",
       " {'symbol': 'AAPL', 'date': '2023-08-14', 'marketCap': 2799474425640},\n",
       " {'symbol': 'AAPL', 'date': '2023-08-11', 'marketCap': 2773423370860},\n",
       " {'symbol': 'AAPL', 'date': '2023-08-10', 'marketCap': 2776231268980},\n",
       " {'symbol': 'AAPL', 'date': '2023-08-09', 'marketCap': 2779663144460},\n",
       " {'symbol': 'AAPL', 'date': '2023-08-08', 'marketCap': 2804778233200},\n",
       " {'symbol': 'AAPL', 'date': '2023-08-07', 'marketCap': 2789958770900},\n",
       " {'symbol': 'AAPL', 'date': '2023-08-04', 'marketCap': 2838940993660},\n",
       " {'symbol': 'AAPL', 'date': '2023-08-03', 'marketCap': 2982143797780},\n",
       " {'symbol': 'AAPL', 'date': '2023-08-02', 'marketCap': 3004138999720},\n",
       " {'symbol': 'AAPL', 'date': '2023-08-01', 'marketCap': 3051405284740},\n",
       " {'symbol': 'AAPL', 'date': '2023-07-31', 'marketCap': 3064508809300},\n",
       " {'symbol': 'AAPL', 'date': '2023-07-28', 'marketCap': 3054837160220},\n",
       " {'symbol': 'AAPL', 'date': '2023-07-27', 'marketCap': 3014122637480},\n",
       " {'symbol': 'AAPL', 'date': '2023-07-26', 'marketCap': 3034089913000},\n",
       " {'symbol': 'AAPL', 'date': '2023-07-25', 'marketCap': 3020362411080},\n",
       " {'symbol': 'AAPL', 'date': '2023-07-24', 'marketCap': 3006790903500},\n",
       " {'symbol': 'AAPL', 'date': '2023-07-21', 'marketCap': 2994155361960},\n",
       " {'symbol': 'AAPL', 'date': '2023-07-20', 'marketCap': 3012718688420},\n",
       " {'symbol': 'AAPL', 'date': '2023-07-19', 'marketCap': 3043449573400},\n",
       " {'symbol': 'AAPL', 'date': '2023-07-18', 'marketCap': 3022078348820},\n",
       " {'symbol': 'AAPL', 'date': '2023-07-17', 'marketCap': 3026134201660},\n",
       " {'symbol': 'AAPL', 'date': '2023-07-14', 'marketCap': 2974656069460},\n",
       " {'symbol': 'AAPL', 'date': '2023-07-13', 'marketCap': 2972316154360},\n",
       " {'symbol': 'AAPL', 'date': '2023-07-12', 'marketCap': 2960304590180},\n",
       " {'symbol': 'AAPL', 'date': '2023-07-11', 'marketCap': 2933941546720},\n",
       " {'symbol': 'AAPL', 'date': '2023-07-10', 'marketCap': 2942209246740},\n",
       " {'symbol': 'AAPL', 'date': '2023-07-07', 'marketCap': 2974500075120},\n",
       " {'symbol': 'AAPL', 'date': '2023-07-06', 'marketCap': 2992127435540},\n",
       " {'symbol': 'AAPL', 'date': '2023-07-05', 'marketCap': 2984639707220},\n",
       " {'symbol': 'AAPL', 'date': '2023-07-03', 'marketCap': 3002267067640},\n",
       " {'symbol': 'AAPL', 'date': '2023-06-30', 'marketCap': 3044866187580},\n",
       " {'symbol': 'AAPL', 'date': '2023-06-29', 'marketCap': 2976110638260},\n",
       " {'symbol': 'AAPL', 'date': '2023-06-28', 'marketCap': 2970773449500},\n",
       " {'symbol': 'AAPL', 'date': '2023-06-27', 'marketCap': 2952093288840},\n",
       " {'symbol': 'AAPL', 'date': '2023-06-26', 'marketCap': 2908296945780},\n",
       " {'symbol': 'AAPL', 'date': '2023-06-23', 'marketCap': 2930430581520},\n",
       " {'symbol': 'AAPL', 'date': '2023-06-22', 'marketCap': 2935453818000},\n",
       " {'symbol': 'AAPL', 'date': '2023-06-21', 'marketCap': 2887733071440},\n",
       " {'symbol': 'AAPL', 'date': '2023-06-20', 'marketCap': 2904215566140},\n",
       " {'symbol': 'AAPL', 'date': '2023-06-16', 'marketCap': 2902802780880},\n",
       " {'symbol': 'AAPL', 'date': '2023-06-15', 'marketCap': 2919913180140},\n",
       " {'symbol': 'AAPL', 'date': '2023-06-14', 'marketCap': 2887576095300},\n",
       " {'symbol': 'AAPL', 'date': '2023-06-13', 'marketCap': 2877529622340},\n",
       " {'symbol': 'AAPL', 'date': '2023-06-12', 'marketCap': 2885064477060},\n",
       " {'symbol': 'AAPL', 'date': '2023-06-09', 'marketCap': 2840640229440},\n",
       " {'symbol': 'AAPL', 'date': '2023-06-08', 'marketCap': 2834518159980},\n",
       " {'symbol': 'AAPL', 'date': '2023-06-07', 'marketCap': 2791349721480},\n",
       " {'symbol': 'AAPL', 'date': '2023-06-06', 'marketCap': 2813169404940},\n",
       " {'symbol': 'AAPL', 'date': '2023-06-05', 'marketCap': 2818977522120},\n",
       " {'symbol': 'AAPL', 'date': '2023-06-02', 'marketCap': 2840483253300},\n",
       " {'symbol': 'AAPL', 'date': '2023-06-01', 'marketCap': 2826983305260},\n",
       " {'symbol': 'AAPL', 'date': '2023-05-31', 'marketCap': 2782402081500},\n",
       " {'symbol': 'AAPL', 'date': '2023-05-30', 'marketCap': 2783186962200},\n",
       " {'symbol': 'AAPL', 'date': '2023-05-26', 'marketCap': 2753832424020},\n",
       " {'symbol': 'AAPL', 'date': '2023-05-25', 'marketCap': 2715530245860},\n",
       " {'symbol': 'AAPL', 'date': '2023-05-24', 'marketCap': 2697477989760},\n",
       " {'symbol': 'AAPL', 'date': '2023-05-23', 'marketCap': 2693082657840},\n",
       " {'symbol': 'AAPL', 'date': '2023-05-22', 'marketCap': 2734524358800},\n",
       " {'symbol': 'AAPL', 'date': '2023-05-19', 'marketCap': 2749594068240},\n",
       " {'symbol': 'AAPL', 'date': '2023-05-18', 'marketCap': 2747867330700},\n",
       " {'symbol': 'AAPL', 'date': '2023-05-17', 'marketCap': 2710820961660},\n",
       " {'symbol': 'AAPL', 'date': '2023-05-16', 'marketCap': 2701088440980},\n",
       " {'symbol': 'AAPL', 'date': '2023-05-15', 'marketCap': 2701088440980},\n",
       " {'symbol': 'AAPL', 'date': '2023-05-12', 'marketCap': 2708937247980},\n",
       " {'symbol': 'AAPL', 'date': '2023-05-11', 'marketCap': 2727460432500},\n",
       " {'symbol': 'AAPL', 'date': '2023-05-10', 'marketCap': 2724477885840},\n",
       " {'symbol': 'AAPL', 'date': '2023-05-09', 'marketCap': 2696379156780},\n",
       " {'symbol': 'AAPL', 'date': '2023-05-08', 'marketCap': 2723536029000},\n",
       " {'symbol': 'AAPL', 'date': '2023-05-05', 'marketCap': 2724634861980},\n",
       " {'symbol': 'AAPL', 'date': '2023-05-04', 'marketCap': 2602507425060},\n",
       " {'symbol': 'AAPL', 'date': '2023-05-03', 'marketCap': 2628565464300},\n",
       " {'symbol': 'AAPL', 'date': '2023-05-02', 'marketCap': 2645675863560},\n",
       " {'symbol': 'AAPL', 'date': '2023-05-01', 'marketCap': 2662158358260},\n",
       " {'symbol': 'AAPL', 'date': '2023-04-28', 'marketCap': 2663571143520},\n",
       " {'symbol': 'AAPL', 'date': '2023-04-27', 'marketCap': 2643635173740},\n",
       " {'symbol': 'AAPL', 'date': '2023-04-26', 'marketCap': 2570641268640},\n",
       " {'symbol': 'AAPL', 'date': '2023-04-25', 'marketCap': 2570798244780},\n",
       " {'symbol': 'AAPL', 'date': '2023-04-24', 'marketCap': 2595286522620},\n",
       " {'symbol': 'AAPL', 'date': '2023-04-21', 'marketCap': 2590420262280},\n",
       " {'symbol': 'AAPL', 'date': '2023-04-20', 'marketCap': 2616007373100},\n",
       " {'symbol': 'AAPL', 'date': '2023-04-19', 'marketCap': 2631391034820},\n",
       " {'symbol': 'AAPL', 'date': '2023-04-18', 'marketCap': 2613181802580},\n",
       " {'symbol': 'AAPL', 'date': '2023-04-17', 'marketCap': 2593716761220},\n",
       " {'symbol': 'AAPL', 'date': '2023-04-14', 'marketCap': 2593402808940},\n",
       " {'symbol': 'AAPL', 'date': '2023-04-13', 'marketCap': 2598896973840},\n",
       " {'symbol': 'AAPL', 'date': '2023-04-12', 'marketCap': 2513188001400},\n",
       " {'symbol': 'AAPL', 'date': '2023-04-11', 'marketCap': 2524176331200},\n",
       " {'symbol': 'AAPL', 'date': '2023-04-10', 'marketCap': 2543484396420},\n",
       " {'symbol': 'AAPL', 'date': '2023-04-06', 'marketCap': 2584769121240},\n",
       " {'symbol': 'AAPL', 'date': '2023-04-05', 'marketCap': 2570641268640},\n",
       " {'symbol': 'AAPL', 'date': '2023-04-04', 'marketCap': 2599995806820},\n",
       " {'symbol': 'AAPL', 'date': '2023-04-03', 'marketCap': 2608472518380},\n",
       " {'symbol': 'AAPL', 'date': '2023-03-31', 'marketCap': 2603301694600},\n",
       " {'symbol': 'AAPL', 'date': '2023-03-30', 'marketCap': 2563202323440},\n",
       " {'symbol': 'AAPL', 'date': '2023-03-29', 'marketCap': 2538100748580},\n",
       " {'symbol': 'AAPL', 'date': '2023-03-28', 'marketCap': 2488844828100},\n",
       " {'symbol': 'AAPL', 'date': '2023-03-27', 'marketCap': 2498790735120},\n",
       " {'symbol': 'AAPL', 'date': '2023-03-24', 'marketCap': 2529891428500},\n",
       " {'symbol': 'AAPL', 'date': '2023-03-23', 'marketCap': 2509052385220},\n",
       " {'symbol': 'AAPL', 'date': '2023-03-22', 'marketCap': 2491686515820},\n",
       " {'symbol': 'AAPL', 'date': '2023-03-21', 'marketCap': 2514577889120},\n",
       " {'symbol': 'AAPL', 'date': '2023-03-20', 'marketCap': 2484898039600},\n",
       " {'symbol': 'AAPL', 'date': '2023-03-17', 'marketCap': 2447008870000},\n",
       " {'symbol': 'AAPL', 'date': '2023-03-16', 'marketCap': 2460427950900},\n",
       " {'symbol': 'AAPL', 'date': '2023-03-15', 'marketCap': 2415276690460},\n",
       " {'symbol': 'AAPL', 'date': '2023-03-14', 'marketCap': 2408961828860},\n",
       " {'symbol': 'AAPL', 'date': '2023-03-13', 'marketCap': 2375493062380},\n",
       " {'symbol': 'AAPL', 'date': '2023-03-10', 'marketCap': 2344392369000},\n",
       " {'symbol': 'AAPL', 'date': '2023-03-09', 'marketCap': 2377387520860},\n",
       " {'symbol': 'AAPL', 'date': '2023-03-08', 'marketCap': 2413382231980},\n",
       " {'symbol': 'AAPL', 'date': '2023-03-07', 'marketCap': 2393332546400},\n",
       " {'symbol': 'AAPL', 'date': '2023-03-06', 'marketCap': 2428537899820},\n",
       " {'symbol': 'AAPL', 'date': '2023-03-03', 'marketCap': 2384333868620},\n",
       " {'symbol': 'AAPL', 'date': '2023-03-02', 'marketCap': 2303503640140},\n",
       " {'symbol': 'AAPL', 'date': '2023-03-01', 'marketCap': 2294031347740},\n",
       " {'symbol': 'AAPL', 'date': '2023-02-28', 'marketCap': 2327184371140},\n",
       " {'symbol': 'AAPL', 'date': '2023-02-27', 'marketCap': 2335235819680},\n",
       " {'symbol': 'AAPL', 'date': '2023-02-24', 'marketCap': 2316133363340},\n",
       " {'symbol': 'AAPL', 'date': '2023-02-23', 'marketCap': 2358600807600},\n",
       " {'symbol': 'AAPL', 'date': '2023-02-22', 'marketCap': 2350865102140},\n",
       " {'symbol': 'AAPL', 'date': '2023-02-21', 'marketCap': 2344076625920},\n",
       " {'symbol': 'AAPL', 'date': '2023-02-17', 'marketCap': 2408330342700},\n",
       " {'symbol': 'AAPL', 'date': '2023-02-16', 'marketCap': 2426643441340},\n",
       " {'symbol': 'AAPL', 'date': '2023-02-15', 'marketCap': 2452218630820},\n",
       " {'symbol': 'AAPL', 'date': '2023-02-14', 'marketCap': 2418591992800},\n",
       " {'symbol': 'AAPL', 'date': '2023-02-13', 'marketCap': 2428853642900},\n",
       " {'symbol': 'AAPL', 'date': '2023-02-10', 'marketCap': 2384018125540},\n",
       " {'symbol': 'AAPL', 'date': '2023-02-09', 'marketCap': 2381807923980},\n",
       " {'symbol': 'AAPL', 'date': '2023-02-08', 'marketCap': 2398384435680},\n",
       " {'symbol': 'AAPL', 'date': '2023-02-07', 'marketCap': 2441483366100},\n",
       " {'symbol': 'AAPL', 'date': '2023-02-06', 'marketCap': 2395384876420},\n",
       " {'symbol': 'AAPL', 'date': '2023-02-03', 'marketCap': 2439115293000},\n",
       " {'symbol': 'AAPL', 'date': '2023-02-02', 'marketCap': 2381018566280},\n",
       " {'symbol': 'AAPL', 'date': '2023-02-01', 'marketCap': 2295925806220},\n",
       " {'symbol': 'AAPL', 'date': '2023-01-31', 'marketCap': 2277928450660},\n",
       " {'symbol': 'AAPL', 'date': '2023-01-30', 'marketCap': 2257563022000},\n",
       " {'symbol': 'AAPL', 'date': '2023-01-27', 'marketCap': 2303819383220},\n",
       " {'symbol': 'AAPL', 'date': '2023-01-26', 'marketCap': 2272718689840},\n",
       " {'symbol': 'AAPL', 'date': '2023-01-25', 'marketCap': 2239565666440},\n",
       " {'symbol': 'AAPL', 'date': '2023-01-24', 'marketCap': 2250143059620},\n",
       " {'symbol': 'AAPL', 'date': '2023-01-23', 'marketCap': 2227725300940},\n",
       " {'symbol': 'AAPL', 'date': '2023-01-20', 'marketCap': 2176574921980},\n",
       " {'symbol': 'AAPL', 'date': '2023-01-19', 'marketCap': 2135528321580},\n",
       " {'symbol': 'AAPL', 'date': '2023-01-18', 'marketCap': 2134581092340},\n",
       " {'symbol': 'AAPL', 'date': '2023-01-17', 'marketCap': 2146105714760},\n",
       " {'symbol': 'AAPL', 'date': '2023-01-13', 'marketCap': 2127476873039},\n",
       " {'symbol': 'AAPL', 'date': '2023-01-12', 'marketCap': 2106164215140},\n",
       " {'symbol': 'AAPL', 'date': '2023-01-11', 'marketCap': 2107427187460},\n",
       " {'symbol': 'AAPL', 'date': '2023-01-10', 'marketCap': 2063854642419},\n",
       " {'symbol': 'AAPL', 'date': '2023-01-09', 'marketCap': 2054698093100},\n",
       " {'symbol': 'AAPL', 'date': '2023-01-06', 'marketCap': 2046330901480},\n",
       " {'symbol': 'AAPL', 'date': '2023-01-05', 'marketCap': 1973709993080},\n",
       " {'symbol': 'AAPL', 'date': '2023-01-04', 'marketCap': 1994864779440},\n",
       " {'symbol': 'AAPL', 'date': '2023-01-03', 'marketCap': 1974499350780},\n",
       " {'symbol': 'AAPL', 'date': '2022-12-30', 'marketCap': 2064941499390},\n",
       " {'symbol': 'AAPL', 'date': '2022-12-29', 'marketCap': 2059855828030},\n",
       " {'symbol': 'AAPL', 'date': '2022-12-28', 'marketCap': 2003118806920},\n",
       " {'symbol': 'AAPL', 'date': '2022-12-27', 'marketCap': 2066530771690},\n",
       " {'symbol': 'AAPL', 'date': '2022-12-23', 'marketCap': 2095614454780},\n",
       " {'symbol': 'AAPL', 'date': '2022-12-22', 'marketCap': 2101494762289},\n",
       " {'symbol': 'AAPL', 'date': '2022-12-21', 'marketCap': 2152669330349},\n",
       " {'symbol': 'AAPL', 'date': '2022-12-20', 'marketCap': 2102607252900},\n",
       " {'symbol': 'AAPL', 'date': '2022-12-19', 'marketCap': 2103719743510},\n",
       " {'symbol': 'AAPL', 'date': '2022-12-16', 'marketCap': 2137730170729},\n",
       " {'symbol': 'AAPL', 'date': '2022-12-15', 'marketCap': 2169356689500},\n",
       " {'symbol': 'AAPL', 'date': '2022-12-14', 'marketCap': 2275996860830},\n",
       " {'symbol': 'AAPL', 'date': '2022-12-13', 'marketCap': 2311914414810},\n",
       " {'symbol': 'AAPL', 'date': '2022-12-12', 'marketCap': 2296339546270},\n",
       " {'symbol': 'AAPL', 'date': '2022-12-09', 'marketCap': 2259309501680},\n",
       " {'symbol': 'AAPL', 'date': '2022-12-08', 'marketCap': 2267096935950},\n",
       " {'symbol': 'AAPL', 'date': '2022-12-07', 'marketCap': 2239920379620},\n",
       " {'symbol': 'AAPL', 'date': '2022-12-06', 'marketCap': 2271229043930},\n",
       " {'symbol': 'AAPL', 'date': '2022-12-05', 'marketCap': 2330349973490},\n",
       " {'symbol': 'AAPL', 'date': '2022-12-02', 'marketCap': 2349103386630},\n",
       " {'symbol': 'AAPL', 'date': '2022-12-01', 'marketCap': 2357049748130},\n",
       " {'symbol': 'AAPL', 'date': '2022-11-30', 'marketCap': 2352599785690},\n",
       " {'symbol': 'AAPL', 'date': '2022-11-29', 'marketCap': 2243575705910},\n",
       " {'symbol': 'AAPL', 'date': '2022-11-28', 'marketCap': 2292048511060},\n",
       " {'symbol': 'AAPL', 'date': '2022-11-25', 'marketCap': 2353871203530},\n",
       " {'symbol': 'AAPL', 'date': '2022-11-23', 'marketCap': 2400913663610},\n",
       " {'symbol': 'AAPL', 'date': '2022-11-22', 'marketCap': 2386769140140},\n",
       " {'symbol': 'AAPL', 'date': '2022-11-21', 'marketCap': 2352281931230},\n",
       " {'symbol': 'AAPL', 'date': '2022-11-18', 'marketCap': 2404410062670},\n",
       " {'symbol': 'AAPL', 'date': '2022-11-17', 'marketCap': 2395351210560},\n",
       " {'symbol': 'AAPL', 'date': '2022-11-16', 'marketCap': 2364678255170},\n",
       " {'symbol': 'AAPL', 'date': '2022-11-15', 'marketCap': 2384544158920},\n",
       " {'symbol': 'AAPL', 'date': '2022-11-14', 'marketCap': 2356572966440},\n",
       " {'symbol': 'AAPL', 'date': '2022-11-11', 'marketCap': 2379140633100},\n",
       " {'symbol': 'AAPL', 'date': '2022-11-10', 'marketCap': 2334164227010},\n",
       " {'symbol': 'AAPL', 'date': '2022-11-09', 'marketCap': 2143451551010},\n",
       " {'symbol': 'AAPL', 'date': '2022-11-08', 'marketCap': 2217034858500},\n",
       " {'symbol': 'AAPL', 'date': '2022-11-07', 'marketCap': 2207817079160},\n",
       " {'symbol': 'AAPL', 'date': '2022-11-04', 'marketCap': 2199235008740},\n",
       " {'symbol': 'AAPL', 'date': '2022-11-03', 'marketCap': 2207181370240},\n",
       " {'symbol': 'AAPL', 'date': '2022-11-02', 'marketCap': 2304921616690},\n",
       " {'symbol': 'AAPL', 'date': '2022-11-01', 'marketCap': 2394238719950},\n",
       " {'symbol': 'AAPL', 'date': '2022-10-31', 'marketCap': 2436990144820},\n",
       " {'symbol': 'AAPL', 'date': '2022-10-28', 'marketCap': 2475132680020},\n",
       " {'symbol': 'AAPL', 'date': '2022-10-27', 'marketCap': 2301266290400},\n",
       " {'symbol': 'AAPL', 'date': '2022-10-26', 'marketCap': 2373578180050},\n",
       " {'symbol': 'AAPL', 'date': '2022-10-25', 'marketCap': 2421097421820},\n",
       " {'symbol': 'AAPL', 'date': '2022-10-24', 'marketCap': 2375167452350},\n",
       " {'symbol': 'AAPL', 'date': '2022-10-21', 'marketCap': 2340521316210},\n",
       " {'symbol': 'AAPL', 'date': '2022-10-20', 'marketCap': 2278857550970},\n",
       " {'symbol': 'AAPL', 'date': '2022-10-19', 'marketCap': 2286327130780},\n",
       " {'symbol': 'AAPL', 'date': '2022-10-18', 'marketCap': 2284578931250},\n",
       " {'symbol': 'AAPL', 'date': '2022-10-17', 'marketCap': 2263282682430},\n",
       " {'symbol': 'AAPL', 'date': '2022-10-14', 'marketCap': 2199235008740},\n",
       " {'symbol': 'AAPL', 'date': '2022-10-13', 'marketCap': 2272500461770},\n",
       " {'symbol': 'AAPL', 'date': '2022-10-12', 'marketCap': 2198599299820},\n",
       " {'symbol': 'AAPL', 'date': '2022-10-11', 'marketCap': 2208770642540},\n",
       " {'symbol': 'AAPL', 'date': '2022-10-10', 'marketCap': 2231656163660},\n",
       " {'symbol': 'AAPL', 'date': '2022-10-07', 'marketCap': 2226411565070},\n",
       " {'symbol': 'AAPL', 'date': '2022-10-06', 'marketCap': 2311278705890},\n",
       " {'symbol': 'AAPL', 'date': '2022-10-05', 'marketCap': 2326694647200},\n",
       " {'symbol': 'AAPL', 'date': '2022-10-04', 'marketCap': 2321926830300},\n",
       " {'symbol': 'AAPL', 'date': '2022-10-03', 'marketCap': 2263918391350},\n",
       " {'symbol': 'AAPL', 'date': '2022-09-30', 'marketCap': 2196374318599},\n",
       " {'symbol': 'AAPL', 'date': '2022-09-29', 'marketCap': 2264395173040},\n",
       " {'symbol': 'AAPL', 'date': '2022-09-28', 'marketCap': 2381365614320},\n",
       " {'symbol': 'AAPL', 'date': '2022-09-27', 'marketCap': 2411879642480},\n",
       " {'symbol': 'AAPL', 'date': '2022-09-26', 'marketCap': 2396145846710},\n",
       " {'symbol': 'AAPL', 'date': '2022-09-23', 'marketCap': 2411450364260},\n",
       " {'symbol': 'AAPL', 'date': '2022-09-22', 'marketCap': 2448480546680},\n",
       " {'symbol': 'AAPL', 'date': '2022-09-21', 'marketCap': 2464190321040},\n",
       " {'symbol': 'AAPL', 'date': '2022-09-20', 'marketCap': 2515166935800},\n",
       " {'symbol': 'AAPL', 'date': '2022-09-19', 'marketCap': 2476373411360},\n",
       " {'symbol': 'AAPL', 'date': '2022-09-16', 'marketCap': 2415778567400},\n",
       " {'symbol': 'AAPL', 'date': '2022-09-15', 'marketCap': 2442549305340},\n",
       " {'symbol': 'AAPL', 'date': '2022-09-14', 'marketCap': 2489678628420},\n",
       " {'symbol': 'AAPL', 'date': '2022-09-13', 'marketCap': 2466113966880},\n",
       " {'symbol': 'AAPL', 'date': '2022-09-12', 'marketCap': 2619845330260},\n",
       " {'symbol': 'AAPL', 'date': '2022-09-09', 'marketCap': 2522701215340},\n",
       " {'symbol': 'AAPL', 'date': '2022-09-08', 'marketCap': 2476052803720},\n",
       " {'symbol': 'AAPL', 'date': '2022-09-07', 'marketCap': 2500098376720},\n",
       " {'symbol': 'AAPL', 'date': '2022-09-06', 'marketCap': 2477174930460},\n",
       " {'symbol': 'AAPL', 'date': '2022-09-02', 'marketCap': 2497693819420},\n",
       " {'symbol': 'AAPL', 'date': '2022-09-01', 'marketCap': 2532159140720},\n",
       " {'symbol': 'AAPL', 'date': '2022-08-31', 'marketCap': 2520296658040},\n",
       " {'symbol': 'AAPL', 'date': '2022-08-30', 'marketCap': 2547388003620},\n",
       " {'symbol': 'AAPL', 'date': '2022-08-29', 'marketCap': 2586983047160},\n",
       " {'symbol': 'AAPL', 'date': '2022-08-26', 'marketCap': 2622891102840},\n",
       " {'symbol': 'AAPL', 'date': '2022-08-25', 'marketCap': 2725645851460},\n",
       " {'symbol': 'AAPL', 'date': '2022-08-24', 'marketCap': 2685569896460},\n",
       " {'symbol': 'AAPL', 'date': '2022-08-23', 'marketCap': 2680760781860},\n",
       " {'symbol': 'AAPL', 'date': '2022-08-22', 'marketCap': 2686211111740},\n",
       " {'symbol': 'AAPL', 'date': '2022-08-19', 'marketCap': 2749531120640},\n",
       " {'symbol': 'AAPL', 'date': '2022-08-18', 'marketCap': 2791691025300},\n",
       " {'symbol': 'AAPL', 'date': '2022-08-17', 'marketCap': 2798103178100},\n",
       " {'symbol': 'AAPL', 'date': '2022-08-16', 'marketCap': 2773736997460},\n",
       " {'symbol': 'AAPL', 'date': '2022-08-15', 'marketCap': 2776301858580},\n",
       " {'symbol': 'AAPL', 'date': '2022-08-12', 'marketCap': 2758828742200},\n",
       " {'symbol': 'AAPL', 'date': '2022-08-11', 'marketCap': 2700959063180},\n",
       " {'symbol': 'AAPL', 'date': '2022-08-10', 'marketCap': 2712981849680},\n",
       " {'symbol': 'AAPL', 'date': '2022-08-09', 'marketCap': 2643730599440},\n",
       " {'symbol': 'AAPL', 'date': '2022-08-08', 'marketCap': 2642929080340},\n",
       " {'symbol': 'AAPL', 'date': '2022-08-05', 'marketCap': 2650623663700},\n",
       " {'symbol': 'AAPL', 'date': '2022-08-04', 'marketCap': 2657997639420},\n",
       " {'symbol': 'AAPL', 'date': '2022-08-03', 'marketCap': 2663127361660},\n",
       " {'symbol': 'AAPL', 'date': '2022-08-02', 'marketCap': 2565021423820},\n",
       " {'symbol': 'AAPL', 'date': '2022-08-01', 'marketCap': 2589066996820},\n",
       " {'symbol': 'AAPL', 'date': '2022-07-29', 'marketCap': 2605097378820},\n",
       " {'symbol': 'AAPL', 'date': '2022-07-28', 'marketCap': 2522380607700},\n",
       " {'symbol': 'AAPL', 'date': '2022-07-27', 'marketCap': 2513403593780},\n",
       " {'symbol': 'AAPL', 'date': '2022-07-26', 'marketCap': 2430205911200},\n",
       " {'symbol': 'AAPL', 'date': '2022-07-25', 'marketCap': 2451846926900},\n",
       " {'symbol': 'AAPL', 'date': '2022-07-22', 'marketCap': 2470121562380},\n",
       " {'symbol': 'AAPL', 'date': '2022-07-21', 'marketCap': 2490319843700},\n",
       " {'symbol': 'AAPL', 'date': '2022-07-20', 'marketCap': 2453289661280},\n",
       " {'symbol': 'AAPL', 'date': '2022-07-19', 'marketCap': 2420587682000},\n",
       " {'symbol': 'AAPL', 'date': '2022-07-18', 'marketCap': 2357588280740},\n",
       " {'symbol': 'AAPL', 'date': '2022-07-15', 'marketCap': 2407282464940},\n",
       " {'symbol': 'AAPL', 'date': '2022-07-14', 'marketCap': 2380030815540},\n",
       " {'symbol': 'AAPL', 'date': '2022-07-13', 'marketCap': 2332260277180},\n",
       " {'symbol': 'AAPL', 'date': '2022-07-12', 'marketCap': 2338191518520},\n",
       " {'symbol': 'AAPL', 'date': '2022-07-11', 'marketCap': 2322321440340},\n",
       " {'symbol': 'AAPL', 'date': '2022-07-08', 'marketCap': 2357107369280},\n",
       " {'symbol': 'AAPL', 'date': '2022-07-07', 'marketCap': 2346046405700},\n",
       " {'symbol': 'AAPL', 'date': '2022-07-06', 'marketCap': 2291062195440},\n",
       " {'symbol': 'AAPL', 'date': '2022-07-05', 'marketCap': 2269260875920},\n",
       " {'symbol': 'AAPL', 'date': '2022-07-01', 'marketCap': 2227100971260},\n",
       " {'symbol': 'AAPL', 'date': '2022-06-30', 'marketCap': 2191673827040},\n",
       " {'symbol': 'AAPL', 'date': '2022-06-29', 'marketCap': 2231910085860},\n",
       " {'symbol': 'AAPL', 'date': '2022-06-28', 'marketCap': 2203215702080},\n",
       " {'symbol': 'AAPL', 'date': '2022-06-27', 'marketCap': 2270863914120},\n",
       " {'symbol': 'AAPL', 'date': '2022-06-24', 'marketCap': 2289642788700},\n",
       " {'symbol': 'AAPL', 'date': '2022-06-23', 'marketCap': 2234850405150},\n",
       " {'symbol': 'AAPL', 'date': '2022-06-22', 'marketCap': 2187654605750},\n",
       " {'symbol': 'AAPL', 'date': '2022-06-21', 'marketCap': 2196059337150},\n",
       " {'symbol': 'AAPL', 'date': '2022-06-17', 'marketCap': 2126397044200},\n",
       " {'symbol': 'AAPL', 'date': '2022-06-16', 'marketCap': 2102152626700},\n",
       " {'symbol': 'AAPL', 'date': '2022-06-15', 'marketCap': 2188947641350},\n",
       " {'symbol': 'AAPL', 'date': '2022-06-14', 'marketCap': 2145792578199},\n",
       " {'symbol': 'AAPL', 'date': '2022-06-13', 'marketCap': 2131569186600},\n",
       " {'symbol': 'AAPL', 'date': '2022-06-10', 'marketCap': 2216424647850},\n",
       " {'symbol': 'AAPL', 'date': '2022-06-09', 'marketCap': 2305482474800},\n",
       " {'symbol': 'AAPL', 'date': '2022-06-08', 'marketCap': 2391469342200},\n",
       " {'symbol': 'AAPL', 'date': '2022-06-07', 'marketCap': 2403591550950},\n",
       " {'symbol': 'AAPL', 'date': '2022-06-06', 'marketCap': 2362052782300},\n",
       " {'symbol': 'AAPL', 'date': '2022-06-03', 'marketCap': 2349768944100},\n",
       " {'symbol': 'AAPL', 'date': '2022-06-02', 'marketCap': 2443998913450},\n",
       " {'symbol': 'AAPL', 'date': '2022-06-01', 'marketCap': 2403591550950},\n",
       " {'symbol': 'AAPL', 'date': '2022-05-31', 'marketCap': 2405692733800},\n",
       " {'symbol': 'AAPL', 'date': '2022-05-27', 'marketCap': 2418623089800},\n",
       " {'symbol': 'AAPL', 'date': '2022-05-26', 'marketCap': 2323908232100},\n",
       " {'symbol': 'AAPL', 'date': '2022-05-25', 'marketCap': 2271217031400},\n",
       " {'symbol': 'AAPL', 'date': '2022-05-24', 'marketCap': 2268630960200},\n",
       " {'symbol': 'AAPL', 'date': '2022-05-23', 'marketCap': 2313079058950},\n",
       " {'symbol': 'AAPL', 'date': '2022-05-20', 'marketCap': 2223859602550},\n",
       " {'symbol': 'AAPL', 'date': '2022-05-19', 'marketCap': 2219980495750},\n",
       " {'symbol': 'AAPL', 'date': '2022-05-18', 'marketCap': 2276065914900},\n",
       " {'symbol': 'AAPL', 'date': '2022-05-17', 'marketCap': 2412157911800},\n",
       " {'symbol': 'AAPL', 'date': '2022-05-16', 'marketCap': 2352355015300},\n",
       " {'symbol': 'AAPL', 'date': '2022-05-13', 'marketCap': 2377730838950},\n",
       " {'symbol': 'AAPL', 'date': '2022-05-12', 'marketCap': 2304189439200},\n",
       " {'symbol': 'AAPL', 'date': '2022-05-11', 'marketCap': 2367871442500},\n",
       " {'symbol': 'AAPL', 'date': '2022-05-10', 'marketCap': 2497336631950},\n",
       " {'symbol': 'AAPL', 'date': '2022-05-09', 'marketCap': 2457737416700},\n",
       " {'symbol': 'AAPL', 'date': '2022-05-06', 'marketCap': 2542107989600},\n",
       " {'symbol': 'AAPL', 'date': '2022-05-05', 'marketCap': 2533864887650},\n",
       " {'symbol': 'AAPL', 'date': '2022-05-04', 'marketCap': 2683372128900},\n",
       " {'symbol': 'AAPL', 'date': '2022-05-03', 'marketCap': 2577666468600},\n",
       " {'symbol': 'AAPL', 'date': '2022-05-02', 'marketCap': 2553098792200},\n",
       " {'symbol': 'AAPL', 'date': '2022-04-29', 'marketCap': 2548088279250},\n",
       " {'symbol': 'AAPL', 'date': '2022-04-28', 'marketCap': 2644904319800},\n",
       " {'symbol': 'AAPL', 'date': '2022-04-27', 'marketCap': 2530632298650},\n",
       " {'symbol': 'AAPL', 'date': '2022-04-26', 'marketCap': 2534349776000},\n",
       " {'symbol': 'AAPL', 'date': '2022-04-25', 'marketCap': 2632620481600},\n",
       " {'symbol': 'AAPL', 'date': '2022-04-22', 'marketCap': 2615002871550},\n",
       " {'symbol': 'AAPL', 'date': '2022-04-21', 'marketCap': 2689837306900},\n",
       " {'symbol': 'AAPL', 'date': '2022-04-20', 'marketCap': 2702929292350},\n",
       " {'symbol': 'AAPL', 'date': '2022-04-19', 'marketCap': 2705676993000},\n",
       " {'symbol': 'AAPL', 'date': '2022-04-18', 'marketCap': 2668017331150},\n",
       " {'symbol': 'AAPL', 'date': '2022-04-14', 'marketCap': 2671573179050},\n",
       " {'symbol': 'AAPL', 'date': '2022-04-13', 'marketCap': 2754165828000},\n",
       " {'symbol': 'AAPL', 'date': '2022-04-12', 'marketCap': 2709879358700},\n",
       " {'symbol': 'AAPL', 'date': '2022-04-11', 'marketCap': 2679008133750},\n",
       " {'symbol': 'AAPL', 'date': '2022-04-08', 'marketCap': 2749155315050},\n",
       " {'symbol': 'AAPL', 'date': '2022-04-07', 'marketCap': 2782289352300},\n",
       " {'symbol': 'AAPL', 'date': '2022-04-06', 'marketCap': 2777278839350},\n",
       " {'symbol': 'AAPL', 'date': '2022-04-05', 'marketCap': 2829485151700},\n",
       " {'symbol': 'AAPL', 'date': '2022-04-04', 'marketCap': 2884115905800},\n",
       " {'symbol': 'AAPL', 'date': '2022-04-01', 'marketCap': 2817362942950},\n",
       " {'symbol': 'AAPL', 'date': '2022-03-31', 'marketCap': 2822211826450},\n",
       " {'symbol': 'AAPL', 'date': '2022-03-30', 'marketCap': 2873286732650},\n",
       " {'symbol': 'AAPL', 'date': '2022-03-29', 'marketCap': 2892520637200},\n",
       " {'symbol': 'AAPL', 'date': '2022-03-28', 'marketCap': 2838213142000},\n",
       " {'symbol': 'AAPL', 'date': '2022-03-25', 'marketCap': 2844232285440},\n",
       " {'symbol': 'AAPL', 'date': '2022-03-24', 'marketCap': 2833651064140},\n",
       " {'symbol': 'AAPL', 'date': '2022-03-23', 'marketCap': 2770814888420},\n",
       " {'symbol': 'AAPL', 'date': '2022-03-22', 'marketCap': 2748187353640},\n",
       " {'symbol': 'AAPL', 'date': '2022-03-21', 'marketCap': 2692188274760},\n",
       " {'symbol': 'AAPL', 'date': '2022-03-18', 'marketCap': 2669397951960},\n",
       " {'symbol': 'AAPL', 'date': '2022-03-17', 'marketCap': 2614701177240},\n",
       " {'symbol': 'AAPL', 'date': '2022-03-16', 'marketCap': 2597934011180},\n",
       " {'symbol': 'AAPL', 'date': '2022-03-15', 'marketCap': 2524679402180},\n",
       " {'symbol': 'AAPL', 'date': '2022-03-14', 'marketCap': 2451913157240},\n",
       " {'symbol': 'AAPL', 'date': '2022-03-11', 'marketCap': 2518819033460},\n",
       " {'symbol': 'AAPL', 'date': '2022-03-10', 'marketCap': 2580515693040},\n",
       " {'symbol': 'AAPL', 'date': '2022-03-09', 'marketCap': 2652630785900},\n",
       " {'symbol': 'AAPL', 'date': '2022-03-08', 'marketCap': 2562934586880},\n",
       " {'symbol': 'AAPL', 'date': '2022-03-07', 'marketCap': 2593213158600},\n",
       " {'symbol': 'AAPL', 'date': '2022-03-04', 'marketCap': 2656212122340},\n",
       " {'symbol': 'AAPL', 'date': '2022-03-03', 'marketCap': 2706025256460},\n",
       " {'symbol': 'AAPL', 'date': '2022-03-02', 'marketCap': 2711397261120},\n",
       " {'symbol': 'AAPL', 'date': '2022-03-01', 'marketCap': 2656700486400},\n",
       " {'symbol': 'AAPL', 'date': '2022-02-28', 'marketCap': 2687955786240},\n",
       " {'symbol': 'AAPL', 'date': '2022-02-25', 'marketCap': 2683560509700},\n",
       " {'symbol': 'AAPL', 'date': '2022-02-24', 'marketCap': 2649212237480},\n",
       " {'symbol': 'AAPL', 'date': '2022-02-23', 'marketCap': 2605747836140},\n",
       " {'symbol': 'AAPL', 'date': '2022-02-22', 'marketCap': 2674932744640},\n",
       " {'symbol': 'AAPL', 'date': '2022-02-18', 'marketCap': 2723443574600},\n",
       " {'symbol': 'AAPL', 'date': '2022-02-17', 'marketCap': 2749164081760},\n",
       " {'symbol': 'AAPL', 'date': '2022-02-16', 'marketCap': 2808907285100},\n",
       " {'symbol': 'AAPL', 'date': '2022-02-15', 'marketCap': 2812814197580},\n",
       " {'symbol': 'AAPL', 'date': '2022-02-14', 'marketCap': 2749164081760},\n",
       " {'symbol': 'AAPL', 'date': '2022-02-11', 'marketCap': 2745257169280},\n",
       " {'symbol': 'AAPL', 'date': '2022-02-10', 'marketCap': 2801907400240},\n",
       " {'symbol': 'AAPL', 'date': '2022-02-09', 'marketCap': 2869627216560},\n",
       " {'symbol': 'AAPL', 'date': '2022-02-08', 'marketCap': 2846022953660},\n",
       " {'symbol': 'AAPL', 'date': '2022-02-07', 'marketCap': 2794419151320},\n",
       " {'symbol': 'AAPL', 'date': '2022-02-04', 'marketCap': 2806302676780},\n",
       " {'symbol': 'AAPL', 'date': '2022-02-03', 'marketCap': 2814604865800},\n",
       " {'symbol': 'AAPL', 'date': '2022-02-02', 'marketCap': 2862464543680},\n",
       " {'symbol': 'AAPL', 'date': '2022-02-01', 'marketCap': 2842441617220},\n",
       " {'symbol': 'AAPL', 'date': '2022-01-31', 'marketCap': 2845209013560},\n",
       " {'symbol': 'AAPL', 'date': '2022-01-28', 'marketCap': 2772768344660},\n",
       " {'symbol': 'AAPL', 'date': '2022-01-27', 'marketCap': 2591910854440},\n",
       " {'symbol': 'AAPL', 'date': '2022-01-26', 'marketCap': 2599561891380},\n",
       " {'symbol': 'AAPL', 'date': '2022-01-25', 'marketCap': 2601026983560},\n",
       " {'symbol': 'AAPL', 'date': '2022-01-24', 'marketCap': 2630979979240},\n",
       " {'symbol': 'AAPL', 'date': '2022-01-21', 'marketCap': 2643840232820},\n",
       " {'symbol': 'AAPL', 'date': '2022-01-20', 'marketCap': 2678025717020},\n",
       " {'symbol': 'AAPL', 'date': '2022-01-19', 'marketCap': 2706025256460},\n",
       " {'symbol': 'AAPL', 'date': '2022-01-18', 'marketCap': 2764140579600},\n",
       " {'symbol': 'AAPL', 'date': '2022-01-14', 'marketCap': 2817372262140},\n",
       " {'symbol': 'AAPL', 'date': '2022-01-13', 'marketCap': 2803046916380},\n",
       " {'symbol': 'AAPL', 'date': '2022-01-12', 'marketCap': 2857418115060},\n",
       " {'symbol': 'AAPL', 'date': '2022-01-11', 'marketCap': 2850092654160},\n",
       " {'symbol': 'AAPL', 'date': '2022-01-10', 'marketCap': 2803046916380},\n",
       " {'symbol': 'AAPL', 'date': '2022-01-07', 'marketCap': 2802721340340},\n",
       " {'symbol': 'AAPL', 'date': '2022-01-06', 'marketCap': 2799953944000},\n",
       " {'symbol': 'AAPL', 'date': '2022-01-05', 'marketCap': 2847488045840},\n",
       " {'symbol': 'AAPL', 'date': '2022-01-04', 'marketCap': 2925300719400},\n",
       " {'symbol': 'AAPL', 'date': '2022-01-03', 'marketCap': 2962904752020},\n",
       " {'symbol': 'AAPL', 'date': '2021-12-31', 'marketCap': 2890626871140},\n",
       " {'symbol': 'AAPL', 'date': '2021-12-30', 'marketCap': 2900882516400},\n",
       " {'symbol': 'AAPL', 'date': '2021-12-29', 'marketCap': 2920091502760},\n",
       " {'symbol': 'AAPL', 'date': '2021-12-28', 'marketCap': 2918626410580},\n",
       " {'symbol': 'AAPL', 'date': '2021-12-27', 'marketCap': 2935556364660},\n",
       " {'symbol': 'AAPL', 'date': '2021-12-23', 'marketCap': 2889533106720},\n",
       " {'symbol': 'AAPL', 'date': '2021-12-22', 'marketCap': 2879042403360},\n",
       " {'symbol': 'AAPL', 'date': '2021-12-21', 'marketCap': 2835604334760},\n",
       " {'symbol': 'AAPL', 'date': '2021-12-20', 'marketCap': 2782495149000},\n",
       " {'symbol': 'AAPL', 'date': '2021-12-17', 'marketCap': 2805279645360},\n",
       " {'symbol': 'AAPL', 'date': '2021-12-16', 'marketCap': 2823638376240},\n",
       " {'symbol': 'AAPL', 'date': '2021-12-15', 'marketCap': 2939036113200},\n",
       " {'symbol': 'AAPL', 'date': '2021-12-14', 'marketCap': 2857569244920},\n",
       " {'symbol': 'AAPL', 'date': '2021-12-13', 'marketCap': 2880681575760},\n",
       " {'symbol': 'AAPL', 'date': '2021-12-10', 'marketCap': 2941494871800},\n",
       " {'symbol': 'AAPL', 'date': '2021-12-09', 'marketCap': 2861339341440},\n",
       " {'symbol': 'AAPL', 'date': '2021-12-08', 'marketCap': 2869863037920},\n",
       " {'symbol': 'AAPL', 'date': '2021-12-07', 'marketCap': 2805935314320},\n",
       " {'symbol': 'AAPL', 'date': '2021-12-06', 'marketCap': 2709879811680},\n",
       " {'symbol': 'AAPL', 'date': '2021-12-03', 'marketCap': 2652836612160},\n",
       " {'symbol': 'AAPL', 'date': '2021-12-02', 'marketCap': 2684308722240},\n",
       " {'symbol': 'AAPL', 'date': '2021-12-01', 'marketCap': 2700864363480},\n",
       " {'symbol': 'AAPL', 'date': '2021-11-30', 'marketCap': 2709551977200},\n",
       " {'symbol': 'AAPL', 'date': '2021-11-29', 'marketCap': 2626609853760},\n",
       " {'symbol': 'AAPL', 'date': '2021-11-26', 'marketCap': 2570386240440},\n",
       " {'symbol': 'AAPL', 'date': '2021-11-24', 'marketCap': 2654475784560},\n",
       " {'symbol': 'AAPL', 'date': '2021-11-23', 'marketCap': 2645788170840},\n",
       " {'symbol': 'AAPL', 'date': '2021-11-22', 'marketCap': 2639395398480},\n",
       " {'symbol': 'AAPL', 'date': '2021-11-19', 'marketCap': 2631691288200},\n",
       " {'symbol': 'AAPL', 'date': '2021-11-18', 'marketCap': 2587761467880},\n",
       " {'symbol': 'AAPL', 'date': '2021-11-17', 'marketCap': 2515965716760},\n",
       " {'symbol': 'AAPL', 'date': '2021-11-16', 'marketCap': 2475150324000},\n",
       " {'symbol': 'AAPL', 'date': '2021-11-15', 'marketCap': 2458758600000},\n",
       " {'symbol': 'AAPL', 'date': '2021-11-12', 'marketCap': 2458594682760},\n",
       " {'symbol': 'AAPL', 'date': '2021-11-11', 'marketCap': 2423844227880},\n",
       " {'symbol': 'AAPL', 'date': '2021-11-10', 'marketCap': 2424663814080},\n",
       " {'symbol': 'AAPL', 'date': '2021-11-09', 'marketCap': 2472035896440},\n",
       " {'symbol': 'AAPL', 'date': '2021-11-08', 'marketCap': 2465970958560},\n",
       " {'symbol': 'AAPL', 'date': '2021-11-05', 'marketCap': 2479740006720},\n",
       " {'symbol': 'AAPL', 'date': '2021-11-04', 'marketCap': 2474494655040},\n",
       " {'symbol': 'AAPL', 'date': '2021-11-03', 'marketCap': 2483182268760},\n",
       " {'symbol': 'AAPL', 'date': '2021-11-02', 'marketCap': 2459086434480},\n",
       " {'symbol': 'AAPL', 'date': '2021-11-01', 'marketCap': 2441711207040},\n",
       " {'symbol': 'AAPL', 'date': '2021-10-29', 'marketCap': 2455480255200},\n",
       " {'symbol': 'AAPL', 'date': '2021-10-28', 'marketCap': 2500885330680},\n",
       " {'symbol': 'AAPL', 'date': '2021-10-27', 'marketCap': 2439908117400},\n",
       " {'symbol': 'AAPL', 'date': '2021-10-26', 'marketCap': 2447612227680},\n",
       " {'symbol': 'AAPL', 'date': '2021-10-25', 'marketCap': 2436465855360},\n",
       " {'symbol': 'AAPL', 'date': '2021-10-22', 'marketCap': 2437285441560},\n",
       " {'symbol': 'AAPL', 'date': '2021-10-21', 'marketCap': 2450234903520},\n",
       " {'symbol': 'AAPL', 'date': '2021-10-20', 'marketCap': 2446628724240},\n",
       " {'symbol': 'AAPL', 'date': '2021-10-19', 'marketCap': 2438432862240},\n",
       " {'symbol': 'AAPL', 'date': '2021-10-18', 'marketCap': 2402207152200},\n",
       " {'symbol': 'AAPL', 'date': '2021-10-15', 'marketCap': 2374177304160},\n",
       " {'symbol': 'AAPL', 'date': '2021-10-14', 'marketCap': 2356474242240},\n",
       " {'symbol': 'AAPL', 'date': '2021-10-13', 'marketCap': 2309757828840},\n",
       " {'symbol': 'AAPL', 'date': '2021-10-12', 'marketCap': 2319592863240},\n",
       " {'symbol': 'AAPL', 'date': '2021-10-11', 'marketCap': 2340902104440},\n",
       " {'symbol': 'AAPL', 'date': '2021-10-08', 'marketCap': 2342377359600},\n",
       " {'symbol': 'AAPL', 'date': '2021-10-07', 'marketCap': 2348770131960},\n",
       " {'symbol': 'AAPL', 'date': '2021-10-06', 'marketCap': 2327624808000},\n",
       " {'symbol': 'AAPL', 'date': '2021-10-05', 'marketCap': 2313036173640},\n",
       " {'symbol': 'AAPL', 'date': '2021-10-04', 'marketCap': 2280744477360},\n",
       " {'symbol': 'AAPL', 'date': '2021-10-01', 'marketCap': 2338279428600},\n",
       " {'symbol': 'AAPL', 'date': '2021-09-30', 'marketCap': 2319428946000},\n",
       " {'symbol': 'AAPL', 'date': '2021-09-29', 'marketCap': 2341229938920},\n",
       " {'symbol': 'AAPL', 'date': '2021-09-28', 'marketCap': 2326149552840},\n",
       " {'symbol': 'AAPL', 'date': '2021-09-27', 'marketCap': 2382864917880},\n",
       " {'symbol': 'AAPL', 'date': '2021-09-24', 'marketCap': 2422287817320},\n",
       " {'symbol': 'AAPL', 'date': '2021-09-23', 'marketCap': 2420803976430},\n",
       " {'symbol': 'AAPL', 'date': '2021-09-22', 'marketCap': 2404646597850},\n",
       " {'symbol': 'AAPL', 'date': '2021-09-21', 'marketCap': 2364747765030},\n",
       " {'symbol': 'AAPL', 'date': '2021-09-20', 'marketCap': 2356669075740},\n",
       " {'symbol': 'AAPL', 'date': '2021-09-17', 'marketCap': 2408108893260},\n",
       " {'symbol': 'AAPL', 'date': '2021-09-16', 'marketCap': 2453118733590},\n",
       " {'symbol': 'AAPL', 'date': '2021-09-15', 'marketCap': 2457075642630},\n",
       " {'symbol': 'AAPL', 'date': '2021-09-14', 'marketCap': 2442072362520},\n",
       " {'symbol': 'AAPL', 'date': '2021-09-13', 'marketCap': 2465648945550},\n",
       " {'symbol': 'AAPL', 'date': '2021-09-10', 'marketCap': 2456086415370},\n",
       " {'symbol': 'AAPL', 'date': '2021-09-09', 'marketCap': 2540170732470},\n",
       " {'symbol': 'AAPL', 'date': '2021-09-08', 'marketCap': 2557317338310},\n",
       " {'symbol': 'AAPL', 'date': '2021-09-07', 'marketCap': 2583366989490},\n",
       " {'symbol': 'AAPL', 'date': '2021-09-03', 'marketCap': 2543962770300},\n",
       " {'symbol': 'AAPL', 'date': '2021-09-02', 'marketCap': 2533246141650},\n",
       " {'symbol': 'AAPL', 'date': '2021-09-01', 'marketCap': 2514450823710},\n",
       " {'symbol': 'AAPL', 'date': '2021-08-31', 'marketCap': 2503239581430},\n",
       " {'symbol': 'AAPL', 'date': '2021-08-30', 'marketCap': 2524507967520},\n",
       " {'symbol': 'AAPL', 'date': '2021-08-27', 'marketCap': 2449986180600},\n",
       " {'symbol': 'AAPL', 'date': '2021-08-26', 'marketCap': 2432509832340},\n",
       " {'symbol': 'AAPL', 'date': '2021-08-25', 'marketCap': 2446029271560},\n",
       " {'symbol': 'AAPL', 'date': '2021-08-24', 'marketCap': 2466803044020},\n",
       " {'symbol': 'AAPL', 'date': '2021-08-23', 'marketCap': 2468286884910},\n",
       " {'symbol': 'AAPL', 'date': '2021-08-20', 'marketCap': 2443226460990},\n",
       " {'symbol': 'AAPL', 'date': '2021-08-19', 'marketCap': 2418660650700},\n",
       " {'symbol': 'AAPL', 'date': '2021-08-18', 'marketCap': 2413055029560},\n",
       " {'symbol': 'AAPL', 'date': '2021-08-17', 'marketCap': 2476200702990},\n",
       " {'symbol': 'AAPL', 'date': '2021-08-16', 'marketCap': 2491533725520},\n",
       " {'symbol': 'AAPL', 'date': '2021-08-13', 'marketCap': 2458229741100},\n",
       " {'symbol': 'AAPL', 'date': '2021-08-12', 'marketCap': 2454767445690},\n",
       " {'symbol': 'AAPL', 'date': '2021-08-11', 'marketCap': 2404811469060},\n",
       " {'symbol': 'AAPL', 'date': '2021-08-10', 'marketCap': 2400524817600},\n",
       " {'symbol': 'AAPL', 'date': '2021-08-09', 'marketCap': 2408603506890},\n",
       " {'symbol': 'AAPL', 'date': '2021-08-06', 'marketCap': 2409427862940},\n",
       " {'symbol': 'AAPL', 'date': '2021-08-05', 'marketCap': 2424596014260},\n",
       " {'symbol': 'AAPL', 'date': '2021-08-04', 'marketCap': 2422782430950},\n",
       " {'symbol': 'AAPL', 'date': '2021-08-03', 'marketCap': 2429542150560},\n",
       " {'symbol': 'AAPL', 'date': '2021-08-02', 'marketCap': 2399205847920},\n",
       " {'symbol': 'AAPL', 'date': '2021-07-30', 'marketCap': 2404811469060},\n",
       " {'symbol': 'AAPL', 'date': '2021-07-29', 'marketCap': 2401184302440},\n",
       " {'symbol': 'AAPL', 'date': '2021-07-28', 'marketCap': 2390302802580},\n",
       " {'symbol': 'AAPL', 'date': '2021-07-27', 'marketCap': 2419814749170},\n",
       " {'symbol': 'AAPL', 'date': '2021-07-26', 'marketCap': 2456416157790},\n",
       " {'symbol': 'AAPL', 'date': '2021-07-23', 'marketCap': 2449326695760},\n",
       " {'symbol': 'AAPL', 'date': '2021-07-22', 'marketCap': 2420309362800},\n",
       " {'symbol': 'AAPL', 'date': '2021-07-21', 'marketCap': 2397227393400},\n",
       " {'symbol': 'AAPL', 'date': '2021-07-20', 'marketCap': 2409592734150},\n",
       " {'symbol': 'AAPL', 'date': '2021-07-19', 'marketCap': 2348590386450},\n",
       " {'symbol': 'AAPL', 'date': '2021-07-16', 'marketCap': 2413549643190},\n",
       " {'symbol': 'AAPL', 'date': '2021-07-15', 'marketCap': 2448007726080},\n",
       " {'symbol': 'AAPL', 'date': '2021-07-14', 'marketCap': 2459054097150},\n",
       " {'symbol': 'AAPL', 'date': '2021-07-13', 'marketCap': 2401184302440},\n",
       " {'symbol': 'AAPL', 'date': '2021-07-12', 'marketCap': 2382388984500},\n",
       " {'symbol': 'AAPL', 'date': '2021-07-09', 'marketCap': 2392446128310},\n",
       " {'symbol': 'AAPL', 'date': '2021-07-08', 'marketCap': 2361615212040},\n",
       " {'symbol': 'AAPL', 'date': '2021-07-07', 'marketCap': 2383543082970},\n",
       " {'symbol': 'AAPL', 'date': '2021-07-06', 'marketCap': 2341500924420},\n",
       " {'symbol': 'AAPL', 'date': '2021-07-02', 'marketCap': 2307537455160},\n",
       " {'symbol': 'AAPL', 'date': '2021-07-01', 'marketCap': 2263187099670},\n",
       " {'symbol': 'AAPL', 'date': '2021-06-30', 'marketCap': 2258076092160},\n",
       " {'symbol': 'AAPL', 'date': '2021-06-29', 'marketCap': 2247689205930},\n",
       " {'symbol': 'AAPL', 'date': '2021-06-28', 'marketCap': 2222134168380},\n",
       " {'symbol': 'AAPL', 'date': '2021-06-25', 'marketCap': 2213535573810},\n",
       " {'symbol': 'AAPL', 'date': '2021-06-24', 'marketCap': 2218524385110},\n",
       " {'symbol': 'AAPL', 'date': '2021-06-23', 'marketCap': 2223346902700},\n",
       " {'symbol': 'AAPL', 'date': '2021-06-22', 'marketCap': 2228003126580},\n",
       " {'symbol': 'AAPL', 'date': '2021-06-21', 'marketCap': 2200065783300},\n",
       " {'symbol': 'AAPL', 'date': '2021-06-18', 'marketCap': 2169467740660},\n",
       " {'symbol': 'AAPL', 'date': '2021-06-17', 'marketCap': 2191584804089},\n",
       " {'symbol': 'AAPL', 'date': '2021-06-16', 'marketCap': 2164312635650},\n",
       " {'symbol': 'AAPL', 'date': '2021-06-15', 'marketCap': 2155831656439},\n",
       " {'symbol': 'AAPL', 'date': '2021-06-14', 'marketCap': 2169800328079},\n",
       " {'symbol': 'AAPL', 'date': '2021-06-11', 'marketCap': 2117750396850},\n",
       " {'symbol': 'AAPL', 'date': '2021-06-10', 'marketCap': 2097129976810},\n",
       " {'symbol': 'AAPL', 'date': '2021-06-09', 'marketCap': 2114091935230},\n",
       " {'symbol': 'AAPL', 'date': '2021-06-08', 'marketCap': 2107606480540},\n",
       " {'symbol': 'AAPL', 'date': '2021-06-07', 'marketCap': 2093637808900},\n",
       " {'symbol': 'AAPL', 'date': '2021-06-04', 'marketCap': 2093471515190},\n",
       " {'symbol': 'AAPL', 'date': '2021-06-03', 'marketCap': 2054392493340},\n",
       " {'symbol': 'AAPL', 'date': '2021-06-02', 'marketCap': 2079669137260},\n",
       " {'symbol': 'AAPL', 'date': '2021-06-01', 'marketCap': 2066698227880},\n",
       " {'symbol': 'AAPL', 'date': '2021-05-28', 'marketCap': 2072185920310},\n",
       " {'symbol': 'AAPL', 'date': '2021-05-27', 'marketCap': 2083327598880},\n",
       " {'symbol': 'AAPL', 'date': '2021-05-26', 'marketCap': 2109435711350},\n",
       " {'symbol': 'AAPL', 'date': '2021-05-25', 'marketCap': 2110267179900},\n",
       " {'symbol': 'AAPL', 'date': '2021-05-24', 'marketCap': 2113593054100},\n",
       " {'symbol': 'AAPL', 'date': '2021-05-21', 'marketCap': 2085822004530},\n",
       " {'symbol': 'AAPL', 'date': '2021-05-20', 'marketCap': 2117085222010},\n",
       " {'symbol': 'AAPL', 'date': '2021-05-19', 'marketCap': 2073516269990},\n",
       " {'symbol': 'AAPL', 'date': '2021-05-18', 'marketCap': 2076176969350},\n",
       " {'symbol': 'AAPL', 'date': '2021-05-17', 'marketCap': 2099790676170},\n",
       " {'symbol': 'AAPL', 'date': '2021-05-14', 'marketCap': 2119413333950},\n",
       " {'symbol': 'AAPL', 'date': '2021-05-13', 'marketCap': 2078172493870},\n",
       " {'symbol': 'AAPL', 'date': '2021-05-12', 'marketCap': 2041587877670},\n",
       " {'symbol': 'AAPL', 'date': '2021-05-11', 'marketCap': 2093804102610},\n",
       " {'symbol': 'AAPL', 'date': '2021-05-10', 'marketCap': 2109435711350},\n",
       " {'symbol': 'AAPL', 'date': '2021-05-07', 'marketCap': 2165310397910},\n",
       " {'symbol': 'AAPL', 'date': '2021-05-06', 'marketCap': 2157494593540},\n",
       " {'symbol': 'AAPL', 'date': '2021-05-05', 'marketCap': 2130222425100},\n",
       " {'symbol': 'AAPL', 'date': '2021-05-04', 'marketCap': 2126065082350},\n",
       " {'symbol': 'AAPL', 'date': '2021-05-03', 'marketCap': 2204056832340},\n",
       " {'symbol': 'AAPL', 'date': '2021-04-30', 'marketCap': 2186097111660},\n",
       " {'symbol': 'AAPL', 'date': '2021-04-29', 'marketCap': 2219688441080},\n",
       " {'symbol': 'AAPL', 'date': '2021-04-28', 'marketCap': 2221351378180},\n",
       " {'symbol': 'AAPL', 'date': '2021-04-27', 'marketCap': 2234821168690},\n",
       " {'symbol': 'AAPL', 'date': '2021-04-26', 'marketCap': 2240308861120},\n",
       " {'symbol': 'AAPL', 'date': '2021-04-23', 'marketCap': 2233657112720},\n",
       " {'symbol': 'AAPL', 'date': '2021-04-22', 'marketCap': 2194079209740},\n",
       " {'symbol': 'AAPL', 'date': '2021-04-21', 'marketCap': 2220021028500},\n",
       " {'symbol': 'AAPL', 'date': '2021-04-20', 'marketCap': 2213535573810},\n",
       " {'symbol': 'AAPL', 'date': '2021-04-19', 'marketCap': 2242304385640},\n",
       " {'symbol': 'AAPL', 'date': '2021-04-16', 'marketCap': 2230996413360},\n",
       " {'symbol': 'AAPL', 'date': '2021-04-15', 'marketCap': 2236650399500},\n",
       " {'symbol': 'AAPL', 'date': '2021-04-14', 'marketCap': 2195575853130},\n",
       " {'symbol': 'AAPL', 'date': '2021-04-13', 'marketCap': 2235486343530},\n",
       " {'symbol': 'AAPL', 'date': '2021-04-12', 'marketCap': 2182438650040},\n",
       " {'symbol': 'AAPL', 'date': '2021-04-09', 'marketCap': 2211706343000},\n",
       " {'symbol': 'AAPL', 'date': '2021-04-08', 'marketCap': 2167804803560},\n",
       " {'symbol': 'AAPL', 'date': '2021-04-07', 'marketCap': 2126896550900},\n",
       " {'symbol': 'AAPL', 'date': '2021-04-06', 'marketCap': 2098792913910},\n",
       " {'symbol': 'AAPL', 'date': '2021-04-05', 'marketCap': 2093637808900},\n",
       " {'symbol': 'AAPL', 'date': '2021-04-01', 'marketCap': 2045412633000},\n",
       " {'symbol': 'AAPL', 'date': '2021-03-31', 'marketCap': 2031277667650},\n",
       " {'symbol': 'AAPL', 'date': '2021-03-30', 'marketCap': 1993861582900},\n",
       " {'symbol': 'AAPL', 'date': '2021-03-29', 'marketCap': 2018639345690},\n",
       " {'symbol': 'AAPL', 'date': '2021-03-26', 'marketCap': 2030688825960},\n",
       " {'symbol': 'AAPL', 'date': '2021-03-25', 'marketCap': 2020301670840},\n",
       " {'symbol': 'AAPL', 'date': '2021-03-24', 'marketCap': 2011924932840},\n",
       " {'symbol': 'AAPL', 'date': '2021-03-23', 'marketCap': 2052970949040},\n",
       " {'symbol': 'AAPL', 'date': '2021-03-22', 'marketCap': 2067211403640},\n",
       " {'symbol': 'AAPL', 'date': '2021-03-19', 'marketCap': 2010249585240},\n",
       " {'symbol': 'AAPL', 'date': '2021-03-18', 'marketCap': 2019296462280},\n",
       " {'symbol': 'AAPL', 'date': '2021-03-17', 'marketCap': 2090163665760},\n",
       " {'symbol': 'AAPL', 'date': '2021-03-16', 'marketCap': 2103733981320},\n",
       " {'symbol': 'AAPL', 'date': '2021-03-15', 'marketCap': 2077263489240},\n",
       " {'symbol': 'AAPL', 'date': '2021-03-12', 'marketCap': 2027673200280},\n",
       " {'symbol': 'AAPL', 'date': '2021-03-11', 'marketCap': 2043253932960},\n",
       " {'symbol': 'AAPL', 'date': '2021-03-10', 'marketCap': 2010082050480},\n",
       " {'symbol': 'AAPL', 'date': '2021-03-09', 'marketCap': 2028678408840},\n",
       " {'symbol': 'AAPL', 'date': '2021-03-08', 'marketCap': 1949434467360},\n",
       " {'symbol': 'AAPL', 'date': '2021-03-05', 'marketCap': 2034207055920},\n",
       " {'symbol': 'AAPL', 'date': '2021-03-04', 'marketCap': 2012595071880},\n",
       " {'symbol': 'AAPL', 'date': '2021-03-03', 'marketCap': 2044929280560},\n",
       " {'symbol': 'AAPL', 'date': '2021-03-02', 'marketCap': 2096194917120},\n",
       " {'symbol': 'AAPL', 'date': '2021-03-01', 'marketCap': 2140926698040},\n",
       " {'symbol': 'AAPL', 'date': '2021-02-26', 'marketCap': 2031526499760},\n",
       " {'symbol': 'AAPL', 'date': '2021-02-25', 'marketCap': 2027003061240},\n",
       " {'symbol': 'AAPL', 'date': '2021-02-24', 'marketCap': 2100048216600},\n",
       " {'symbol': 'AAPL', 'date': '2021-02-23', 'marketCap': 2108592489360},\n",
       " {'symbol': 'AAPL', 'date': '2021-02-22', 'marketCap': 2110937976000},\n",
       " {'symbol': 'AAPL', 'date': '2021-02-19', 'marketCap': 2175773928120},\n",
       " {'symbol': 'AAPL', 'date': '2021-02-18', 'marketCap': 2173093371960},\n",
       " {'symbol': 'AAPL', 'date': '2021-02-17', 'marketCap': 2192024799840},\n",
       " {'symbol': 'AAPL', 'date': '2021-02-16', 'marketCap': 2231395468440},\n",
       " {'symbol': 'AAPL', 'date': '2021-02-12', 'marketCap': 2267918046120},\n",
       " {'symbol': 'AAPL', 'date': '2021-02-11', 'marketCap': 2263897211880},\n",
       " {'symbol': 'AAPL', 'date': '2021-02-10', 'marketCap': 2268253115640},\n",
       " {'symbol': 'AAPL', 'date': '2021-02-09', 'marketCap': 2278640270760},\n",
       " {'symbol': 'AAPL', 'date': '2021-02-08', 'marketCap': 2293718399160},\n",
       " {'symbol': 'AAPL', 'date': '2021-02-05', 'marketCap': 2291205377760},\n",
       " {'symbol': 'AAPL', 'date': '2021-02-04', 'marketCap': 2301760067640},\n",
       " {'symbol': 'AAPL', 'date': '2021-02-03', 'marketCap': 2243960575440},\n",
       " {'symbol': 'AAPL', 'date': '2021-02-02', 'marketCap': 2261551725240},\n",
       " {'symbol': 'AAPL', 'date': '2021-02-01', 'marketCap': 2247311270640},\n",
       " {'symbol': 'AAPL', 'date': '2021-01-29', 'marketCap': 2210788692960},\n",
       " {'symbol': 'AAPL', 'date': '2021-01-28', 'marketCap': 2296734024840},\n",
       " {'symbol': 'AAPL', 'date': '2021-01-27', 'marketCap': 2379998800560},\n",
       " {'symbol': 'AAPL', 'date': '2021-01-26', 'marketCap': 2398427624160},\n",
       " {'symbol': 'AAPL', 'date': '2021-01-25', 'marketCap': 2394406789920},\n",
       " {'symbol': 'AAPL', 'date': '2021-01-22', 'marketCap': 2329905907320},\n",
       " {'symbol': 'AAPL', 'date': '2021-01-21', 'marketCap': 2293048260120},\n",
       " {'symbol': 'AAPL', 'date': '2021-01-20', 'marketCap': 2211961436280},\n",
       " {'symbol': 'AAPL', 'date': '2021-01-19', 'marketCap': 2141596837080},\n",
       " {'symbol': 'AAPL', 'date': '2021-01-15', 'marketCap': 2130036938640},\n",
       " {'symbol': 'AAPL', 'date': '2021-01-14', 'marketCap': 2159690591160},\n",
       " {'symbol': 'AAPL', 'date': '2021-01-13', 'marketCap': 2192862473639},\n",
       " {'symbol': 'AAPL', 'date': '2021-01-12', 'marketCap': 2157847708800},\n",
       " {'symbol': 'AAPL', 'date': '2021-01-11', 'marketCap': 2160863334479},\n",
       " {'symbol': 'AAPL', 'date': '2021-01-08', 'marketCap': 2212296505800},\n",
       " {'symbol': 'AAPL', 'date': '2021-01-07', 'marketCap': 2193365077919},\n",
       " {'symbol': 'AAPL', 'date': '2021-01-06', 'marketCap': 2120990061600},\n",
       " {'symbol': 'AAPL', 'date': '2021-01-05', 'marketCap': 2194872890759},\n",
       " {'symbol': 'AAPL', 'date': '2021-01-04', 'marketCap': 2168067329160},\n",
       " {'symbol': 'AAPL', 'date': '2020-12-31', 'marketCap': 2223018730440},\n",
       " {'symbol': 'AAPL', 'date': '2020-12-30', 'marketCap': 2240274810720},\n",
       " {'symbol': 'AAPL', 'date': '2020-12-29', 'marketCap': 2259541308120},\n",
       " {'symbol': 'AAPL', 'date': '2020-12-28', 'marketCap': 2290032634440},\n",
       " {'symbol': 'AAPL', 'date': '2020-12-24', 'marketCap': 2234927654430},\n",
       " {'symbol': 'AAPL', 'date': '2020-12-23', 'marketCap': 2217823184240},\n",
       " {'symbol': 'AAPL', 'date': '2020-12-22', 'marketCap': 2233403493720},\n",
       " {'symbol': 'AAPL', 'date': '2020-12-21', 'marketCap': 2171590309369},\n",
       " {'symbol': 'AAPL', 'date': '2020-12-18', 'marketCap': 2145002172540},\n",
       " {'symbol': 'AAPL', 'date': '2020-12-17', 'marketCap': 2179549815299},\n",
       " {'symbol': 'AAPL', 'date': '2020-12-16', 'marketCap': 2164477559390},\n",
       " {'symbol': 'AAPL', 'date': '2020-12-15', 'marketCap': 2165663017720},\n",
       " {'symbol': 'AAPL', 'date': '2020-12-14', 'marketCap': 2062358791820},\n",
       " {'symbol': 'AAPL', 'date': '2020-12-11', 'marketCap': 2073027916790},\n",
       " {'symbol': 'AAPL', 'date': '2020-12-10', 'marketCap': 2087084065560},\n",
       " {'symbol': 'AAPL', 'date': '2020-12-09', 'marketCap': 2062358791820},\n",
       " {'symbol': 'AAPL', 'date': '2020-12-08', 'marketCap': 2106390101220},\n",
       " {'symbol': 'AAPL', 'date': '2020-12-07', 'marketCap': 2095720976250},\n",
       " {'symbol': 'AAPL', 'date': '2020-12-04', 'marketCap': 2070318297750},\n",
       " {'symbol': 'AAPL', 'date': '2020-12-03', 'marketCap': 2082003529860},\n",
       " {'symbol': 'AAPL', 'date': '2020-12-02', 'marketCap': 2084374446520},\n",
       " {'symbol': 'AAPL', 'date': '2020-12-01', 'marketCap': 2078277803680},\n",
       " {'symbol': 'AAPL', 'date': '2020-11-30', 'marketCap': 2016125916950},\n",
       " {'symbol': 'AAPL', 'date': '2020-11-27', 'marketCap': 1974465524210},\n",
       " {'symbol': 'AAPL', 'date': '2020-11-25', 'marketCap': 1964981857570},\n",
       " {'symbol': 'AAPL', 'date': '2020-11-24', 'marketCap': 1950417655230},\n",
       " {'symbol': 'AAPL', 'date': '2020-11-23', 'marketCap': 1928063298150},\n",
       " {'symbol': 'AAPL', 'date': '2020-11-20', 'marketCap': 1987166863460},\n",
       " {'symbol': 'AAPL', 'date': '2020-11-19', 'marketCap': 2009182518160},\n",
       " {'symbol': 'AAPL', 'date': '2020-11-18', 'marketCap': 1998852095570},\n",
       " {'symbol': 'AAPL', 'date': '2020-11-17', 'marketCap': 2021883857410},\n",
       " {'symbol': 'AAPL', 'date': '2020-11-16', 'marketCap': 2037294815700},\n",
       " {'symbol': 'AAPL', 'date': '2020-11-13', 'marketCap': 2019682291940},\n",
       " {'symbol': 'AAPL', 'date': '2020-11-12', 'marketCap': 2018835535990},\n",
       " {'symbol': 'AAPL', 'date': '2020-11-11', 'marketCap': 2023577369310},\n",
       " {'symbol': 'AAPL', 'date': '2020-11-10', 'marketCap': 1963965750430},\n",
       " {'symbol': 'AAPL', 'date': '2020-11-09', 'marketCap': 1969893042080},\n",
       " {'symbol': 'AAPL', 'date': '2020-11-06', 'marketCap': 2010029274110},\n",
       " {'symbol': 'AAPL', 'date': '2020-11-05', 'marketCap': 2015787214570},\n",
       " {'symbol': 'AAPL', 'date': '2020-11-04', 'marketCap': 1946691929050},\n",
       " {'symbol': 'AAPL', 'date': '2020-11-03', 'marketCap': 1870314542360},\n",
       " {'symbol': 'AAPL', 'date': '2020-11-02', 'marketCap': 1842032893630},\n",
       " {'symbol': 'AAPL', 'date': '2020-10-30', 'marketCap': 1843557054340},\n",
       " {'symbol': 'AAPL', 'date': '2020-10-29', 'marketCap': 1952957923080},\n",
       " {'symbol': 'AAPL', 'date': '2020-10-28', 'marketCap': 1883185232800},\n",
       " {'symbol': 'AAPL', 'date': '2020-10-27', 'marketCap': 1974634875400},\n",
       " {'symbol': 'AAPL', 'date': '2020-10-26', 'marketCap': 1948385440950},\n",
       " {'symbol': 'AAPL', 'date': '2020-10-23', 'marketCap': 1948216089760},\n",
       " {'symbol': 'AAPL', 'date': '2020-10-22', 'marketCap': 1960240024250},\n",
       " {'symbol': 'AAPL', 'date': '2020-10-21', 'marketCap': 1979207357530},\n",
       " {'symbol': 'AAPL', 'date': '2020-10-20', 'marketCap': 1990045833690},\n",
       " {'symbol': 'AAPL', 'date': '2020-10-19', 'marketCap': 1964135101620},\n",
       " {'symbol': 'AAPL', 'date': '2020-10-16', 'marketCap': 2015617863380},\n",
       " {'symbol': 'AAPL', 'date': '2020-10-15', 'marketCap': 2044238214490},\n",
       " {'symbol': 'AAPL', 'date': '2020-10-14', 'marketCap': 2052367071610},\n",
       " {'symbol': 'AAPL', 'date': '2020-10-13', 'marketCap': 2050842910900},\n",
       " {'symbol': 'AAPL', 'date': '2020-10-12', 'marketCap': 2106728803600},\n",
       " {'symbol': 'AAPL', 'date': '2020-10-09', 'marketCap': 1980900869430},\n",
       " {'symbol': 'AAPL', 'date': '2020-10-08', 'marketCap': 1947030631430},\n",
       " {'symbol': 'AAPL', 'date': '2020-10-07', 'marketCap': 1948893494520},\n",
       " {'symbol': 'AAPL', 'date': '2020-10-06', 'marketCap': 1916378066040},\n",
       " {'symbol': 'AAPL', 'date': '2020-10-05', 'marketCap': 1972941363500},\n",
       " {'symbol': 'AAPL', 'date': '2020-10-02', 'marketCap': 1914007149380},\n",
       " {'symbol': 'AAPL', 'date': '2020-10-01', 'marketCap': 1977852548010},\n",
       " ...]"
      ]
     },
     "execution_count": 37,
     "metadata": {},
     "output_type": "execute_result"
    }
   ],
   "source": [
    "\n",
    "# url = 'https://financialmodelingprep.com/api/v3/historical-market-capitalization/AAPL?limit=100&from=2023-10-10&to=2023-12-10'\n",
    "\n",
    "start_date='2024-01-01'\n",
    "url = 'https://financialmodelingprep.com/api/v3/historical-market-capitalization/AAPL?from={start_date}'\n",
    "response = requests.get(url, params=params)\n",
    "data = response.json()\n",
    "data\n",
    "\n",
    "\n",
    "\n",
    "\n",
    "\n",
    "\n",
    "\n"
   ]
  },
  {
   "cell_type": "code",
   "execution_count": 19,
   "metadata": {},
   "outputs": [
    {
     "name": "stdout",
     "output_type": "stream",
     "text": [
      "done equity download\n"
     ]
    }
   ],
   "source": [
    "\n",
    "# Example usage:\n",
    "df_bench = utils.download_stock_returns(ticker='SP500')\n",
    "df_bench = df_bench[['date', 'total_return']]\n",
    "df_bench = df_bench.rename(columns={'total_return': 'index_total_return'}\n",
    "                           )\n",
    "\n",
    "for this_ticker in ['GOOGL']:\n",
    "    df = utils.download_stock_returns(ticker=this_ticker)\n",
    "    df = df.merge(df_bench, how='outer', on='date')\n",
    "    df = df.sort_values(by='date')\n",
    "\n",
    "    \n",
    "\n",
    "    this_capm_6m = utils.capm_regression(data=df, rolling_period=126, exponential_weighting=(False, 0))\n",
    "    this_capm_1y = utils.capm_regression(data=df, rolling_period=252, exponential_weighting=(False, 0))\n",
    "    this_capm_3y = utils.capm_regression(data=df, rolling_period=252*3, exponential_weighting=(False, 0))\n",
    "    this_capm_ewma = utils.capm_regression(data=df, rolling_period=252*3, exponential_weighting=(True, 0.95))\n",
    "\n",
    "\n",
    "print('done equity download')"
   ]
  },
  {
   "cell_type": "code",
   "execution_count": 20,
   "metadata": {},
   "outputs": [
    {
     "data": {
      "image/png": "[encoded data removed]",
      "text/plain": [
       "<Figure size 1200x600 with 2 Axes>"
      ]
     },
     "metadata": {},
     "output_type": "display_data"
    }
   ],
   "source": [
    "fig, axes = plt.subplots(1, 1, figsize=(12, 6))\n",
    "this_capm_6m.set_index('date')['idio_vol'].plot(ax=axes, label='6m')\n",
    "this_capm_1y.set_index('date')['idio_vol'].plot(ax=axes, label='1y')\n",
    "this_capm_3y.set_index('date')['idio_vol'].plot(ax=axes, label='3y')\n",
    "this_capm_ewma.set_index('date')['idio_vol'].plot(ax=axes, label='ewma', secondary_y=True)\n",
    "axes.legend()\n",
    "plt.show()"
   ]
  },
  {
   "cell_type": "code",
   "execution_count": null,
   "metadata": {},
   "outputs": [],
   "source": []
  },
  {
   "cell_type": "code",
   "execution_count": 95,
   "metadata": {},
   "outputs": [
    {
     "data": {
      "text/html": [
       "<div>\n",
       "<style scoped>\n",
       "    .dataframe tbody tr th:only-of-type {\n",
       "        vertical-align: middle;\n",
       "    }\n",
       "\n",
       "    .dataframe tbody tr th {\n",
       "        vertical-align: top;\n",
       "    }\n",
       "\n",
       "    .dataframe thead th {\n",
       "        text-align: right;\n",
       "    }\n",
       "</style>\n",
       "<table border=\"1\" class=\"dataframe\">\n",
       "  <thead>\n",
       "    <tr style=\"text-align: right;\">\n",
       "      <th></th>\n",
       "      <th>title</th>\n",
       "      <th>date</th>\n",
       "      <th>link</th>\n",
       "      <th>cik</th>\n",
       "      <th>form_type</th>\n",
       "      <th>ticker</th>\n",
       "      <th>done</th>\n",
       "    </tr>\n",
       "  </thead>\n",
       "  <tbody>\n",
       "    <tr>\n",
       "      <th>0</th>\n",
       "      <td>10-Q - DELTA AIR LINES, INC. (0000027904) (Filer)</td>\n",
       "      <td>2024-10-10 16:16:49</td>\n",
       "      <td>https://www.sec.gov/Archives/edgar/data/27904/...</td>\n",
       "      <td>0000027904</td>\n",
       "      <td>10-Q</td>\n",
       "      <td>DAL</td>\n",
       "      <td>True</td>\n",
       "    </tr>\n",
       "    <tr>\n",
       "      <th>1</th>\n",
       "      <td>10-K - Accenture plc (0001467373) (Filer)</td>\n",
       "      <td>2024-10-10 06:43:59</td>\n",
       "      <td>https://www.sec.gov/Archives/edgar/data/146737...</td>\n",
       "      <td>0001467373</td>\n",
       "      <td>10-K</td>\n",
       "      <td>ACN</td>\n",
       "      <td>True</td>\n",
       "    </tr>\n",
       "    <tr>\n",
       "      <th>2</th>\n",
       "      <td>10-Q - DOMINOS PIZZA INC (0001286681) (Filer)</td>\n",
       "      <td>2024-10-10 06:15:20</td>\n",
       "      <td>https://www.sec.gov/Archives/edgar/data/128668...</td>\n",
       "      <td>0001286681</td>\n",
       "      <td>10-Q</td>\n",
       "      <td>DPZ</td>\n",
       "      <td>True</td>\n",
       "    </tr>\n",
       "    <tr>\n",
       "      <th>3</th>\n",
       "      <td>10-K - COSTCO WHOLESALE CORP /NEW (0000909832)...</td>\n",
       "      <td>2024-10-08 18:40:07</td>\n",
       "      <td>https://www.sec.gov/Archives/edgar/data/909832...</td>\n",
       "      <td>0000909832</td>\n",
       "      <td>10-K</td>\n",
       "      <td>COST</td>\n",
       "      <td>True</td>\n",
       "    </tr>\n",
       "    <tr>\n",
       "      <th>4</th>\n",
       "      <td>10-Q - PEPSICO INC (0000077476) (Filer)</td>\n",
       "      <td>2024-10-07 17:46:04</td>\n",
       "      <td>https://www.sec.gov/Archives/edgar/data/77476/...</td>\n",
       "      <td>0000077476</td>\n",
       "      <td>10-Q</td>\n",
       "      <td>PEP</td>\n",
       "      <td>True</td>\n",
       "    </tr>\n",
       "    <tr>\n",
       "      <th>5</th>\n",
       "      <td>10-Q - NIKE, Inc. (0000320187) (Filer)</td>\n",
       "      <td>2024-10-07 16:20:15</td>\n",
       "      <td>https://www.sec.gov/Archives/edgar/data/320187...</td>\n",
       "      <td>0000320187</td>\n",
       "      <td>10-Q</td>\n",
       "      <td>NKE</td>\n",
       "      <td>True</td>\n",
       "    </tr>\n",
       "    <tr>\n",
       "      <th>6</th>\n",
       "      <td>10-K - MICRON TECHNOLOGY INC (0000723125) (Filer)</td>\n",
       "      <td>2024-10-04 16:12:50</td>\n",
       "      <td>https://www.sec.gov/Archives/edgar/data/723125...</td>\n",
       "      <td>0000723125</td>\n",
       "      <td>10-K</td>\n",
       "      <td>MU</td>\n",
       "      <td>True</td>\n",
       "    </tr>\n",
       "    <tr>\n",
       "      <th>7</th>\n",
       "      <td>10-Q - CINTAS CORP (0000723254) (Filer)</td>\n",
       "      <td>2024-10-04 14:51:19</td>\n",
       "      <td>https://www.sec.gov/Archives/edgar/data/723254...</td>\n",
       "      <td>0000723254</td>\n",
       "      <td>10-Q</td>\n",
       "      <td>CTAS</td>\n",
       "      <td>True</td>\n",
       "    </tr>\n",
       "    <tr>\n",
       "      <th>8</th>\n",
       "      <td>10-Q - CONSTELLATION BRANDS, INC. (0000016918)...</td>\n",
       "      <td>2024-10-03 14:00:35</td>\n",
       "      <td>https://www.sec.gov/Archives/edgar/data/16918/...</td>\n",
       "      <td>0000016918</td>\n",
       "      <td>10-Q</td>\n",
       "      <td>STZ</td>\n",
       "      <td>True</td>\n",
       "    </tr>\n",
       "    <tr>\n",
       "      <th>9</th>\n",
       "      <td>10-Q - LENNAR CORP /NEW/ (0000920760) (Filer)</td>\n",
       "      <td>2024-10-02 16:31:24</td>\n",
       "      <td>https://www.sec.gov/Archives/edgar/data/920760...</td>\n",
       "      <td>0000920760</td>\n",
       "      <td>10-Q</td>\n",
       "      <td>LEN</td>\n",
       "      <td>True</td>\n",
       "    </tr>\n",
       "    <tr>\n",
       "      <th>10</th>\n",
       "      <td>10-Q - CONAGRA BRANDS INC. (0000023217) (Filer)</td>\n",
       "      <td>2024-10-02 16:30:32</td>\n",
       "      <td>https://www.sec.gov/Archives/edgar/data/23217/...</td>\n",
       "      <td>0000023217</td>\n",
       "      <td>10-Q</td>\n",
       "      <td>CAG</td>\n",
       "      <td>True</td>\n",
       "    </tr>\n",
       "    <tr>\n",
       "      <th>11</th>\n",
       "      <td>10-Q - Lamb Weston Holdings, Inc. (0001679273)...</td>\n",
       "      <td>2024-10-02 12:45:35</td>\n",
       "      <td>https://www.sec.gov/Archives/edgar/data/167927...</td>\n",
       "      <td>0001679273</td>\n",
       "      <td>10-Q</td>\n",
       "      <td>LW</td>\n",
       "      <td>True</td>\n",
       "    </tr>\n",
       "    <tr>\n",
       "      <th>12</th>\n",
       "      <td>10-Q - PAYCHEX INC (0000723531) (Filer)</td>\n",
       "      <td>2024-10-01 16:21:36</td>\n",
       "      <td>https://www.sec.gov/Archives/edgar/data/723531...</td>\n",
       "      <td>0000723531</td>\n",
       "      <td>10-Q</td>\n",
       "      <td>PAYX</td>\n",
       "      <td>True</td>\n",
       "    </tr>\n",
       "    <tr>\n",
       "      <th>13</th>\n",
       "      <td>10-Q - MCCORMICK &amp; CO INC (0000063754) (Filer)</td>\n",
       "      <td>2024-10-01 16:07:34</td>\n",
       "      <td>https://www.sec.gov/Archives/edgar/data/63754/...</td>\n",
       "      <td>0000063754</td>\n",
       "      <td>10-Q</td>\n",
       "      <td>MKC</td>\n",
       "      <td>True</td>\n",
       "    </tr>\n",
       "    <tr>\n",
       "      <th>14</th>\n",
       "      <td>10-Q - CARNIVAL CORP (0000815097) (Filer)</td>\n",
       "      <td>2024-09-30 11:31:51</td>\n",
       "      <td>https://www.sec.gov/Archives/edgar/data/815097...</td>\n",
       "      <td>0000815097</td>\n",
       "      <td>10-Q</td>\n",
       "      <td>CCL</td>\n",
       "      <td>True</td>\n",
       "    </tr>\n",
       "    <tr>\n",
       "      <th>15</th>\n",
       "      <td>10-K - COPART INC (0000900075) (Filer)</td>\n",
       "      <td>2024-09-27 19:06:12</td>\n",
       "      <td>https://www.sec.gov/Archives/edgar/data/900075...</td>\n",
       "      <td>0000900075</td>\n",
       "      <td>10-K</td>\n",
       "      <td>CPRT</td>\n",
       "      <td>True</td>\n",
       "    </tr>\n",
       "    <tr>\n",
       "      <th>16</th>\n",
       "      <td>10-Q - DARDEN RESTAURANTS INC (0000940944) (Fi...</td>\n",
       "      <td>2024-09-27 16:07:37</td>\n",
       "      <td>https://www.sec.gov/Archives/edgar/data/940944...</td>\n",
       "      <td>0000940944</td>\n",
       "      <td>10-Q</td>\n",
       "      <td>DRI</td>\n",
       "      <td>True</td>\n",
       "    </tr>\n",
       "    <tr>\n",
       "      <th>17</th>\n",
       "      <td>10-Q - CARMAX INC (0001170010) (Filer)</td>\n",
       "      <td>2024-09-27 14:28:39</td>\n",
       "      <td>https://www.sec.gov/Archives/edgar/data/117001...</td>\n",
       "      <td>0001170010</td>\n",
       "      <td>10-Q</td>\n",
       "      <td>KMX</td>\n",
       "      <td>True</td>\n",
       "    </tr>\n",
       "    <tr>\n",
       "      <th>18</th>\n",
       "      <td>10-Q - ADOBE INC. (0000796343) (Filer)</td>\n",
       "      <td>2024-09-25 16:01:59</td>\n",
       "      <td>https://www.sec.gov/Archives/edgar/data/796343...</td>\n",
       "      <td>0000796343</td>\n",
       "      <td>10-Q</td>\n",
       "      <td>ADBE</td>\n",
       "      <td>True</td>\n",
       "    </tr>\n",
       "    <tr>\n",
       "      <th>19</th>\n",
       "      <td>10-Q - KROGER CO (0000056873) (Filer)</td>\n",
       "      <td>2024-09-20 16:07:43</td>\n",
       "      <td>https://www.sec.gov/Archives/edgar/data/56873/...</td>\n",
       "      <td>0000056873</td>\n",
       "      <td>10-Q</td>\n",
       "      <td>KR</td>\n",
       "      <td>True</td>\n",
       "    </tr>\n",
       "  </tbody>\n",
       "</table>\n",
       "</div>"
      ],
      "text/plain": [
       "                                                title                 date  \\\n",
       "0   10-Q - DELTA AIR LINES, INC. (0000027904) (Filer)  2024-10-10 16:16:49   \n",
       "1           10-K - Accenture plc (0001467373) (Filer)  2024-10-10 06:43:59   \n",
       "2       10-Q - DOMINOS PIZZA INC (0001286681) (Filer)  2024-10-10 06:15:20   \n",
       "3   10-K - COSTCO WHOLESALE CORP /NEW (0000909832)...  2024-10-08 18:40:07   \n",
       "4             10-Q - PEPSICO INC (0000077476) (Filer)  2024-10-07 17:46:04   \n",
       "5              10-Q - NIKE, Inc. (0000320187) (Filer)  2024-10-07 16:20:15   \n",
       "6   10-K - MICRON TECHNOLOGY INC (0000723125) (Filer)  2024-10-04 16:12:50   \n",
       "7             10-Q - CINTAS CORP (0000723254) (Filer)  2024-10-04 14:51:19   \n",
       "8   10-Q - CONSTELLATION BRANDS, INC. (0000016918)...  2024-10-03 14:00:35   \n",
       "9       10-Q - LENNAR CORP /NEW/ (0000920760) (Filer)  2024-10-02 16:31:24   \n",
       "10    10-Q - CONAGRA BRANDS INC. (0000023217) (Filer)  2024-10-02 16:30:32   \n",
       "11  10-Q - Lamb Weston Holdings, Inc. (0001679273)...  2024-10-02 12:45:35   \n",
       "12            10-Q - PAYCHEX INC (0000723531) (Filer)  2024-10-01 16:21:36   \n",
       "13     10-Q - MCCORMICK & CO INC (0000063754) (Filer)  2024-10-01 16:07:34   \n",
       "14          10-Q - CARNIVAL CORP (0000815097) (Filer)  2024-09-30 11:31:51   \n",
       "15             10-K - COPART INC (0000900075) (Filer)  2024-09-27 19:06:12   \n",
       "16  10-Q - DARDEN RESTAURANTS INC (0000940944) (Fi...  2024-09-27 16:07:37   \n",
       "17             10-Q - CARMAX INC (0001170010) (Filer)  2024-09-27 14:28:39   \n",
       "18             10-Q - ADOBE INC. (0000796343) (Filer)  2024-09-25 16:01:59   \n",
       "19              10-Q - KROGER CO (0000056873) (Filer)  2024-09-20 16:07:43   \n",
       "\n",
       "                                                 link         cik form_type  \\\n",
       "0   https://www.sec.gov/Archives/edgar/data/27904/...  0000027904      10-Q   \n",
       "1   https://www.sec.gov/Archives/edgar/data/146737...  0001467373      10-K   \n",
       "2   https://www.sec.gov/Archives/edgar/data/128668...  0001286681      10-Q   \n",
       "3   https://www.sec.gov/Archives/edgar/data/909832...  0000909832      10-K   \n",
       "4   https://www.sec.gov/Archives/edgar/data/77476/...  0000077476      10-Q   \n",
       "5   https://www.sec.gov/Archives/edgar/data/320187...  0000320187      10-Q   \n",
       "6   https://www.sec.gov/Archives/edgar/data/723125...  0000723125      10-K   \n",
       "7   https://www.sec.gov/Archives/edgar/data/723254...  0000723254      10-Q   \n",
       "8   https://www.sec.gov/Archives/edgar/data/16918/...  0000016918      10-Q   \n",
       "9   https://www.sec.gov/Archives/edgar/data/920760...  0000920760      10-Q   \n",
       "10  https://www.sec.gov/Archives/edgar/data/23217/...  0000023217      10-Q   \n",
       "11  https://www.sec.gov/Archives/edgar/data/167927...  0001679273      10-Q   \n",
       "12  https://www.sec.gov/Archives/edgar/data/723531...  0000723531      10-Q   \n",
       "13  https://www.sec.gov/Archives/edgar/data/63754/...  0000063754      10-Q   \n",
       "14  https://www.sec.gov/Archives/edgar/data/815097...  0000815097      10-Q   \n",
       "15  https://www.sec.gov/Archives/edgar/data/900075...  0000900075      10-K   \n",
       "16  https://www.sec.gov/Archives/edgar/data/940944...  0000940944      10-Q   \n",
       "17  https://www.sec.gov/Archives/edgar/data/117001...  0001170010      10-Q   \n",
       "18  https://www.sec.gov/Archives/edgar/data/796343...  0000796343      10-Q   \n",
       "19  https://www.sec.gov/Archives/edgar/data/56873/...  0000056873      10-Q   \n",
       "\n",
       "   ticker  done  \n",
       "0     DAL  True  \n",
       "1     ACN  True  \n",
       "2     DPZ  True  \n",
       "3    COST  True  \n",
       "4     PEP  True  \n",
       "5     NKE  True  \n",
       "6      MU  True  \n",
       "7    CTAS  True  \n",
       "8     STZ  True  \n",
       "9     LEN  True  \n",
       "10    CAG  True  \n",
       "11     LW  True  \n",
       "12   PAYX  True  \n",
       "13    MKC  True  \n",
       "14    CCL  True  \n",
       "15   CPRT  True  \n",
       "16    DRI  True  \n",
       "17    KMX  True  \n",
       "18   ADBE  True  \n",
       "19     KR  True  "
      ]
     },
     "execution_count": 95,
     "metadata": {},
     "output_type": "execute_result"
    }
   ],
   "source": [
    "df = utils.check_recent_filings(start_date='2024-09-20',\n",
    "                                filter_list=tickers_sp500)\n",
    "df\n",
    "\n",
    "\n",
    "\n",
    "\n",
    "\n",
    "\n"
   ]
  },
  {
   "cell_type": "code",
   "execution_count": 2,
   "metadata": {},
   "outputs": [
    {
     "data": {
      "text/html": [
       "<div>\n",
       "<style scoped>\n",
       "    .dataframe tbody tr th:only-of-type {\n",
       "        vertical-align: middle;\n",
       "    }\n",
       "\n",
       "    .dataframe tbody tr th {\n",
       "        vertical-align: top;\n",
       "    }\n",
       "\n",
       "    .dataframe thead th {\n",
       "        text-align: right;\n",
       "    }\n",
       "</style>\n",
       "<table border=\"1\" class=\"dataframe\">\n",
       "  <thead>\n",
       "    <tr style=\"text-align: right;\">\n",
       "      <th></th>\n",
       "      <th>ticker</th>\n",
       "      <th>date</th>\n",
       "      <th>adjClose</th>\n",
       "      <th>volume</th>\n",
       "      <th>total_return</th>\n",
       "    </tr>\n",
       "  </thead>\n",
       "  <tbody>\n",
       "    <tr>\n",
       "      <th>0</th>\n",
       "      <td>AAPL</td>\n",
       "      <td>1990-01-02</td>\n",
       "      <td>0.26241</td>\n",
       "      <td>183198580</td>\n",
       "      <td>NaN</td>\n",
       "    </tr>\n",
       "    <tr>\n",
       "      <th>1</th>\n",
       "      <td>AAPL</td>\n",
       "      <td>1990-01-03</td>\n",
       "      <td>0.26417</td>\n",
       "      <td>207995404</td>\n",
       "      <td>0.006707</td>\n",
       "    </tr>\n",
       "    <tr>\n",
       "      <th>2</th>\n",
       "      <td>AAPL</td>\n",
       "      <td>1990-01-04</td>\n",
       "      <td>0.26505</td>\n",
       "      <td>221513820</td>\n",
       "      <td>0.003331</td>\n",
       "    </tr>\n",
       "    <tr>\n",
       "      <th>3</th>\n",
       "      <td>AAPL</td>\n",
       "      <td>1990-01-05</td>\n",
       "      <td>0.26593</td>\n",
       "      <td>124006524</td>\n",
       "      <td>0.003320</td>\n",
       "    </tr>\n",
       "    <tr>\n",
       "      <th>4</th>\n",
       "      <td>AAPL</td>\n",
       "      <td>1990-01-08</td>\n",
       "      <td>0.26769</td>\n",
       "      <td>101572899</td>\n",
       "      <td>0.006618</td>\n",
       "    </tr>\n",
       "    <tr>\n",
       "      <th>...</th>\n",
       "      <td>...</td>\n",
       "      <td>...</td>\n",
       "      <td>...</td>\n",
       "      <td>...</td>\n",
       "      <td>...</td>\n",
       "    </tr>\n",
       "    <tr>\n",
       "      <th>8777</th>\n",
       "      <td>AAPL</td>\n",
       "      <td>2024-11-04</td>\n",
       "      <td>222.01000</td>\n",
       "      <td>44944500</td>\n",
       "      <td>-0.004038</td>\n",
       "    </tr>\n",
       "    <tr>\n",
       "      <th>8778</th>\n",
       "      <td>AAPL</td>\n",
       "      <td>2024-11-05</td>\n",
       "      <td>223.45000</td>\n",
       "      <td>28111338</td>\n",
       "      <td>0.006486</td>\n",
       "    </tr>\n",
       "    <tr>\n",
       "      <th>8779</th>\n",
       "      <td>AAPL</td>\n",
       "      <td>2024-11-06</td>\n",
       "      <td>222.72000</td>\n",
       "      <td>54561121</td>\n",
       "      <td>-0.003267</td>\n",
       "    </tr>\n",
       "    <tr>\n",
       "      <th>8780</th>\n",
       "      <td>AAPL</td>\n",
       "      <td>2024-11-07</td>\n",
       "      <td>227.48000</td>\n",
       "      <td>42137691</td>\n",
       "      <td>0.021372</td>\n",
       "    </tr>\n",
       "    <tr>\n",
       "      <th>8781</th>\n",
       "      <td>AAPL</td>\n",
       "      <td>2024-11-08</td>\n",
       "      <td>227.13550</td>\n",
       "      <td>12863102</td>\n",
       "      <td>-0.001514</td>\n",
       "    </tr>\n",
       "  </tbody>\n",
       "</table>\n",
       "<p>8782 rows × 5 columns</p>\n",
       "</div>"
      ],
      "text/plain": [
       "     ticker       date   adjClose     volume  total_return\n",
       "0      AAPL 1990-01-02    0.26241  183198580           NaN\n",
       "1      AAPL 1990-01-03    0.26417  207995404      0.006707\n",
       "2      AAPL 1990-01-04    0.26505  221513820      0.003331\n",
       "3      AAPL 1990-01-05    0.26593  124006524      0.003320\n",
       "4      AAPL 1990-01-08    0.26769  101572899      0.006618\n",
       "...     ...        ...        ...        ...           ...\n",
       "8777   AAPL 2024-11-04  222.01000   44944500     -0.004038\n",
       "8778   AAPL 2024-11-05  223.45000   28111338      0.006486\n",
       "8779   AAPL 2024-11-06  222.72000   54561121     -0.003267\n",
       "8780   AAPL 2024-11-07  227.48000   42137691      0.021372\n",
       "8781   AAPL 2024-11-08  227.13550   12863102     -0.001514\n",
       "\n",
       "[8782 rows x 5 columns]"
      ]
     },
     "execution_count": 2,
     "metadata": {},
     "output_type": "execute_result"
    }
   ],
   "source": [
    "df = utils.download_stock_returns(ticker='AAPL')\n",
    "df"
   ]
  }
 ],
 "metadata": {
  "kernelspec": {
   "display_name": "Python 3",
   "language": "python",
   "name": "python3"
  },
  "language_info": {
   "codemirror_mode": {
    "name": "ipython",
    "version": 3
   },
   "file_extension": ".py",
   "mimetype": "text/x-python",
   "name": "python",
   "nbconvert_exporter": "python",
   "pygments_lexer": "ipython3",
   "version": "3.12.2"
  }
 },
 "nbformat": 4,
 "nbformat_minor": 2
}
