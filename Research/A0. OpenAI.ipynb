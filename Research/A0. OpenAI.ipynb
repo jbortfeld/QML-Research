{
 "cells": [
  {
   "cell_type": "code",
   "execution_count": 1,
   "metadata": {},
   "outputs": [],
   "source": [
    "import pandas as pd\n",
    "from openai import OpenAI\n",
    "import ast\n",
    "import tqdm\n",
    "from Py_Files import credentials"
   ]
  },
  {
   "cell_type": "markdown",
   "metadata": {},
   "source": [
    "# CHATGPT LLM"
   ]
  },
  {
   "cell_type": "code",
   "execution_count": 2,
   "metadata": {},
   "outputs": [],
   "source": []
  },
  {
   "cell_type": "code",
   "execution_count": null,
   "metadata": {},
   "outputs": [],
   "source": []
  },
  {
   "cell_type": "code",
   "execution_count": null,
   "metadata": {},
   "outputs": [],
   "source": [
    "client = OpenAI(api_key=credentials.OPENAI_API_KEY)\n",
    "\n",
    "tickers_with_q_df = pd.read_csv('/Users/joeybortfeld/Downloads/tickers_with_q.csv')\n",
    "\n",
    "\n",
    "name_list = list(zip(tickers_with_q_df['Name1'].tolist(), tickers_with_q_df['Name2'].tolist()))\n",
    "\n",
    "\n",
    "def ask_chatgpt(prompt):\n",
    "\n",
    "    completion = client.chat.completions.create(\n",
    "        model=\"gpt-4o\",\n",
    "        messages=[\n",
    "            {\"role\": \"system\", \"content\": \"You are a helpful assistant.\"},\n",
    "            {\n",
    "                \"role\": \"user\",\n",
    "                \"content\": my_prompt\n",
    "            }\n",
    "        ]\n",
    "    )\n",
    "\n",
    "    return completion\n",
    "    return completion.choices[0].message.content\n",
    "\n",
    "\n",
    "\n",
    "all_results = []\n",
    "error_list = []\n",
    "print('name count:', len(name_list))\n",
    "\n",
    "for this_name in tqdm.tqdm(name_list[:15]):\n",
    "\n",
    "    this_name1, this_name2 = this_name\n",
    "\n",
    "    try:\n",
    "        my_prompt = f\"Did {this_name}1, which may also be known as {this_name2}, ever declare bankruptcy? Answer with only a tuple of three elements. THe first element is 'yes' or 'no'. The second element is the date of the bankruptcy if yes otherwise None. The third element is a short text paragraph describing the bankruptcy not to exceed four sentences but if there was no bankruptcy then return an explanation. The paragraph should be wrapped in double quotes. If you do not know the answer return with a tuple of form ('unknown', 'None', 'NA')\"\n",
    "        result = ask_chatgpt(my_prompt)\n",
    "\n",
    "\n",
    "        # SPECIAL CASE: the answer is returned as a string tuple. Reformat to actual tuple\n",
    "        # result = ast.literal_eval(result)\n",
    "        all_results.append([this_name1, this_name2, result])\n",
    "\n",
    "    except:\n",
    "        print('--error on:', this_name)\n",
    "        print(result)\n",
    "        error_list.append(this_name)\n",
    "\n",
    "\n",
    "all_results2 = []\n",
    "for i in range(len(all_results)):\n",
    "    \n",
    "    try:\n",
    "\n",
    "        e = all_results[i]\n",
    "        name1 = e[0]\n",
    "        name2 = e[1]\n",
    "\n",
    "        # parse the response from ChatGPT which is a string and convert it into a tuple\n",
    "        result_tuple = ast.literal_eval(e[2])\n",
    "        \n",
    "        result_tuple = [name1, name2] + list(result_tuple)\n",
    "        all_results2.append(result_tuple)\n",
    "    except:\n",
    "        print(f'error on {i}')\n",
    "\n",
    "df2 = pd.DataFrame(all_results2, columns=['name1', 'name2', 'bankruptcy', 'date', 'description'])\n",
    "\n",
    "# df2.to_csv('/Users/joeybortfeld/Downloads/sample_bankruptcies_chatgpt.csv', index=False)\n",
    "df2"
   ]
  },
  {
   "cell_type": "code",
   "execution_count": 6,
   "metadata": {},
   "outputs": [],
   "source": [
    "this_name1 = \"microsoft\"\n",
    "this_name2 = 'Microsoft Corp'\n",
    "my_prompt = f\"Did {this_name1}, which may also be known as {this_name2}, ever declare bankruptcy? Answer with only a tuple of three elements. THe first element is 'yes' or 'no'. The second element is the date of the bankruptcy if yes otherwise None. The third element is a short text paragraph describing the bankruptcy not to exceed four sentences but if there was no bankruptcy then return an explanation. The paragraph should be wrapped in double quotes. If you do not know the answer return with a tuple of form ('unknown', 'None', 'NA')\"\n",
    "result = ask_chatgpt(my_prompt)"
   ]
  },
  {
   "cell_type": "code",
   "execution_count": null,
   "metadata": {},
   "outputs": [],
   "source": [
    "# ompletion.choices[0].message.content\n",
    "ast.literal_eval(result.choices[0].message.content)"
   ]
  },
  {
   "cell_type": "code",
   "execution_count": null,
   "metadata": {},
   "outputs": [],
   "source": [
    "# SAMPLE CODE FROM OPENAI TUTORIAL\n",
    "# OpenAI: https://platform.openai.com\n",
    "\n",
    "from openai import OpenAI\n",
    "client = OpenAI(OPENAI_API_KEY)\n",
    "\n",
    "completion = client.chat.completions.create(\n",
    "    model=\"gpt-4o-mini\",\n",
    "    messages=[\n",
    "        {\"role\": \"system\", \"content\": \"You are a helpful assistant.\"},\n",
    "        {\n",
    "            \"role\": \"user\",\n",
    "            \"content\": \"Write a haiku about recursion in programming.\"\n",
    "        }\n",
    "    ]\n",
    ")\n",
    "\n",
    "print(completion.choices[0].message)"
   ]
  },
  {
   "cell_type": "markdown",
   "metadata": {},
   "source": [
    "# CLAUDE LLM"
   ]
  },
  {
   "cell_type": "code",
   "execution_count": null,
   "metadata": {},
   "outputs": [],
   "source": [
    "\n",
    "\n",
    "\n",
    "from anthropic import Anthropic\n",
    "\n",
    "def classify_sector_from_description_anthropic(description, classes):\n",
    "\n",
    "    client = Anthropic(api_key=credentials.ANTHROPIC_API_KEY)\n",
    "\n",
    "    response = client.messages.create(\n",
    "    model=\"claude-3-haiku-20240307\",\n",
    "    max_tokens=1000,\n",
    "    messages=[\n",
    "        {\"role\": \"user\", \n",
    "         \"content\": f'''Given the following company description, classify the company into one of these \n",
    "         sectors: {', '.join(sector_classes)}.\\n\\nDescription: {this_des}\\n\\nSector:\\n\\n\n",
    "         Provide your response as a tuple where the first element is one of the sectors provided,\n",
    "         the second element is a measure of confidence in the classification from 0 to 100 and the third\n",
    "         element is your next best classification. Your response should just be the tuple and no other text'''}\n",
    "        ]\n",
    "    )\n",
    "\n",
    "    text_response = response.content[0].text\n",
    "    return ast.literal_eval(text_response)\n",
    "\n",
    "results = []\n",
    "for this_row in df_company_profiles.iterrows():\n",
    "\n",
    "    if this_row[0] % 50 == 0:\n",
    "        print('--', this_row[0])\n",
    "\n",
    "    this_des = this_row[1]['description']\n",
    "    this_symbol = this_row[1]['symbol']\n",
    "    this_name = this_row[1]['name']\n",
    "    this_industry = this_row[1]['industry']\n",
    "    this_sector = this_row[1]['sector']\n",
    "\n",
    "\n",
    "    # censor the company name from the description to prevent leakage \n",
    "    this_des = this_des.replace(this_name, 'XXX')\n",
    "    try:\n",
    "        llm_result = classify_sector_from_description_anthropic(this_des, sector_classes)\n",
    "        this_classification = llm_result[0]\n",
    "        this_confidence = llm_result[1]\n",
    "        this_next_best = llm_result[2]\n",
    "\n",
    "        this_classification = [this_symbol, this_classification, this_confidence, this_next_best]\n",
    "        results.append(this_classification)\n",
    "    except:\n",
    "        print(f'error on {this_symbol}')\n",
    "\n",
    "results = pd.DataFrame(results, columns=['symbol', 'classification', 'confidence', 'next_best'])\n",
    "results = df_company_profiles.merge(results, how='outer', on='symbol')\n",
    "print((results['sector'] == results['classification']).mean())"
   ]
  },
  {
   "cell_type": "markdown",
   "metadata": {},
   "source": [
    "# Bankruptcy Search"
   ]
  },
  {
   "cell_type": "markdown",
   "metadata": {},
   "source": [
    "input = ['104 Corporation', '104 Corp.']\n"
   ]
  }
 ],
 "metadata": {
  "kernelspec": {
   "display_name": "investment_analysis",
   "language": "python",
   "name": "python3"
  },
  "language_info": {
   "codemirror_mode": {
    "name": "ipython",
    "version": 3
   },
   "file_extension": ".py",
   "mimetype": "text/x-python",
   "name": "python",
   "nbconvert_exporter": "python",
   "pygments_lexer": "ipython3",
   "version": "3.12.2"
  }
 },
 "nbformat": 4,
 "nbformat_minor": 2
}
