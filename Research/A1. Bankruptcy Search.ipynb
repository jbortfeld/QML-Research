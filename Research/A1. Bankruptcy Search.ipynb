{
 "cells": [
  {
   "cell_type": "code",
   "execution_count": null,
   "metadata": {},
   "outputs": [],
   "source": [
    "%load_ext autoreload\n",
    "%autoreload 2\n",
    "\n",
    "import pandas as pd\n",
    "import numpy as np\n",
    "from Py_Files import bankruptcy_google_search as google_search\n",
    "from Py_Files import credentials\n",
    "from openai import OpenAI\n",
    "import ast\n",
    "import tqdm\n",
    "import time\n",
    "import duckduckgo_search\n",
    "\n",
    "\n"
   ]
  },
  {
   "cell_type": "markdown",
   "metadata": {},
   "source": [
    "# 0. Example Internet Search Using Google and DuckDuckGo\n"
   ]
  },
  {
   "cell_type": "code",
   "execution_count": null,
   "metadata": {},
   "outputs": [],
   "source": [
    "company_name = 'Tupperware'\n",
    "google_query = f'{company_name} declared bankruptcy chapter 11'\n",
    "results = google_search.google_bankruptcy_search(google_query, num_results=12)\n",
    "collection = []\n",
    "for r in results:\n",
    "    collection.append(' -- '.join([r.title, r.description, r.url]))\n",
    "collection"
   ]
  },
  {
   "cell_type": "code",
   "execution_count": null,
   "metadata": {},
   "outputs": [],
   "source": []
  },
  {
   "cell_type": "code",
   "execution_count": null,
   "metadata": {},
   "outputs": [],
   "source": [
    "results = duckduckgo_search.DDGS().text(\"Tupperware declared chapter 11 bankruptcy\", max_results=10)\n",
    "for result in results:\n",
    "    print(result[\"title\"])\n",
    "    print(result[\"href\"])\n",
    "    print(result[\"body\"])\n",
    "    print()\n"
   ]
  },
  {
   "cell_type": "code",
   "execution_count": null,
   "metadata": {},
   "outputs": [],
   "source": [
    "from duckduckgo_search import DDGS\n",
    "\n",
    "results = DDGS().text(\"WHen did napoleon die?\", max_results=5, backend='html')\n",
    "print(results)"
   ]
  },
  {
   "cell_type": "code",
   "execution_count": null,
   "metadata": {},
   "outputs": [],
   "source": [
    "def bankruptcy_search_pipeline(company_name, max_results=5, openai_client=None):\n",
    "    \n",
    "    # query using duckduckgo\n",
    "    results = duckduckgo_search.DDGS().text(f\"Did {company_name} ever declare bankruptcy\", max_results=5)\n",
    "\n",
    "    # iterate over each seach engine result\n",
    "    for r in results:\n",
    "\n",
    "        chat_gpt_query = f'''I want you to help me analyze the following search engine result. It is a paragraph of text.\n",
    "        I want to know if the text indicates that the company \"{company_name}\" went into bankruptcy. Make sure that the company went into bankruptcy and not a different company.\n",
    "        If it did go into bankruptcy, I also want to know the date of the bankruptcy. Return your answer as text with only the following three elements: \n",
    "        The first element is either \"yes\" or \"no\". The second element is the date of the bankruptcy in \"yyyy-mm-dd\" format. If the company\n",
    "        did not go into bankruptcy, the second element should be \"N/A\". If you cannot determine the date of the bankruptcy the second element\n",
    "        should be \"N/A\". The third element is a score between 1 and 5 of how confident you are in your answer. 5 is the most confident and 1 is\n",
    "          the least confident. Return your answer as text with \"|\" pipe delimited to separate the three elements. Here is the search engine result:\n",
    "          {r[\"title\"]} {r[\"body\"]}'''\n",
    "        \n",
    "        # analyze search engine results using chatgpt\n",
    "        completion = openai_client.chat.completions.create(\n",
    "            model=\"gpt-4o-mini\",\n",
    "            messages=[{\"role\": \"system\", \"content\": \"You are a helpful assistant that analyzes search engine results.\"}, \n",
    "                      {\"role\": \"user\", \n",
    "                       \"content\": chat_gpt_query}]\n",
    "        )\n",
    "\n",
    "        llm_result = completion.choices[0].message.content\n",
    "\n",
    "        # if we found confirmation of bankruptcy, add the result to the collection\n",
    "        is_bankruptcy = llm_result.split(\"|\")[0]\n",
    "        if is_bankruptcy == 'yes':\n",
    "            bankruptcy_date = llm_result.split(\"|\")[1]\n",
    "            bankruptcy_confidence = llm_result.split(\"|\")[2]\n",
    "            return [company_name, is_bankruptcy, bankruptcy_confidence, bankruptcy_date, r[\"title\"], r[\"body\"], r[\"href\"]]\n",
    "\n",
    "\n",
    "    return [company_name, \"no\", \"N/A\", \"N/A\",\"N/A\",\"N/A\",]\n",
    "\n",
    "def batch_bankruptcy_search_pipeline(company_list:list, max_results:int=9, openai_client=None):\n",
    "\n",
    "    collection = []\n",
    "    error_list = []\n",
    "    for this_company in tqdm.tqdm(company_list):\n",
    "        \n",
    "        try:\n",
    "            result = bankruptcy_search_pipeline(company_name=this_company,\n",
    "                                            max_results=max_results,\n",
    "                                            openai_client=openai_client)\n",
    "            collection.append(result)\n",
    "\n",
    "            time.sleep(1)\n",
    "            \n",
    "        except:\n",
    "            error_list.append(this_company)\n",
    "\n",
    "\n",
    "    return pd.DataFrame(collection, columns=['company_name', 'is_bankruptcy', 'confidence', 'bankruptcy_date', 'title', 'body', 'url']), error_list\n",
    "\n",
    "\n",
    "# openai_client = OpenAI(api_key=credentials.OPENAI_API_KEY)\n",
    "# bankruptcy_search_pipeline(company_name='Worlcom', max_results=9, openai_client=openai_client)\n",
    "high_pd = pd.read_csv('/Users/joeybortfeld/Downloads/high_pd_no_default_5.csv', encoding='latin_1')\n",
    "review_list = high_pd['name1'].tolist()\n",
    "fsym_list = high_pd['fsym_id'].tolist()\n",
    "\n",
    "results, error_list = batch_bankruptcy_search_pipeline(company_list=review_list,\n",
    "                                           max_results=9,\n",
    "                                           openai_client=openai_client)\n",
    "\n",
    "results['fsym_id'] = fsym_list[:results.shape[0]]\n",
    "results\n",
    "\n"
   ]
  },
  {
   "cell_type": "code",
   "execution_count": null,
   "metadata": {},
   "outputs": [],
   "source": [
    "results.to_csv('/Users/joeybortfeld/Downloads/bankruptcy_search_results_20250217.csv', index=False)"
   ]
  },
  {
   "cell_type": "code",
   "execution_count": null,
   "metadata": {},
   "outputs": [],
   "source": []
  },
  {
   "cell_type": "code",
   "execution_count": null,
   "metadata": {},
   "outputs": [],
   "source": []
  },
  {
   "cell_type": "code",
   "execution_count": null,
   "metadata": {},
   "outputs": [],
   "source": []
  },
  {
   "cell_type": "code",
   "execution_count": null,
   "metadata": {},
   "outputs": [],
   "source": []
  },
  {
   "cell_type": "code",
   "execution_count": null,
   "metadata": {},
   "outputs": [],
   "source": []
  },
  {
   "cell_type": "code",
   "execution_count": null,
   "metadata": {},
   "outputs": [],
   "source": []
  },
  {
   "cell_type": "code",
   "execution_count": null,
   "metadata": {},
   "outputs": [],
   "source": []
  },
  {
   "cell_type": "code",
   "execution_count": null,
   "metadata": {},
   "outputs": [],
   "source": []
  },
  {
   "cell_type": "code",
   "execution_count": null,
   "metadata": {},
   "outputs": [],
   "source": []
  },
  {
   "cell_type": "code",
   "execution_count": null,
   "metadata": {},
   "outputs": [],
   "source": []
  },
  {
   "cell_type": "code",
   "execution_count": null,
   "metadata": {},
   "outputs": [],
   "source": []
  }
 ],
 "metadata": {
  "kernelspec": {
   "display_name": "investment_analysis",
   "language": "python",
   "name": "python3"
  },
  "language_info": {
   "codemirror_mode": {
    "name": "ipython",
    "version": 3
   },
   "file_extension": ".py",
   "mimetype": "text/x-python",
   "name": "python",
   "nbconvert_exporter": "python",
   "pygments_lexer": "ipython3",
   "version": "3.12.8"
  }
 },
 "nbformat": 4,
 "nbformat_minor": 2
}
