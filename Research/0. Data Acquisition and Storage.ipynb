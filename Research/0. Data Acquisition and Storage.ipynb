{
 "cells": [
  {
   "cell_type": "code",
   "execution_count": null,
   "metadata": {},
   "outputs": [],
   "source": [
    "%load_ext autoreload\n",
    "%autoreload 2\n",
    "\n",
    "import requests\n",
    "import json\n",
    "import pandas as pd\n",
    "import numpy as np\n",
    "from requests.packages.urllib3.exceptions import InsecureRequestWarning\n",
    "requests.packages.urllib3.disable_warnings(InsecureRequestWarning)\n",
    "import time\n",
    "import datetime\n",
    "import re\n",
    "import tqdm\n",
    "import os\n",
    "import boto3\n",
    "from Py_Files import credentials\n",
    "from Py_Files import factset_api\n",
    "from Py_Files import factset_fields\n",
    "from Py_Files import aws_s3\n",
    "\n",
    "data_dir = '/Users/joeybortfeld/Documents/QML Solutions Data/'\n",
    "s3_dir = 's3://qml-research-data/'"
   ]
  },
  {
   "cell_type": "code",
   "execution_count": null,
   "metadata": {},
   "outputs": [],
   "source": []
  },
  {
   "cell_type": "code",
   "execution_count": null,
   "metadata": {},
   "outputs": [],
   "source": []
  },
  {
   "cell_type": "markdown",
   "metadata": {},
   "source": [
    "# 0. Load the Factset Universe (All Fsym IDS) into Dictionary"
   ]
  },
  {
   "cell_type": "code",
   "execution_count": null,
   "metadata": {},
   "outputs": [],
   "source": [
    "factset_universe = pd.read_csv(data_dir + '/universe_and_traits/qml_universe_ids.csv')\n",
    "\n",
    "universe_dict = factset_api.load_universe_dict(factset_universe)\n"
   ]
  },
  {
   "cell_type": "code",
   "execution_count": null,
   "metadata": {},
   "outputs": [],
   "source": []
  },
  {
   "cell_type": "markdown",
   "metadata": {},
   "source": [
    "# 1. Download Assets in USD using the Factset Fundamentals API"
   ]
  },
  {
   "cell_type": "code",
   "execution_count": null,
   "metadata": {},
   "outputs": [],
   "source": [
    "error_list = factset_api.batch_fundamental_download(fsym_list=universe_dict['us_nonfin_1m'],\n",
    "                               field_list=['FF_ASSETS'],\n",
    "                               currency='USD',\n",
    "                               periodicity_list=[\n",
    "                                                'quarterly', \n",
    "                                                #  'annual',\n",
    "                                                #  'semi_annual'\n",
    "                                                 ],\n",
    "                               start_date='1990-01-01',\n",
    "                               end_date='2024-12-31',\n",
    "                               skip_if_done=True,\n",
    "                               output_folder=data_dir + 'factset_data/factset_assets_in_usd/',\n",
    "                               factset_api_authorization=credentials.factset_api_authorization)\n",
    "    "
   ]
  },
  {
   "cell_type": "markdown",
   "metadata": {},
   "source": [
    "# 2. Download All Metrics in Local Currency using the Factset Fundamentals API"
   ]
  },
  {
   "cell_type": "code",
   "execution_count": null,
   "metadata": {},
   "outputs": [],
   "source": [
    "fund_fields_to_download = [c.upper() for c in factset_fields.fundamental_fields]\n",
    "\n",
    "error_list = factset_api.batch_fundamental_download(\n",
    "                                fsym_list=universe_dict['us_nonfin_1m'],\n",
    "                               field_list=fund_fields_to_download,\n",
    "                               currency='LOCAL',\n",
    "                               periodicity_list=[\n",
    "                                                'annual',\n",
    "                                                 'quarterly', \n",
    "                                                #  'semi_annual'\n",
    "                                                 ],\n",
    "                               start_date='1990-01-01',\n",
    "                               end_date='2024-12-31',\n",
    "                               skip_if_done=False,\n",
    "                               output_folder=data_dir+'factset_data/factset_fundamentals/',\n",
    "                               factset_api_authorization=credentials.factset_api_authorization)\n",
    "    "
   ]
  },
  {
   "cell_type": "code",
   "execution_count": null,
   "metadata": {},
   "outputs": [],
   "source": []
  },
  {
   "cell_type": "code",
   "execution_count": null,
   "metadata": {},
   "outputs": [],
   "source": []
  },
  {
   "cell_type": "code",
   "execution_count": null,
   "metadata": {},
   "outputs": [],
   "source": []
  },
  {
   "cell_type": "code",
   "execution_count": null,
   "metadata": {},
   "outputs": [],
   "source": []
  },
  {
   "cell_type": "code",
   "execution_count": null,
   "metadata": {},
   "outputs": [],
   "source": []
  },
  {
   "cell_type": "code",
   "execution_count": null,
   "metadata": {},
   "outputs": [],
   "source": []
  },
  {
   "cell_type": "code",
   "execution_count": null,
   "metadata": {},
   "outputs": [],
   "source": []
  },
  {
   "cell_type": "code",
   "execution_count": null,
   "metadata": {},
   "outputs": [],
   "source": []
  },
  {
   "cell_type": "code",
   "execution_count": null,
   "metadata": {},
   "outputs": [],
   "source": []
  },
  {
   "cell_type": "code",
   "execution_count": null,
   "metadata": {},
   "outputs": [],
   "source": []
  },
  {
   "cell_type": "code",
   "execution_count": null,
   "metadata": {},
   "outputs": [],
   "source": []
  },
  {
   "cell_type": "code",
   "execution_count": null,
   "metadata": {},
   "outputs": [],
   "source": []
  },
  {
   "cell_type": "code",
   "execution_count": null,
   "metadata": {},
   "outputs": [],
   "source": []
  },
  {
   "cell_type": "code",
   "execution_count": null,
   "metadata": {},
   "outputs": [],
   "source": []
  },
  {
   "cell_type": "markdown",
   "metadata": {},
   "source": [
    "# 3. Download Equity Price, Shares and Returns using the Factset Global Prices API"
   ]
  },
  {
   "cell_type": "code",
   "execution_count": null,
   "metadata": {},
   "outputs": [],
   "source": [
    "response = factset_api.batch_get_stock_data(metric='prices', \n",
    "                                fsym_list=universe_dict['us_nonfin_1m'], \n",
    "                                  start_date='2006-01-03', \n",
    "                                  end_date='2024-12-31', \n",
    "                                  frequency='D',\n",
    "                                  verbose=True,\n",
    "                                  authorization=credentials.factset_api_authorization,\n",
    "                                  skip_if_done=True,\n",
    "                                  output_folder='/Users/joeybortfeld/Documents/QML Solutions Data/factset_data/factset_equity/prices SPLIT/')\n",
    "\n",
    "response = factset_api.batch_get_stock_data(metric='returns', \n",
    "                                fsym_list=universe_dict['us_nonfin_1m'], \n",
    "                                  start_date='2006-01-03', \n",
    "                                  end_date='2024-12-31', \n",
    "                                  frequency='D',\n",
    "                                  verbose=True,\n",
    "                                  authorization=credentials.factset_api_authorization,\n",
    "                                  skip_if_done=True,\n",
    "                                  output_folder='/Users/joeybortfeld/Documents/QML Solutions Data/factset_data/factset_equity/returns/')\n",
    "\n"
   ]
  },
  {
   "cell_type": "code",
   "execution_count": null,
   "metadata": {},
   "outputs": [],
   "source": []
  },
  {
   "cell_type": "code",
   "execution_count": null,
   "metadata": {},
   "outputs": [],
   "source": [
    "# prices_files = [i.split('.')[0] for i in os.listdir('/Users/joeybortfeld/Documents/QML Solutions Data/factset_data/factset_equity/prices SPLIT/')]\n",
    "\n",
    "small_list = universe_dict['us_nonfin_1m']\n",
    "big_list = universe_dict['us_nonfin_1b']\n",
    "small_list = [i for i in small_list if i not in big_list]\n",
    "small_list = [i for i in small_list if i in prices_files]\n",
    "\n",
    "\n",
    "\n",
    "# 0. get start price date per each fsym\n",
    "# (the shares outstanding API is finicky, if you specify a start date prior to availabale data it will fail.\n",
    "# therefore we need to estimate the first available date for each fsym by using the first price date for each fsym.\n",
    "# using that date, repeatedly try subsequent month end dates until the API returns data. )\n",
    "\n",
    "# build a dictionary of start dates for each fsym\n",
    "# prices_starts_dict = {}\n",
    "# for f in tqdm.tqdm(prices_files):\n",
    "#     df = pd.read_csv(f'/Users/joeybortfeld/Documents/QML Solutions Data/factset_data/factset_equity/prices SPLIT/{f}.csv')\n",
    "#     df = df[df['price'].notnull()]\n",
    "#     df = df[df['price'] != 0]\n",
    "#     start_date = df['date'].min()\n",
    "#     prices_starts_dict[f] = start_date\n",
    "\n",
    "# print(len(prices_starts_dict))\n",
    "\n",
    "response = factset_api.batch_get_shares_outanding(fsym_list=['DG71WP-R'], \n",
    "                                  end_date='2024-12-31', \n",
    "                                  start_date_dict=prices_starts_dict,\n",
    "                                  frequency='M',\n",
    "                                  verbose=True,\n",
    "                                  authorization=credentials.factset_api_authorization,\n",
    "                                  skip_if_done=True,\n",
    "                                  output_folder='/Users/joeybortfeld/Documents/QML Solutions Data/factset_data/factset_equity/shares/')\n",
    "\n"
   ]
  },
  {
   "cell_type": "code",
   "execution_count": null,
   "metadata": {},
   "outputs": [],
   "source": [
    "temp = factset_api.get_shares_outanding(id_list=['DG71WP-R'], \n",
    "                               start_date='2013-01-03', \n",
    "                     end_date='2024-12-31', \n",
    "                     frequency='M',\n",
    "                     verbose=True,\n",
    "                     authorization=credentials.factset_api_authorization,)\n",
    "\n",
    "print(temp[0])\n",
    "temp[1].columns"
   ]
  },
  {
   "cell_type": "code",
   "execution_count": null,
   "metadata": {},
   "outputs": [],
   "source": []
  },
  {
   "cell_type": "code",
   "execution_count": null,
   "metadata": {},
   "outputs": [],
   "source": []
  },
  {
   "cell_type": "code",
   "execution_count": null,
   "metadata": {},
   "outputs": [],
   "source": []
  },
  {
   "cell_type": "code",
   "execution_count": null,
   "metadata": {},
   "outputs": [],
   "source": []
  },
  {
   "cell_type": "code",
   "execution_count": null,
   "metadata": {},
   "outputs": [],
   "source": []
  },
  {
   "cell_type": "code",
   "execution_count": null,
   "metadata": {},
   "outputs": [],
   "source": []
  },
  {
   "cell_type": "code",
   "execution_count": null,
   "metadata": {},
   "outputs": [],
   "source": [
    "\n"
   ]
  },
  {
   "cell_type": "code",
   "execution_count": null,
   "metadata": {},
   "outputs": [],
   "source": []
  },
  {
   "cell_type": "code",
   "execution_count": null,
   "metadata": {},
   "outputs": [],
   "source": []
  },
  {
   "cell_type": "code",
   "execution_count": null,
   "metadata": {},
   "outputs": [],
   "source": []
  },
  {
   "cell_type": "code",
   "execution_count": null,
   "metadata": {},
   "outputs": [],
   "source": []
  },
  {
   "cell_type": "code",
   "execution_count": null,
   "metadata": {},
   "outputs": [],
   "source": []
  },
  {
   "cell_type": "code",
   "execution_count": null,
   "metadata": {},
   "outputs": [],
   "source": []
  },
  {
   "cell_type": "code",
   "execution_count": null,
   "metadata": {},
   "outputs": [],
   "source": []
  },
  {
   "cell_type": "code",
   "execution_count": null,
   "metadata": {},
   "outputs": [],
   "source": []
  },
  {
   "cell_type": "code",
   "execution_count": null,
   "metadata": {},
   "outputs": [],
   "source": []
  },
  {
   "cell_type": "code",
   "execution_count": null,
   "metadata": {},
   "outputs": [],
   "source": []
  },
  {
   "cell_type": "code",
   "execution_count": null,
   "metadata": {},
   "outputs": [],
   "source": []
  },
  {
   "cell_type": "code",
   "execution_count": null,
   "metadata": {},
   "outputs": [],
   "source": []
  },
  {
   "cell_type": "code",
   "execution_count": null,
   "metadata": {},
   "outputs": [],
   "source": []
  },
  {
   "cell_type": "code",
   "execution_count": null,
   "metadata": {},
   "outputs": [],
   "source": []
  },
  {
   "cell_type": "code",
   "execution_count": null,
   "metadata": {},
   "outputs": [],
   "source": []
  },
  {
   "cell_type": "code",
   "execution_count": null,
   "metadata": {},
   "outputs": [],
   "source": []
  },
  {
   "cell_type": "code",
   "execution_count": null,
   "metadata": {},
   "outputs": [],
   "source": []
  },
  {
   "cell_type": "code",
   "execution_count": null,
   "metadata": {},
   "outputs": [],
   "source": []
  },
  {
   "cell_type": "code",
   "execution_count": null,
   "metadata": {},
   "outputs": [],
   "source": []
  },
  {
   "cell_type": "code",
   "execution_count": null,
   "metadata": {},
   "outputs": [],
   "source": []
  },
  {
   "cell_type": "code",
   "execution_count": null,
   "metadata": {},
   "outputs": [],
   "source": []
  },
  {
   "cell_type": "code",
   "execution_count": null,
   "metadata": {},
   "outputs": [],
   "source": []
  },
  {
   "cell_type": "markdown",
   "metadata": {},
   "source": [
    "# 3. Review Downloaded Data on Local Storage and Upload to S3"
   ]
  },
  {
   "cell_type": "code",
   "execution_count": null,
   "metadata": {},
   "outputs": [],
   "source": [
    "# list the file counts stored locally\n",
    "\n",
    "folder_list = [\n",
    "    '/Users/joeybortfeld/Documents/QML Solutions Data/factset_data/factset_fundamentals/annual/',\n",
    "    '/Users/joeybortfeld/Documents/QML Solutions Data/factset_data/factset_fundamentals/quarterly/',\n",
    "    '/Users/joeybortfeld/Documents/QML Solutions Data/factset_data/factset_fundamentals/semi_annual/',\n",
    "\n",
    "    '/Users/joeybortfeld/Documents/QML Solutions Data/factset_data/factset_assets_in_usd/annual/',\n",
    "    '/Users/joeybortfeld/Documents/QML Solutions Data/factset_data/factset_assets_in_usd/semi_annual/',\n",
    "\n",
    "    '/Users/joeybortfeld/Documents/QML Solutions Data/factset_data/factset_equity/shares/',\n",
    "    '/Users/joeybortfeld/Documents/QML Solutions Data/factset_data/factset_equity/prices/',\n",
    "    '/Users/joeybortfeld/Documents/QML Solutions Data/factset_data/factset_equity/returns/',\n",
    "]\n",
    "\n",
    "for this_folder in folder_list:\n",
    "\n",
    "    file_list = os.listdir(this_folder)\n",
    "    \n",
    "    # print the file count in each folder\n",
    "    print(this_folder, len(file_list))\n",
    "\n",
    "    for this_file in tqdm.tqdm(file_list):\n",
    "        aws_s3.copy_file_to_s3(local_file_path=this_folder + this_file, \n",
    "                                s3_bucket='qml-solutions-new-york', \n",
    "                                s3_key='factset-api-fundamentals/', \n",
    "                                aws_access_key_id=credentials.aws_access_key_id, \n",
    "                                aws_secret_access_key=credentials.aws_secret_access_key,\n",
    "                                verbose=True)\n",
    "    \n"
   ]
  },
  {
   "cell_type": "code",
   "execution_count": null,
   "metadata": {},
   "outputs": [],
   "source": [
    "# transfer local files to s3\n",
    "\n",
    "\n",
    "folder_list = [\n",
    "    '/Users/joeybortfeld/Documents/CreditGradients Data/Factset Data/factset_fundamentals/annual/',\n",
    "    '/Users/joeybortfeld/Documents/CreditGradients Data/Factset Data/factset_fundamentals/quarterly/',\n",
    "    '/Users/joeybortfeld/Documents/CreditGradients Data/Factset Data/factset_fundamentals/semi_annual/',\n",
    "\n",
    "    '/Users/joeybortfeld/Documents/CreditGradients Data/Factset Data/factset_assets_in_usd/annual/',\n",
    "    '/Users/joeybortfeld/Documents/CreditGradients Data/Factset Data/factset_assets_in_usd/semi_annual/',\n",
    "]\n",
    "\n",
    "for this_folder in folder_list:\n",
    "    file_list = os.listdir(this_folder)\n",
    "    \n",
    "    print(this_folder, len(file_list))\n",
    "\n",
    "    for this_file in tqdm.tqdm(file_list):\n",
    "        aws_s3.copy_file_to_s3(local_file_path=this_folder + this_file, \n",
    "                                s3_bucket='qml-solutions-new-york', \n",
    "                                s3_key='XXXXXXXXXXXXXXX',\n",
    "                                aws_access_key_id=credentials.aws_access_key_id, \n",
    "                                aws_secret_access_key=credentials.aws_secret_access_key,\n",
    "                                verbose=True)\n",
    "        \n"
   ]
  },
  {
   "cell_type": "markdown",
   "metadata": {},
   "source": [
    "# DONE"
   ]
  },
  {
   "cell_type": "markdown",
   "metadata": {},
   "source": []
  },
  {
   "cell_type": "code",
   "execution_count": null,
   "metadata": {},
   "outputs": [],
   "source": []
  },
  {
   "cell_type": "markdown",
   "metadata": {},
   "source": [
    "# Housekeeping"
   ]
  },
  {
   "cell_type": "code",
   "execution_count": null,
   "metadata": {},
   "outputs": [],
   "source": []
  },
  {
   "cell_type": "markdown",
   "metadata": {},
   "source": [
    "# Copy Files from Local Directory to AWS S3"
   ]
  },
  {
   "cell_type": "code",
   "execution_count": null,
   "metadata": {},
   "outputs": [],
   "source": [
    "# MULTITHREAD BULK UPLOAD FROM LOCAL TO S3\n",
    "\n",
    "from concurrent.futures import ThreadPoolExecutor\n",
    "from botocore.exceptions import BotoCoreError, ClientError\n",
    "\n",
    "\n",
    "def upload_file_to_s3(local_file_path, bucket_name, s3_key, s3_client):\n",
    "    \"\"\"\n",
    "    Uploads a single file to S3.\n",
    "    \"\"\"\n",
    "    try:\n",
    "        s3_client.upload_file(local_file_path, bucket_name, s3_key)\n",
    "        return True\n",
    "    except (BotoCoreError, ClientError) as e:\n",
    "        print(f\"Error uploading {local_file_path} to {bucket_name}/{s3_key}: {e}\")\n",
    "        return False\n",
    "\n",
    "def bulk_upload_to_s3(local_dir, local_folder, bucket_name, aws_access_key_id, aws_secret_access_key, num_threads=8):\n",
    "    \"\"\"\n",
    "    Uploads all files in local_dir to the specified S3 bucket.\n",
    "    \"\"\"\n",
    "    # Initialize S3 client \n",
    "    s3_client = boto3.client(\n",
    "        's3',\n",
    "        aws_access_key_id=aws_access_key_id,\n",
    "        aws_secret_access_key=aws_secret_access_key\n",
    "    )\n",
    "\n",
    "    # Collect a list of local file names to transfer (aka 'MH33D6-R.csv', ''XQCWLZ-R.csv)\n",
    "\n",
    "    target_folder = local_folder.replace('_', '-')\n",
    "    local_file_list = os.listdir(local_dir + '/' + local_folder + '/')\n",
    "\n",
    "    local_path_list = [f'{local_dir}/{local_folder}/{f}' for f in local_file_list]\n",
    "    s3_key_list = [f'{target_folder}/{f}' for f in local_file_list]\n",
    "\n",
    "    from_to_list = list(zip(local_path_list, s3_key_list))\n",
    "\n",
    "    # diagnostics\n",
    "    print(f'transfer files from {local_dir}/{local_folder}')\n",
    "    print(f'transfer to s3 {bucket_name}/{target_folder}')\n",
    "    print('files to transfer:', len(from_to_list))\n",
    "\n",
    " \n",
    "    # Use ThreadPoolExecutor for parallel uploads\n",
    "    error_list = []\n",
    "    with ThreadPoolExecutor(max_workers=num_threads) as executor:\n",
    "        futures = []\n",
    "        for local_path, s3_key in from_to_list:\n",
    "            futures.append(\n",
    "                executor.submit(upload_file_to_s3, local_path, bucket_name, s3_key, s3_client)\n",
    "            )\n",
    "\n",
    "        # Track progress with tqdm\n",
    "        for future in tqdm.tqdm(futures, desc=\"Uploading files\"):\n",
    "            try:\n",
    "                if not future.result():\n",
    "                    # Add failed uploads to the list\n",
    "                    error_list.append(futures[future])\n",
    "            except Exception as e:\n",
    "                print(f\"Unexpected error: {e}\")\n",
    "                error_list.append(futures[future])\n",
    "\n",
    "    \n",
    "    # collect and retry errors\n",
    "    print(f\"Failed uploads: {len(error_list)}\")\n",
    "    final_error_list = []\n",
    "    if error_list:\n",
    "        print(\"Retrying failed uploads...\")\n",
    "        for local_path, s3_key in error_list:\n",
    "            success = upload_file_to_s3(local_path, bucket_name, s3_key, s3_client)\n",
    "            if not success:\n",
    "                print(f\"Final failure for {local_path}\")\n",
    "                final_error_list.append(local_path)\n",
    "\n",
    "    print(\"Upload process complete.\")\n",
    "    if len(final_error_list) == 0:\n",
    "        return True, []\n",
    "    else:\n",
    "        return False, final_error_list\n",
    "\n",
    "# Example usage\n",
    "\n",
    "    \n",
    "local_dir = '/Users/joeybortfeld/Documents/CreditGradients Data/Factset Data'\n",
    "bucket_name = 'qml-solutions-new-york'\n",
    "\n",
    "for local_folder in [\n",
    "\n",
    "    # 'factset_api_fundamentals_annual',\n",
    "    # 'factset_api_fundamentals_quarterly',\n",
    "    'factset_api_fundamentals_semi_annual',\n",
    "\n",
    "    'factset_api_fundamentals_annual_assets_in_usd',\n",
    "    'factset_api_fundamentals_semi_annual_assets_in_usd',\n",
    "\n",
    "    'factset_api_fundamentals_shares_outstanding_annual',\n",
    "    'factset_api_fundamentals_shares_outstanding_quarterly',\n",
    "    'factset_api_fundamentals_shares_outstanding_semi_annual',\n",
    "\n",
    "    'factset_api_stock_prices_split',\n",
    "    'factset_api_stock_returns',\n",
    "    ]:\n",
    "\n",
    "    success, error_list = bulk_upload_to_s3(\n",
    "        local_dir=local_dir,\n",
    "        local_folder=local_folder,\n",
    "        bucket_name=bucket_name,\n",
    "        aws_access_key_id=aws_credentials['key'],\n",
    "        aws_secret_access_key=aws_credentials['secret'],\n",
    "        num_threads=8  # Adjust number of threads based on your system's capabilities\n",
    "    )\n",
    "\n",
    "    print(success, error_list)\n",
    "    print()\n",
    "\n"
   ]
  },
  {
   "cell_type": "code",
   "execution_count": null,
   "metadata": {},
   "outputs": [],
   "source": []
  },
  {
   "cell_type": "code",
   "execution_count": null,
   "metadata": {},
   "outputs": [],
   "source": [
    "def s3_check_file_exists(bucket_name:str='qml-solutions-new-york', \n",
    "                         file_key:str='/factset-api-global-prices/B01DPB-R.csv', \n",
    "                         aws_access_key_id:str=None, \n",
    "                         aws_secret_access_key:str=None):\n",
    "    \n",
    "    s3 = boto3.client(\n",
    "        's3',\n",
    "        aws_access_key_id=aws_access_key_id,\n",
    "        aws_secret_access_key=aws_secret_access_key,\n",
    "    )\n",
    "    try:\n",
    "        s3.head_object(Bucket=bucket_name, Key=file_key)\n",
    "        return True\n",
    "    except s3.exceptions.ClientError:\n",
    "        return False\n",
    "\n",
    "\n",
    "s3_check_file_exists(bucket_name='qml-solutions-new-york', \n",
    "                         file_key='factset-api-stock-prices-split/MH33D6-R.csv', \n",
    "                         aws_access_key_id=aws_credentials['key'], \n",
    "                         aws_secret_access_key=aws_credentials['secret'])"
   ]
  },
  {
   "cell_type": "code",
   "execution_count": null,
   "metadata": {},
   "outputs": [],
   "source": [
    "\n",
    "temp = pd.read_csv('s3://qml-solutions-new-york/factset-api-global-prices/B01DPB-R.csv',\n",
    "                   storage_options=aws_credentials)\n",
    "temp"
   ]
  },
  {
   "cell_type": "code",
   "execution_count": null,
   "metadata": {},
   "outputs": [],
   "source": [
    "import boto3\n",
    "\n",
    "# Transfer file to AWS\n",
    "local_folder = '/Users/joeybortfeld/Documents/CreditGradients Data/factset_api_stock_prices/'\n",
    "s3_bucket = 'qml-solutions-new-york'\n",
    "\n",
    "\n",
    "\n",
    "def s3_check_file_exists(bucket_name:str='qml-solutions-new-york', \n",
    "                         file_key:str='/factset-api-global-prices/B01DPB-R.csv', \n",
    "                         aws_access_key_id:str=None, \n",
    "                         aws_secret_access_key:str=None):\n",
    "    \n",
    "    s3 = boto3.client(\n",
    "        's3',\n",
    "        aws_access_key_id=aws_access_key_id,\n",
    "        aws_secret_access_key=aws_secret_access_key,\n",
    "    )\n",
    "    try:\n",
    "        s3.head_object(Bucket=bucket_name, Key=file_key)\n",
    "        return True\n",
    "    except s3.exceptions.ClientError:\n",
    "        return False\n",
    "    \n",
    "# CHECK IF FILE EXISTS IN S3\n",
    "res = s3_check_file_exists(bucket_name=s3_bucket, \n",
    "                     file_key='factset-api-global-prices/B01DPB-R.csv', \n",
    "                     aws_access_key_id=aws_credentials['key'], \n",
    "                     aws_secret_access_key=aws_credentials['secret'])\n",
    "res"
   ]
  },
  {
   "cell_type": "code",
   "execution_count": null,
   "metadata": {},
   "outputs": [],
   "source": [
    "import boto3\n",
    "\n",
    "def list_s3_bucket_contents(bucket_name, prefix='', aws_access_key_id=None, aws_secret_access_key=None):\n",
    "    \"\"\"\n",
    "    List all items in an S3 bucket and subfolder.\n",
    "    \n",
    "    Parameters:\n",
    "    - bucket_name: str, name of the S3 bucket\n",
    "    - prefix: str, the folder path within the bucket (optional)\n",
    "    \n",
    "    Returns:\n",
    "    - List of file keys (paths) in the specified bucket and folder\n",
    "    \"\"\"\n",
    "    s3_client = boto3.client('s3', \n",
    "                             aws_access_key_id=aws_access_key_id,\n",
    "        aws_secret_access_key=aws_secret_access_key,)\n",
    "    paginator = s3_client.get_paginator('list_objects_v2')\n",
    "    \n",
    "    file_keys = []\n",
    "    for page in paginator.paginate(Bucket=bucket_name, Prefix=prefix):\n",
    "        if 'Contents' in page:\n",
    "            for obj in page['Contents']:\n",
    "                file_keys.append(obj['Key'])\n",
    "    \n",
    "    return file_keys\n",
    "\n",
    "\n",
    "\n",
    "# Usage example:\n",
    "bucket_name = 'qml-solutions-new-york'\n",
    "folder_path = 'factset-api-fundamentals-annual/'  # Optional\n",
    "file_list = list_s3_bucket_contents(bucket_name, folder_path, aws_access_key_id=aws_credentials2['key'], aws_secret_access_key=aws_credentials2['secret'])\n",
    "print(len(file_list))\n",
    "print(file_list[:15])\n"
   ]
  },
  {
   "cell_type": "code",
   "execution_count": null,
   "metadata": {},
   "outputs": [],
   "source": [
    "utilities.download_fundamentals(id_list=['MH33D6-R'],\n",
    "                                    field_list=['FF_BUS_DESC_ABBREV'],\n",
    "                                    # periodicity=download_type_dict[download_type][0],\n",
    "                                    # start_date=start_date,\n",
    "                                    # end_date=end_date,\n",
    "                                    # currency='USD',\n",
    "                                    # verbose=False,\n",
    "                                    # authorization=authorization\n",
    "                                    )\n",
    "\n"
   ]
  }
 ],
 "metadata": {
  "kernelspec": {
   "display_name": "investment_analysis",
   "language": "python",
   "name": "python3"
  },
  "language_info": {
   "codemirror_mode": {
    "name": "ipython",
    "version": 3
   },
   "file_extension": ".py",
   "mimetype": "text/x-python",
   "name": "python",
   "nbconvert_exporter": "python",
   "pygments_lexer": "ipython3",
   "version": "3.12.8"
  }
 },
 "nbformat": 4,
 "nbformat_minor": 2
}
